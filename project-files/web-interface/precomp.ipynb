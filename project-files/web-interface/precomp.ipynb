{
 "cells": [
  {
   "cell_type": "code",
   "execution_count": 16,
   "metadata": {},
   "outputs": [],
   "source": [
    "import numpy as np\n",
    "import pandas as pd\n",
    "import plotly.express as px\n",
    "from shapely.geometry import Polygon\n",
    "\n",
    "import sys\n",
    "sys.path.append('../')\n",
    "from helper_functions.gridding import h3_grid\n",
    "from func_import import load_data, load_geojson, plot_observation_count, plot_observation_municipality, plot_grid_map"
   ]
  },
  {
   "cell_type": "code",
   "execution_count": 17,
   "metadata": {},
   "outputs": [],
   "source": [
    "df = load_data()  \n",
    "df.dropna(subset=['Latitude', 'Longitude'], inplace=True)\n",
    "\n",
    "grid_object = h3_grid()\n",
    "grid_object.fit(df)\n",
    "df_h3 = grid_object.grid_info().sort_values('count')\n",
    "geojson_object = load_geojson(df_h3)"
   ]
  },
  {
   "cell_type": "code",
   "execution_count": 18,
   "metadata": {},
   "outputs": [],
   "source": [
    "fig = plot_observation_count(df)\n",
    "fig.write_html(\"./precomp_data/observation_count.html\")"
   ]
  },
  {
   "cell_type": "code",
   "execution_count": 19,
   "metadata": {},
   "outputs": [],
   "source": [
    "fig = plot_observation_municipality(df)\n",
    "fig.write_html(\"./precomp_data/observation_muni.html\")"
   ]
  },
  {
   "cell_type": "code",
   "execution_count": 22,
   "metadata": {},
   "outputs": [],
   "source": [
    "fig = plot_grid_map(df_h3, geojson_object)\n",
    "fig.write_html(\"./precomp_data/grid_map.html\")"
   ]
  }
 ],
 "metadata": {
  "kernelspec": {
   "display_name": "Python 3",
   "language": "python",
   "name": "python3"
  },
  "language_info": {
   "codemirror_mode": {
    "name": "ipython",
    "version": 3
   },
   "file_extension": ".py",
   "mimetype": "text/x-python",
   "name": "python",
   "nbconvert_exporter": "python",
   "pygments_lexer": "ipython3",
   "version": "3.10.4"
  }
 },
 "nbformat": 4,
 "nbformat_minor": 2
}
