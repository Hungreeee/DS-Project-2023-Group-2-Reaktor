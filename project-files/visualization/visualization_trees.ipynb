{
 "cells": [
  {
   "cell_type": "code",
   "execution_count": null,
   "metadata": {},
   "outputs": [],
   "source": [
    "import matplotlib.pyplot as plt\n",
    "import plotly.express as px\n",
    "import plotly.figure_factory as ff\n",
    "import geopandas as gpd\n",
    "from shapely.geometry import Polygon\n",
    "import h3\n",
    "import s2\n",
    "from geojson import Feature, Point, FeatureCollection\n",
    "import numpy as np\n",
    "from no_smoothing_trees.ipynb import df\n",
    "import pandas as pd"
   ]
  },
  {
   "cell_type": "code",
   "execution_count": null,
   "metadata": {},
   "outputs": [],
   "source": [
    "df_vis = df.copy()\n",
    "df_vis.dropna(subset=['lat', 'lon'], inplace=True)\n",
    "df_vis.head()"
   ]
  },
  {
   "cell_type": "code",
   "execution_count": null,
   "metadata": {},
   "outputs": [],
   "source": [
    "df_vis['municipality'].value_counts()"
   ]
  },
  {
   "cell_type": "code",
   "execution_count": null,
   "metadata": {},
   "outputs": [],
   "source": [
    "def geo_to_h3(row):\n",
    "  return h3.geo_to_h3(lat=row['lat'], lng=row['lon'], resolution = 5)\n",
    "\n",
    "df_vis['h3_cell'] = df_vis.apply(geo_to_h3, axis=1)\n",
    "df_vis_ag = df_vis.reset_index(drop=False)\n",
    "df_vis_ag"
   ]
  },
  {
   "cell_type": "code",
   "execution_count": null,
   "metadata": {},
   "outputs": [],
   "source": [
    "df_vis_agg = (df_vis_ag\n",
    "              .groupby('h3_cell')\n",
    "              .index\n",
    "              .agg(list)\n",
    "              .to_frame(\"ids\")\n",
    "              .reset_index())\n",
    "\n",
    "df_vis_agg['count'] = df_vis_agg['ids'].apply(lambda row: len(row))\n",
    "df_vis_agg"
   ]
  },
  {
   "cell_type": "code",
   "execution_count": null,
   "metadata": {},
   "outputs": [],
   "source": [
    "def add_geometry(row):\n",
    "  points = h3.h3_to_geo_boundary(row['h3_cell'], True)\n",
    "  return Polygon(points)\n",
    "\n",
    "df_vis_agg['geometry'] = df_vis_agg.apply(add_geometry,axis=1)\n",
    "df_vis_agg"
   ]
  },
  {
   "cell_type": "code",
   "execution_count": null,
   "metadata": {},
   "outputs": [],
   "source": [
    "def hex_to_geojson(df_hex, hex_id_field, geometry_field, value_field):\n",
    "  list_features = []\n",
    "  for i, row in df_hex.iterrows():\n",
    "    feature = Feature(geometry=row[geometry_field],\n",
    "                      id=row[hex_id_field],\n",
    "                      properties={'value': row[value_field]})\n",
    "    list_features.append(feature)\n",
    "    feat_collection = FeatureCollection(list_features)\n",
    "  return feat_collection\n",
    "\n",
    "geojson_obj = hex_to_geojson(df_vis_agg, hex_id_field='h3_cell', value_field='count', geometry_field='geometry')"
   ]
  },
  {
   "cell_type": "code",
   "execution_count": null,
   "metadata": {},
   "outputs": [],
   "source": [
    "def plot_observation_count(data: pd.DataFrame, category: str = 'all'):\n",
    "  if category != 'all':\n",
    "    data = data[data['scientificName'] == category]\n",
    "\n",
    "  month_count = data['date'].apply(lambda row: row[:7] if isinstance(row, str) else None).value_counts().sort_index()\n",
    "  fig = px.line(x=month_count.index, y=month_count.values)\n",
    "  fig.update_layout(title=f'Observations count for {category}',\n",
    "                    xaxis_title='Month',\n",
    "                    yaxis_title='Observations')\n",
    "  fig.show()\n",
    "\n",
    "plot_observation_count(df_vis)"
   ]
  },
  {
   "cell_type": "code",
   "execution_count": null,
   "metadata": {},
   "outputs": [],
   "source": [
    "def plot_observation_municipality(data: pd.DataFrame, category: str = 'all'):\n",
    "  if category != 'all':\n",
    "    data = data[data['scientificName'] == category]\n",
    "\n",
    "  mun_count = data['municipality'].value_counts().head(10)\n",
    "  fig = px.bar(x=mun_count.index, y=mun_count.values)\n",
    "  fig.update_layout(title=f'Top 10 municipality for {category}',\n",
    "                    xaxis_title='Municipality',\n",
    "                    yaxis_title='Observations')\n",
    "  fig.show()\n",
    "\n",
    "plot_observation_municipality(df_vis)"
   ]
  },
  {
   "cell_type": "code",
   "execution_count": null,
   "metadata": {},
   "outputs": [],
   "source": [
    "def plot_observation_comp(data: pd.DataFrame):\n",
    "  obs_count = data['scientificName'].value_counts().to_frame().reset_index()\n",
    "  obs_count.columns = ['scientificName', 'count']\n",
    "  obs_count_small = obs_count[obs_count['count'] < 250].sum().to_frame().T\n",
    "  obs_count_small.loc[0, 'scientificName'] = 'Others'\n",
    "  obs_count_agg = pd.concat([obs_count_small, obs_count[obs_count['count'] >= 250]])\n",
    "  fig = px.pie(obs_count_agg, values='count', names='scientificName')\n",
    "  fig.update_layout(title=f'Distributions of composing species')\n",
    "  fig.show()\n",
    "\n",
    "plot_observation_comp(df_vis)"
   ]
  },
  {
   "cell_type": "code",
   "execution_count": null,
   "metadata": {},
   "outputs": [],
   "source": [
    "def discrete_colorscale(bvals, colors):\n",
    "    \"\"\"\n",
    "    bvals - list of values bounding intervals/ranges of interest\n",
    "    colors - list of rgb or hex color codes for values in [bvals[k], bvals[k+1]],0<=k < len(bvals)-1\n",
    "    returns a nonuniform discrete colorscale\n",
    "    \"\"\"\n",
    "    if len(bvals) != len(colors)+1:\n",
    "        raise ValueError('len(boundary values) should be equal to  len(colors)+1')\n",
    "    bvals = sorted(bvals)\n",
    "    nvals = [(v-bvals[0])/(bvals[-1]-bvals[0]) for v in bvals]  #normalized values\n",
    "\n",
    "    dcolorscale = [] #discrete colorscale\n",
    "    for k in range(len(colors)):\n",
    "        dcolorscale.extend([[nvals[k], colors[k]], [nvals[k+1], colors[k]]])\n",
    "    return dcolorscale\n",
    "\n",
    "bvals= [1, 10, 100, 1000]\n",
    "colors=[\"#e62bf0\", \"#2026e3\", \"#26de26\"]\n",
    "discrete_nonuniform = discrete_colorscale(bvals, colors)\n",
    "\n",
    "bvals = np.array(bvals)\n",
    "tickvals = [np.mean(bvals[k:k+2]) for k in range(len(bvals)-1)]\n",
    "ticktext =  [f'{bvals[k]}-' for k in range(0, len(bvals)-1)]\n",
    "\n",
    "fig = px.choropleth_mapbox(\n",
    "    df_vis_agg,\n",
    "    geojson=geojson_obj,\n",
    "    color_continuous_scale=discrete_nonuniform,\n",
    "    locations='h3_cell',\n",
    "    color='count',\n",
    "    center=dict(lat=65, lon=24),\n",
    "    zoom=4.3,\n",
    "    width=600,\n",
    "    height=650,\n",
    "    opacity=0.3,\n",
    "    labels={'count': 'observations'},\n",
    "    mapbox_style=\"open-street-map\")\n",
    "\n",
    "fig.update_geos(projection_type='foucaut')\n",
    "\n",
    "fig.update_layout(\n",
    "      autosize=False,\n",
    "      margin = dict(l=0, r=0, b=0, t=0, pad=4, autoexpand=True),\n",
    "      coloraxis =dict(colorbar_thickness=25, colorbar_ticktext=ticktext, colorbar_tickvals=tickvals)\n",
    "    )\n",
    "fig.show()"
   ]
  }
 ],
 "metadata": {
  "language_info": {
   "name": "python"
  },
  "orig_nbformat": 4
 },
 "nbformat": 4,
 "nbformat_minor": 2
}
