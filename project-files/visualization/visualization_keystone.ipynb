{
 "cells": [
  {
   "cell_type": "code",
   "execution_count": 144,
   "metadata": {},
   "outputs": [],
   "source": [
    "import numpy as np\n",
    "import pandas as pd\n",
    "import plotly.express as px\n",
    "import plotly.graph_objects as go\n",
    "from plotly.subplots import make_subplots\n",
    "from scipy.stats import ttest_rel\n",
    "\n",
    "import sys\n",
    "sys.path.append('../')\n",
    "from helper_functions.gridding import h3_grid\n",
    "from helper_functions.inference_models import ActualDistribution\n",
    "from helper_functions.metrics import generate_richness_frame, generate_shannon_frame, generate_simpson_frame\n",
    "from web_interface.func_import import load_data"
   ]
  },
  {
   "cell_type": "markdown",
   "metadata": {},
   "source": [
    "# Yellow breasted bunting\n",
    "## Time analysis"
   ]
  },
  {
   "cell_type": "code",
   "execution_count": 3,
   "metadata": {},
   "outputs": [
    {
     "data": {
      "text/html": [
       "<div>\n",
       "<style scoped>\n",
       "    .dataframe tbody tr th:only-of-type {\n",
       "        vertical-align: middle;\n",
       "    }\n",
       "\n",
       "    .dataframe tbody tr th {\n",
       "        vertical-align: top;\n",
       "    }\n",
       "\n",
       "    .dataframe thead th {\n",
       "        text-align: right;\n",
       "    }\n",
       "</style>\n",
       "<table border=\"1\" class=\"dataframe\">\n",
       "  <thead>\n",
       "    <tr style=\"text-align: right;\">\n",
       "      <th></th>\n",
       "      <th>ScientificName</th>\n",
       "      <th>TaxonID</th>\n",
       "      <th>Date</th>\n",
       "      <th>Latitude</th>\n",
       "      <th>Longitude</th>\n",
       "      <th>Municipality</th>\n",
       "      <th>Year</th>\n",
       "    </tr>\n",
       "  </thead>\n",
       "  <tbody>\n",
       "    <tr>\n",
       "      <th>0</th>\n",
       "      <td>Emberiza aureola</td>\n",
       "      <td>http://tun.fi/MX.35169</td>\n",
       "      <td>1952-09-26 - 1952-09-29</td>\n",
       "      <td>60.239593</td>\n",
       "      <td>25.800290</td>\n",
       "      <td>Porvoo</td>\n",
       "      <td>1952</td>\n",
       "    </tr>\n",
       "    <tr>\n",
       "      <th>1</th>\n",
       "      <td>Emberiza aureola</td>\n",
       "      <td>http://tun.fi/MX.35169</td>\n",
       "      <td>1938-07-12</td>\n",
       "      <td>63.377778</td>\n",
       "      <td>30.354404</td>\n",
       "      <td>Lieksa</td>\n",
       "      <td>1938</td>\n",
       "    </tr>\n",
       "    <tr>\n",
       "      <th>2</th>\n",
       "      <td>Emberiza aureola</td>\n",
       "      <td>http://tun.fi/MX.35169</td>\n",
       "      <td>1920-06-23</td>\n",
       "      <td>65.204372</td>\n",
       "      <td>25.443245</td>\n",
       "      <td>Oulu</td>\n",
       "      <td>1920</td>\n",
       "    </tr>\n",
       "    <tr>\n",
       "      <th>3</th>\n",
       "      <td>Emberiza aureola</td>\n",
       "      <td>http://tun.fi/MX.35169</td>\n",
       "      <td>1920-06-23</td>\n",
       "      <td>65.204372</td>\n",
       "      <td>25.443245</td>\n",
       "      <td>Oulu</td>\n",
       "      <td>1920</td>\n",
       "    </tr>\n",
       "    <tr>\n",
       "      <th>4</th>\n",
       "      <td>Emberiza aureola</td>\n",
       "      <td>http://tun.fi/MX.35169</td>\n",
       "      <td>1952-07-12</td>\n",
       "      <td>64.843784</td>\n",
       "      <td>25.415849</td>\n",
       "      <td>Liminka</td>\n",
       "      <td>1952</td>\n",
       "    </tr>\n",
       "    <tr>\n",
       "      <th>...</th>\n",
       "      <td>...</td>\n",
       "      <td>...</td>\n",
       "      <td>...</td>\n",
       "      <td>...</td>\n",
       "      <td>...</td>\n",
       "      <td>...</td>\n",
       "      <td>...</td>\n",
       "    </tr>\n",
       "    <tr>\n",
       "      <th>166</th>\n",
       "      <td>Emberiza aureola</td>\n",
       "      <td>http://tun.fi/MX.35169</td>\n",
       "      <td>2001-07-03</td>\n",
       "      <td>64.826891</td>\n",
       "      <td>25.313126</td>\n",
       "      <td>Liminka</td>\n",
       "      <td>2001</td>\n",
       "    </tr>\n",
       "    <tr>\n",
       "      <th>167</th>\n",
       "      <td>Emberiza aureola</td>\n",
       "      <td>http://tun.fi/MX.35169</td>\n",
       "      <td>2000-06-17</td>\n",
       "      <td>63.553054</td>\n",
       "      <td>27.384495</td>\n",
       "      <td>Iisalmi</td>\n",
       "      <td>2000</td>\n",
       "    </tr>\n",
       "    <tr>\n",
       "      <th>168</th>\n",
       "      <td>Emberiza aureola</td>\n",
       "      <td>http://tun.fi/MX.35169</td>\n",
       "      <td>2007-06-03</td>\n",
       "      <td>62.497556</td>\n",
       "      <td>21.734510</td>\n",
       "      <td>Teuva</td>\n",
       "      <td>2007</td>\n",
       "    </tr>\n",
       "    <tr>\n",
       "      <th>169</th>\n",
       "      <td>Emberiza aureola</td>\n",
       "      <td>http://tun.fi/MX.35169</td>\n",
       "      <td>2004-05-28 [21:30-23:30]</td>\n",
       "      <td>61.129811</td>\n",
       "      <td>24.757690</td>\n",
       "      <td>HÃ¤meenlinna</td>\n",
       "      <td>2004</td>\n",
       "    </tr>\n",
       "    <tr>\n",
       "      <th>170</th>\n",
       "      <td>Emberiza aureola</td>\n",
       "      <td>http://tun.fi/MX.35169</td>\n",
       "      <td>1996-09-01</td>\n",
       "      <td>59.811106</td>\n",
       "      <td>22.895427</td>\n",
       "      <td>Hanko</td>\n",
       "      <td>1996</td>\n",
       "    </tr>\n",
       "  </tbody>\n",
       "</table>\n",
       "<p>170 rows × 7 columns</p>\n",
       "</div>"
      ],
      "text/plain": [
       "       ScientificName                 TaxonID                      Date  \\\n",
       "0    Emberiza aureola  http://tun.fi/MX.35169   1952-09-26 - 1952-09-29   \n",
       "1    Emberiza aureola  http://tun.fi/MX.35169                1938-07-12   \n",
       "2    Emberiza aureola  http://tun.fi/MX.35169                1920-06-23   \n",
       "3    Emberiza aureola  http://tun.fi/MX.35169                1920-06-23   \n",
       "4    Emberiza aureola  http://tun.fi/MX.35169                1952-07-12   \n",
       "..                ...                     ...                       ...   \n",
       "166  Emberiza aureola  http://tun.fi/MX.35169                2001-07-03   \n",
       "167  Emberiza aureola  http://tun.fi/MX.35169                2000-06-17   \n",
       "168  Emberiza aureola  http://tun.fi/MX.35169                2007-06-03   \n",
       "169  Emberiza aureola  http://tun.fi/MX.35169  2004-05-28 [21:30-23:30]   \n",
       "170  Emberiza aureola  http://tun.fi/MX.35169                1996-09-01   \n",
       "\n",
       "      Latitude  Longitude  Municipality  Year  \n",
       "0    60.239593  25.800290        Porvoo  1952  \n",
       "1    63.377778  30.354404        Lieksa  1938  \n",
       "2    65.204372  25.443245          Oulu  1920  \n",
       "3    65.204372  25.443245          Oulu  1920  \n",
       "4    64.843784  25.415849       Liminka  1952  \n",
       "..         ...        ...           ...   ...  \n",
       "166  64.826891  25.313126       Liminka  2001  \n",
       "167  63.553054  27.384495       Iisalmi  2000  \n",
       "168  62.497556  21.734510         Teuva  2007  \n",
       "169  61.129811  24.757690  HÃ¤meenlinna  2004  \n",
       "170  59.811106  22.895427         Hanko  1996  \n",
       "\n",
       "[170 rows x 7 columns]"
      ]
     },
     "execution_count": 3,
     "metadata": {},
     "output_type": "execute_result"
    }
   ],
   "source": [
    "bunting_df = pd.read_csv('../../data/yellow breasted bunting/yellow_breasted_bunting.csv')\n",
    "bunting_df.dropna(subset=['Latitude', 'Longitude'], inplace=True)\n",
    "bunting_df['Year'] = bunting_df['Date'].apply(lambda row: row[:4])\n",
    "bunting_df"
   ]
  },
  {
   "cell_type": "code",
   "execution_count": 4,
   "metadata": {},
   "outputs": [
    {
     "data": {
      "text/html": [
       "<div>\n",
       "<style scoped>\n",
       "    .dataframe tbody tr th:only-of-type {\n",
       "        vertical-align: middle;\n",
       "    }\n",
       "\n",
       "    .dataframe tbody tr th {\n",
       "        vertical-align: top;\n",
       "    }\n",
       "\n",
       "    .dataframe thead th {\n",
       "        text-align: right;\n",
       "    }\n",
       "</style>\n",
       "<table border=\"1\" class=\"dataframe\">\n",
       "  <thead>\n",
       "    <tr style=\"text-align: right;\">\n",
       "      <th></th>\n",
       "      <th>h3_cell</th>\n",
       "      <th>observations_id</th>\n",
       "      <th>count</th>\n",
       "      <th>neighbors</th>\n",
       "    </tr>\n",
       "  </thead>\n",
       "  <tbody>\n",
       "    <tr>\n",
       "      <th>0</th>\n",
       "      <td>85088227fffffff</td>\n",
       "      <td>[130, 142]</td>\n",
       "      <td>2</td>\n",
       "      <td>{85088223fffffff, 8508822ffffffff, 8508835bfff...</td>\n",
       "    </tr>\n",
       "    <tr>\n",
       "      <th>1</th>\n",
       "      <td>85088853fffffff</td>\n",
       "      <td>[48, 159]</td>\n",
       "      <td>2</td>\n",
       "      <td>{85088857fffffff, 850888cffffffff, 8508885bfff...</td>\n",
       "    </tr>\n",
       "    <tr>\n",
       "      <th>2</th>\n",
       "      <td>850888a7fffffff</td>\n",
       "      <td>[168]</td>\n",
       "      <td>1</td>\n",
       "      <td>{850888a3fffffff, 850889d3fffffff, 85088d6bfff...</td>\n",
       "    </tr>\n",
       "    <tr>\n",
       "      <th>3</th>\n",
       "      <td>850898b3fffffff</td>\n",
       "      <td>[118, 170]</td>\n",
       "      <td>2</td>\n",
       "      <td>{85089887fffffff, 85089d4bfffffff, 850898a3fff...</td>\n",
       "    </tr>\n",
       "    <tr>\n",
       "      <th>4</th>\n",
       "      <td>850899b3fffffff</td>\n",
       "      <td>[132]</td>\n",
       "      <td>1</td>\n",
       "      <td>{85088a4ffffffff, 850899b7fffffff, 850899b3fff...</td>\n",
       "    </tr>\n",
       "    <tr>\n",
       "      <th>5</th>\n",
       "      <td>85089da7fffffff</td>\n",
       "      <td>[99]</td>\n",
       "      <td>1</td>\n",
       "      <td>{85088adbfffffff, 85089daffffffff, 85089da3fff...</td>\n",
       "    </tr>\n",
       "    <tr>\n",
       "      <th>6</th>\n",
       "      <td>8508c24bfffffff</td>\n",
       "      <td>[2, 3]</td>\n",
       "      <td>2</td>\n",
       "      <td>{8508c24bfffffff, 8508c243fffffff, 8508c25bfff...</td>\n",
       "    </tr>\n",
       "    <tr>\n",
       "      <th>7</th>\n",
       "      <td>8508d183fffffff</td>\n",
       "      <td>[6, 7, 9, 10, 11, 21, 22, 25, 28, 29, 30, 31, ...</td>\n",
       "      <td>39</td>\n",
       "      <td>{8508d193fffffff, 8508d18ffffffff, 8508d19bfff...</td>\n",
       "    </tr>\n",
       "    <tr>\n",
       "      <th>8</th>\n",
       "      <td>8508d18bfffffff</td>\n",
       "      <td>[12, 160]</td>\n",
       "      <td>2</td>\n",
       "      <td>{8508d18ffffffff, 8508d113fffffff, 8508d19bfff...</td>\n",
       "    </tr>\n",
       "    <tr>\n",
       "      <th>9</th>\n",
       "      <td>8508d19bfffffff</td>\n",
       "      <td>[4, 5, 8, 13, 14, 15, 16, 19, 20, 23, 24, 34, ...</td>\n",
       "      <td>59</td>\n",
       "      <td>{8508d567fffffff, 8508d193fffffff, 8508d19bfff...</td>\n",
       "    </tr>\n",
       "    <tr>\n",
       "      <th>10</th>\n",
       "      <td>8508d35bfffffff</td>\n",
       "      <td>[167]</td>\n",
       "      <td>1</td>\n",
       "      <td>{8508d34bfffffff, 85112c97fffffff, 8508d353fff...</td>\n",
       "    </tr>\n",
       "    <tr>\n",
       "      <th>11</th>\n",
       "      <td>8508d427fffffff</td>\n",
       "      <td>[39, 41, 42, 43, 44, 45, 64, 72, 73, 87, 88]</td>\n",
       "      <td>11</td>\n",
       "      <td>{8508d427fffffff, 8508d553fffffff, 8508d5cbfff...</td>\n",
       "    </tr>\n",
       "    <tr>\n",
       "      <th>12</th>\n",
       "      <td>8508d577fffffff</td>\n",
       "      <td>[131, 147]</td>\n",
       "      <td>2</td>\n",
       "      <td>{8508d567fffffff, 8508d52bfffffff, 8508d573fff...</td>\n",
       "    </tr>\n",
       "    <tr>\n",
       "      <th>13</th>\n",
       "      <td>8508d803fffffff</td>\n",
       "      <td>[129]</td>\n",
       "      <td>1</td>\n",
       "      <td>{8508d807fffffff, 8508d80bfffffff, 8508d80ffff...</td>\n",
       "    </tr>\n",
       "    <tr>\n",
       "      <th>14</th>\n",
       "      <td>8508d80bfffffff</td>\n",
       "      <td>[53]</td>\n",
       "      <td>1</td>\n",
       "      <td>{8508d873fffffff, 8508d80bfffffff, 8508d80ffff...</td>\n",
       "    </tr>\n",
       "    <tr>\n",
       "      <th>15</th>\n",
       "      <td>85110583fffffff</td>\n",
       "      <td>[66, 82, 90, 91, 92, 100, 128, 148]</td>\n",
       "      <td>8</td>\n",
       "      <td>{85110587fffffff, 85110593fffffff, 8511059bfff...</td>\n",
       "    </tr>\n",
       "    <tr>\n",
       "      <th>16</th>\n",
       "      <td>8511059bfffffff</td>\n",
       "      <td>[79, 80, 137]</td>\n",
       "      <td>3</td>\n",
       "      <td>{85112367fffffff, 85110593fffffff, 8511059bfff...</td>\n",
       "    </tr>\n",
       "    <tr>\n",
       "      <th>17</th>\n",
       "      <td>851105b7fffffff</td>\n",
       "      <td>[96]</td>\n",
       "      <td>1</td>\n",
       "      <td>{85112e6bfffffff, 851105b3fffffff, 851105a7fff...</td>\n",
       "    </tr>\n",
       "    <tr>\n",
       "      <th>18</th>\n",
       "      <td>8511229bfffffff</td>\n",
       "      <td>[38]</td>\n",
       "      <td>1</td>\n",
       "      <td>{8511266ffffffff, 8511229bfffffff, 851122d7fff...</td>\n",
       "    </tr>\n",
       "    <tr>\n",
       "      <th>19</th>\n",
       "      <td>8511236ffffffff</td>\n",
       "      <td>[83]</td>\n",
       "      <td>1</td>\n",
       "      <td>{851105d7fffffff, 851105d3fffffff, 85112367fff...</td>\n",
       "    </tr>\n",
       "    <tr>\n",
       "      <th>20</th>\n",
       "      <td>851123cffffffff</td>\n",
       "      <td>[27]</td>\n",
       "      <td>1</td>\n",
       "      <td>{851123c3fffffff, 85112357fffffff, 85112353fff...</td>\n",
       "    </tr>\n",
       "    <tr>\n",
       "      <th>21</th>\n",
       "      <td>85112457fffffff</td>\n",
       "      <td>[169]</td>\n",
       "      <td>1</td>\n",
       "      <td>{851124cffffffff, 85112443fffffff, 8511241bfff...</td>\n",
       "    </tr>\n",
       "    <tr>\n",
       "      <th>22</th>\n",
       "      <td>851124d3fffffff</td>\n",
       "      <td>[126]</td>\n",
       "      <td>1</td>\n",
       "      <td>{851124d3fffffff, 851124c3fffffff, 85088a6ffff...</td>\n",
       "    </tr>\n",
       "    <tr>\n",
       "      <th>23</th>\n",
       "      <td>85112657fffffff</td>\n",
       "      <td>[0]</td>\n",
       "      <td>1</td>\n",
       "      <td>{851126cffffffff, 85112653fffffff, 85112643fff...</td>\n",
       "    </tr>\n",
       "    <tr>\n",
       "      <th>24</th>\n",
       "      <td>85112803fffffff</td>\n",
       "      <td>[1]</td>\n",
       "      <td>1</td>\n",
       "      <td>{8511280ffffffff, 8511280bfffffff, 85112807fff...</td>\n",
       "    </tr>\n",
       "    <tr>\n",
       "      <th>25</th>\n",
       "      <td>85112813fffffff</td>\n",
       "      <td>[63, 75, 76]</td>\n",
       "      <td>3</td>\n",
       "      <td>{851128c7fffffff, 85112817fffffff, 8511281bfff...</td>\n",
       "    </tr>\n",
       "    <tr>\n",
       "      <th>26</th>\n",
       "      <td>85112ad3fffffff</td>\n",
       "      <td>[18, 36, 59, 65, 103, 104, 139, 146, 162, 163]</td>\n",
       "      <td>10</td>\n",
       "      <td>{85112e6bfffffff, 85112ac3fffffff, 85112e6ffff...</td>\n",
       "    </tr>\n",
       "    <tr>\n",
       "      <th>27</th>\n",
       "      <td>85112ad7fffffff</td>\n",
       "      <td>[17]</td>\n",
       "      <td>1</td>\n",
       "      <td>{85112ac3fffffff, 85112e6ffffffff, 85112a9bfff...</td>\n",
       "    </tr>\n",
       "    <tr>\n",
       "      <th>28</th>\n",
       "      <td>85112d8ffffffff</td>\n",
       "      <td>[158]</td>\n",
       "      <td>1</td>\n",
       "      <td>{85112d8ffffffff, 85112dbbfffffff, 85112d8bfff...</td>\n",
       "    </tr>\n",
       "    <tr>\n",
       "      <th>29</th>\n",
       "      <td>85112e07fffffff</td>\n",
       "      <td>[95]</td>\n",
       "      <td>1</td>\n",
       "      <td>{85112e07fffffff, 85112e3bfffffff, 85112e0ffff...</td>\n",
       "    </tr>\n",
       "    <tr>\n",
       "      <th>30</th>\n",
       "      <td>85112e3bfffffff</td>\n",
       "      <td>[26, 102, 105, 106, 141]</td>\n",
       "      <td>5</td>\n",
       "      <td>{85112e07fffffff, 85112e77fffffff, 85112e3bfff...</td>\n",
       "    </tr>\n",
       "    <tr>\n",
       "      <th>31</th>\n",
       "      <td>85112e57fffffff</td>\n",
       "      <td>[164]</td>\n",
       "      <td>1</td>\n",
       "      <td>{85112ecffffffff, 85112e57fffffff, 85112e1bfff...</td>\n",
       "    </tr>\n",
       "    <tr>\n",
       "      <th>32</th>\n",
       "      <td>85112ebbfffffff</td>\n",
       "      <td>[93, 94]</td>\n",
       "      <td>2</td>\n",
       "      <td>{85112ebbfffffff, 85112eb3fffffff, 85112ea3fff...</td>\n",
       "    </tr>\n",
       "  </tbody>\n",
       "</table>\n",
       "</div>"
      ],
      "text/plain": [
       "            h3_cell                                    observations_id  count  \\\n",
       "0   85088227fffffff                                         [130, 142]      2   \n",
       "1   85088853fffffff                                          [48, 159]      2   \n",
       "2   850888a7fffffff                                              [168]      1   \n",
       "3   850898b3fffffff                                         [118, 170]      2   \n",
       "4   850899b3fffffff                                              [132]      1   \n",
       "5   85089da7fffffff                                               [99]      1   \n",
       "6   8508c24bfffffff                                             [2, 3]      2   \n",
       "7   8508d183fffffff  [6, 7, 9, 10, 11, 21, 22, 25, 28, 29, 30, 31, ...     39   \n",
       "8   8508d18bfffffff                                          [12, 160]      2   \n",
       "9   8508d19bfffffff  [4, 5, 8, 13, 14, 15, 16, 19, 20, 23, 24, 34, ...     59   \n",
       "10  8508d35bfffffff                                              [167]      1   \n",
       "11  8508d427fffffff       [39, 41, 42, 43, 44, 45, 64, 72, 73, 87, 88]     11   \n",
       "12  8508d577fffffff                                         [131, 147]      2   \n",
       "13  8508d803fffffff                                              [129]      1   \n",
       "14  8508d80bfffffff                                               [53]      1   \n",
       "15  85110583fffffff                [66, 82, 90, 91, 92, 100, 128, 148]      8   \n",
       "16  8511059bfffffff                                      [79, 80, 137]      3   \n",
       "17  851105b7fffffff                                               [96]      1   \n",
       "18  8511229bfffffff                                               [38]      1   \n",
       "19  8511236ffffffff                                               [83]      1   \n",
       "20  851123cffffffff                                               [27]      1   \n",
       "21  85112457fffffff                                              [169]      1   \n",
       "22  851124d3fffffff                                              [126]      1   \n",
       "23  85112657fffffff                                                [0]      1   \n",
       "24  85112803fffffff                                                [1]      1   \n",
       "25  85112813fffffff                                       [63, 75, 76]      3   \n",
       "26  85112ad3fffffff     [18, 36, 59, 65, 103, 104, 139, 146, 162, 163]     10   \n",
       "27  85112ad7fffffff                                               [17]      1   \n",
       "28  85112d8ffffffff                                              [158]      1   \n",
       "29  85112e07fffffff                                               [95]      1   \n",
       "30  85112e3bfffffff                           [26, 102, 105, 106, 141]      5   \n",
       "31  85112e57fffffff                                              [164]      1   \n",
       "32  85112ebbfffffff                                           [93, 94]      2   \n",
       "\n",
       "                                            neighbors  \n",
       "0   {85088223fffffff, 8508822ffffffff, 8508835bfff...  \n",
       "1   {85088857fffffff, 850888cffffffff, 8508885bfff...  \n",
       "2   {850888a3fffffff, 850889d3fffffff, 85088d6bfff...  \n",
       "3   {85089887fffffff, 85089d4bfffffff, 850898a3fff...  \n",
       "4   {85088a4ffffffff, 850899b7fffffff, 850899b3fff...  \n",
       "5   {85088adbfffffff, 85089daffffffff, 85089da3fff...  \n",
       "6   {8508c24bfffffff, 8508c243fffffff, 8508c25bfff...  \n",
       "7   {8508d193fffffff, 8508d18ffffffff, 8508d19bfff...  \n",
       "8   {8508d18ffffffff, 8508d113fffffff, 8508d19bfff...  \n",
       "9   {8508d567fffffff, 8508d193fffffff, 8508d19bfff...  \n",
       "10  {8508d34bfffffff, 85112c97fffffff, 8508d353fff...  \n",
       "11  {8508d427fffffff, 8508d553fffffff, 8508d5cbfff...  \n",
       "12  {8508d567fffffff, 8508d52bfffffff, 8508d573fff...  \n",
       "13  {8508d807fffffff, 8508d80bfffffff, 8508d80ffff...  \n",
       "14  {8508d873fffffff, 8508d80bfffffff, 8508d80ffff...  \n",
       "15  {85110587fffffff, 85110593fffffff, 8511059bfff...  \n",
       "16  {85112367fffffff, 85110593fffffff, 8511059bfff...  \n",
       "17  {85112e6bfffffff, 851105b3fffffff, 851105a7fff...  \n",
       "18  {8511266ffffffff, 8511229bfffffff, 851122d7fff...  \n",
       "19  {851105d7fffffff, 851105d3fffffff, 85112367fff...  \n",
       "20  {851123c3fffffff, 85112357fffffff, 85112353fff...  \n",
       "21  {851124cffffffff, 85112443fffffff, 8511241bfff...  \n",
       "22  {851124d3fffffff, 851124c3fffffff, 85088a6ffff...  \n",
       "23  {851126cffffffff, 85112653fffffff, 85112643fff...  \n",
       "24  {8511280ffffffff, 8511280bfffffff, 85112807fff...  \n",
       "25  {851128c7fffffff, 85112817fffffff, 8511281bfff...  \n",
       "26  {85112e6bfffffff, 85112ac3fffffff, 85112e6ffff...  \n",
       "27  {85112ac3fffffff, 85112e6ffffffff, 85112a9bfff...  \n",
       "28  {85112d8ffffffff, 85112dbbfffffff, 85112d8bfff...  \n",
       "29  {85112e07fffffff, 85112e3bfffffff, 85112e0ffff...  \n",
       "30  {85112e07fffffff, 85112e77fffffff, 85112e3bfff...  \n",
       "31  {85112ecffffffff, 85112e57fffffff, 85112e1bfff...  \n",
       "32  {85112ebbfffffff, 85112eb3fffffff, 85112ea3fff...  "
      ]
     },
     "execution_count": 4,
     "metadata": {},
     "output_type": "execute_result"
    }
   ],
   "source": [
    "grid_object = h3_grid()\n",
    "grid_object.fit(bunting_df)\n",
    "grid_object.grid_info()"
   ]
  },
  {
   "cell_type": "code",
   "execution_count": 5,
   "metadata": {},
   "outputs": [
    {
     "data": {
      "text/html": [
       "<div>\n",
       "<style scoped>\n",
       "    .dataframe tbody tr th:only-of-type {\n",
       "        vertical-align: middle;\n",
       "    }\n",
       "\n",
       "    .dataframe tbody tr th {\n",
       "        vertical-align: top;\n",
       "    }\n",
       "\n",
       "    .dataframe thead th {\n",
       "        text-align: right;\n",
       "    }\n",
       "</style>\n",
       "<table border=\"1\" class=\"dataframe\">\n",
       "  <thead>\n",
       "    <tr style=\"text-align: right;\">\n",
       "      <th></th>\n",
       "      <th>Date</th>\n",
       "      <th>Latitude</th>\n",
       "      <th>Longitude</th>\n",
       "      <th>Municipality</th>\n",
       "      <th>TaxonID</th>\n",
       "      <th>ScientificName</th>\n",
       "      <th>verbatim</th>\n",
       "      <th>Year</th>\n",
       "    </tr>\n",
       "  </thead>\n",
       "  <tbody>\n",
       "    <tr>\n",
       "      <th>0</th>\n",
       "      <td>2023-09-13</td>\n",
       "      <td>60.292760</td>\n",
       "      <td>24.562230</td>\n",
       "      <td>Espoo</td>\n",
       "      <td>http://tun.fi/MX.37819</td>\n",
       "      <td>Pinus sylvestris</td>\n",
       "      <td>Pinus sylvestris</td>\n",
       "      <td>2023</td>\n",
       "    </tr>\n",
       "    <tr>\n",
       "      <th>1</th>\n",
       "      <td>2023-09-11</td>\n",
       "      <td>62.900000</td>\n",
       "      <td>23.300000</td>\n",
       "      <td>Kuortane, Lapua, Seinäjoki</td>\n",
       "      <td>http://tun.fi/MX.37819</td>\n",
       "      <td>Pinus sylvestris</td>\n",
       "      <td>Pinus sylvestris</td>\n",
       "      <td>2023</td>\n",
       "    </tr>\n",
       "    <tr>\n",
       "      <th>2</th>\n",
       "      <td>2023-09-10</td>\n",
       "      <td>61.340760</td>\n",
       "      <td>22.137140</td>\n",
       "      <td>Harjavalta</td>\n",
       "      <td>http://tun.fi/MX.37819</td>\n",
       "      <td>Pinus sylvestris</td>\n",
       "      <td>Pinus sylvestris</td>\n",
       "      <td>2023</td>\n",
       "    </tr>\n",
       "    <tr>\n",
       "      <th>3</th>\n",
       "      <td>2023-09-09</td>\n",
       "      <td>60.184950</td>\n",
       "      <td>24.930930</td>\n",
       "      <td>Helsinki</td>\n",
       "      <td>http://tun.fi/MX.37819</td>\n",
       "      <td>Pinus sylvestris</td>\n",
       "      <td>Pinus sylvestris</td>\n",
       "      <td>2023</td>\n",
       "    </tr>\n",
       "    <tr>\n",
       "      <th>4</th>\n",
       "      <td>2023-09-09</td>\n",
       "      <td>60.184570</td>\n",
       "      <td>24.930130</td>\n",
       "      <td>Helsinki</td>\n",
       "      <td>http://tun.fi/MX.37819</td>\n",
       "      <td>Pinus sylvestris</td>\n",
       "      <td>Pinus sylvestris</td>\n",
       "      <td>2023</td>\n",
       "    </tr>\n",
       "    <tr>\n",
       "      <th>...</th>\n",
       "      <td>...</td>\n",
       "      <td>...</td>\n",
       "      <td>...</td>\n",
       "      <td>...</td>\n",
       "      <td>...</td>\n",
       "      <td>...</td>\n",
       "      <td>...</td>\n",
       "      <td>...</td>\n",
       "    </tr>\n",
       "    <tr>\n",
       "      <th>114060</th>\n",
       "      <td>1800-01-01 - 1966-12-31</td>\n",
       "      <td>60.323864</td>\n",
       "      <td>23.647645</td>\n",
       "      <td>Salo</td>\n",
       "      <td>http://tun.fi/MX.37819</td>\n",
       "      <td>Pinus sylvestris</td>\n",
       "      <td>Pinus sylvestris</td>\n",
       "      <td>1800</td>\n",
       "    </tr>\n",
       "    <tr>\n",
       "      <th>114061</th>\n",
       "      <td>1800-01-01 - 1966-12-31</td>\n",
       "      <td>60.323864</td>\n",
       "      <td>23.647645</td>\n",
       "      <td>Salo</td>\n",
       "      <td>http://tun.fi/MX.37819</td>\n",
       "      <td>Pinus sylvestris</td>\n",
       "      <td>Pinus sylvestris</td>\n",
       "      <td>1800</td>\n",
       "    </tr>\n",
       "    <tr>\n",
       "      <th>114062</th>\n",
       "      <td>1800-01-01 - 1966-12-31</td>\n",
       "      <td>60.323864</td>\n",
       "      <td>23.647645</td>\n",
       "      <td>Salo</td>\n",
       "      <td>http://tun.fi/MX.37819</td>\n",
       "      <td>Pinus sylvestris</td>\n",
       "      <td>Pinus sylvestris</td>\n",
       "      <td>1800</td>\n",
       "    </tr>\n",
       "    <tr>\n",
       "      <th>114063</th>\n",
       "      <td>1800-01-01 - 1966-12-31</td>\n",
       "      <td>60.323864</td>\n",
       "      <td>23.647645</td>\n",
       "      <td>Salo</td>\n",
       "      <td>http://tun.fi/MX.37819</td>\n",
       "      <td>Pinus sylvestris</td>\n",
       "      <td>Pinus sylvestris</td>\n",
       "      <td>1800</td>\n",
       "    </tr>\n",
       "    <tr>\n",
       "      <th>114064</th>\n",
       "      <td>1800-01-01 - 1975-08-08</td>\n",
       "      <td>60.290058</td>\n",
       "      <td>19.519198</td>\n",
       "      <td>Eckerö</td>\n",
       "      <td>http://tun.fi/MX.37819</td>\n",
       "      <td>Pinus sylvestris</td>\n",
       "      <td>Pinus sylvestris</td>\n",
       "      <td>1800</td>\n",
       "    </tr>\n",
       "  </tbody>\n",
       "</table>\n",
       "<p>112528 rows × 8 columns</p>\n",
       "</div>"
      ],
      "text/plain": [
       "                           Date   Latitude  Longitude  \\\n",
       "0                    2023-09-13  60.292760  24.562230   \n",
       "1                    2023-09-11  62.900000  23.300000   \n",
       "2                    2023-09-10  61.340760  22.137140   \n",
       "3                    2023-09-09  60.184950  24.930930   \n",
       "4                    2023-09-09  60.184570  24.930130   \n",
       "...                         ...        ...        ...   \n",
       "114060  1800-01-01 - 1966-12-31  60.323864  23.647645   \n",
       "114061  1800-01-01 - 1966-12-31  60.323864  23.647645   \n",
       "114062  1800-01-01 - 1966-12-31  60.323864  23.647645   \n",
       "114063  1800-01-01 - 1966-12-31  60.323864  23.647645   \n",
       "114064  1800-01-01 - 1975-08-08  60.290058  19.519198   \n",
       "\n",
       "                      Municipality                 TaxonID    ScientificName  \\\n",
       "0                            Espoo  http://tun.fi/MX.37819  Pinus sylvestris   \n",
       "1       Kuortane, Lapua, Seinäjoki  http://tun.fi/MX.37819  Pinus sylvestris   \n",
       "2                       Harjavalta  http://tun.fi/MX.37819  Pinus sylvestris   \n",
       "3                         Helsinki  http://tun.fi/MX.37819  Pinus sylvestris   \n",
       "4                         Helsinki  http://tun.fi/MX.37819  Pinus sylvestris   \n",
       "...                            ...                     ...               ...   \n",
       "114060                        Salo  http://tun.fi/MX.37819  Pinus sylvestris   \n",
       "114061                        Salo  http://tun.fi/MX.37819  Pinus sylvestris   \n",
       "114062                        Salo  http://tun.fi/MX.37819  Pinus sylvestris   \n",
       "114063                        Salo  http://tun.fi/MX.37819  Pinus sylvestris   \n",
       "114064                      Eckerö  http://tun.fi/MX.37819  Pinus sylvestris   \n",
       "\n",
       "                verbatim  Year  \n",
       "0       Pinus sylvestris  2023  \n",
       "1       Pinus sylvestris  2023  \n",
       "2       Pinus sylvestris  2023  \n",
       "3       Pinus sylvestris  2023  \n",
       "4       Pinus sylvestris  2023  \n",
       "...                  ...   ...  \n",
       "114060  Pinus sylvestris  1800  \n",
       "114061  Pinus sylvestris  1800  \n",
       "114062  Pinus sylvestris  1800  \n",
       "114063  Pinus sylvestris  1800  \n",
       "114064  Pinus sylvestris  1800  \n",
       "\n",
       "[112528 rows x 8 columns]"
      ]
     },
     "execution_count": 5,
     "metadata": {},
     "output_type": "execute_result"
    }
   ],
   "source": [
    "tree_df = pd.read_csv('../../data/samples/tree_data_sample.csv')\n",
    "tree_df.dropna(subset=['Date', 'Latitude', 'Longitude', 'ScientificName'], inplace=True)\n",
    "tree_df['Year'] = tree_df['Date'].apply(lambda row: row[:4])\n",
    "tree_df"
   ]
  },
  {
   "cell_type": "code",
   "execution_count": 6,
   "metadata": {},
   "outputs": [
    {
     "data": {
      "text/html": [
       "<div>\n",
       "<style scoped>\n",
       "    .dataframe tbody tr th:only-of-type {\n",
       "        vertical-align: middle;\n",
       "    }\n",
       "\n",
       "    .dataframe tbody tr th {\n",
       "        vertical-align: top;\n",
       "    }\n",
       "\n",
       "    .dataframe thead th {\n",
       "        text-align: right;\n",
       "    }\n",
       "</style>\n",
       "<table border=\"1\" class=\"dataframe\">\n",
       "  <thead>\n",
       "    <tr style=\"text-align: right;\">\n",
       "      <th></th>\n",
       "      <th>h3_cell</th>\n",
       "      <th>observations_id</th>\n",
       "      <th>count</th>\n",
       "      <th>neighbors</th>\n",
       "    </tr>\n",
       "  </thead>\n",
       "  <tbody>\n",
       "    <tr>\n",
       "      <th>0</th>\n",
       "      <td>85012613fffffff</td>\n",
       "      <td>[9562, 78059, 109502, 113234]</td>\n",
       "      <td>4</td>\n",
       "      <td>{85012603fffffff, 8501268ffffffff, 8501261bfff...</td>\n",
       "    </tr>\n",
       "    <tr>\n",
       "      <th>1</th>\n",
       "      <td>8501261bfffffff</td>\n",
       "      <td>[473, 9335, 9345, 9426, 9427, 9485, 9510, 9536...</td>\n",
       "      <td>27</td>\n",
       "      <td>{85012603fffffff, 850126cffffffff, 8501261bfff...</td>\n",
       "    </tr>\n",
       "    <tr>\n",
       "      <th>2</th>\n",
       "      <td>85012643fffffff</td>\n",
       "      <td>[76368, 107634]</td>\n",
       "      <td>2</td>\n",
       "      <td>{85012647fffffff, 8501264ffffffff, 85012653fff...</td>\n",
       "    </tr>\n",
       "    <tr>\n",
       "      <th>3</th>\n",
       "      <td>85012647fffffff</td>\n",
       "      <td>[76362, 76369, 107631, 109126]</td>\n",
       "      <td>4</td>\n",
       "      <td>{85012647fffffff, 8501264ffffffff, 8501267bfff...</td>\n",
       "    </tr>\n",
       "    <tr>\n",
       "      <th>4</th>\n",
       "      <td>8501264bfffffff</td>\n",
       "      <td>[102955, 107707, 109417]</td>\n",
       "      <td>3</td>\n",
       "      <td>{85013587fffffff, 8501264ffffffff, 8501265bfff...</td>\n",
       "    </tr>\n",
       "    <tr>\n",
       "      <th>...</th>\n",
       "      <td>...</td>\n",
       "      <td>...</td>\n",
       "      <td>...</td>\n",
       "      <td>...</td>\n",
       "    </tr>\n",
       "    <tr>\n",
       "      <th>2094</th>\n",
       "      <td>852a33dbfffffff</td>\n",
       "      <td>[58012, 58013, 67131, 68160, 68165]</td>\n",
       "      <td>5</td>\n",
       "      <td>{852a33c3fffffff, 852a33dbfffffff, 852a32affff...</td>\n",
       "    </tr>\n",
       "    <tr>\n",
       "      <th>2095</th>\n",
       "      <td>852aa38ffffffff</td>\n",
       "      <td>[71939, 71940]</td>\n",
       "      <td>2</td>\n",
       "      <td>{852aa383fffffff, 852aa38bfffffff, 852aa313fff...</td>\n",
       "    </tr>\n",
       "    <tr>\n",
       "      <th>2096</th>\n",
       "      <td>852ec31bfffffff</td>\n",
       "      <td>[67902, 69939, 69974, 70518, 70685, 71261, 714...</td>\n",
       "      <td>56</td>\n",
       "      <td>{852ec357fffffff, 852ec31bfffffff, 852ec30bfff...</td>\n",
       "    </tr>\n",
       "    <tr>\n",
       "      <th>2097</th>\n",
       "      <td>85314293fffffff</td>\n",
       "      <td>[76219, 76220]</td>\n",
       "      <td>2</td>\n",
       "      <td>{8531462bfffffff, 8531429bfffffff, 85314297fff...</td>\n",
       "    </tr>\n",
       "    <tr>\n",
       "      <th>2098</th>\n",
       "      <td>85314623fffffff</td>\n",
       "      <td>[76218]</td>\n",
       "      <td>1</td>\n",
       "      <td>{8531462bfffffff, 85314627fffffff, 85314623fff...</td>\n",
       "    </tr>\n",
       "  </tbody>\n",
       "</table>\n",
       "<p>2099 rows × 4 columns</p>\n",
       "</div>"
      ],
      "text/plain": [
       "              h3_cell                                    observations_id  \\\n",
       "0     85012613fffffff                      [9562, 78059, 109502, 113234]   \n",
       "1     8501261bfffffff  [473, 9335, 9345, 9426, 9427, 9485, 9510, 9536...   \n",
       "2     85012643fffffff                                    [76368, 107634]   \n",
       "3     85012647fffffff                     [76362, 76369, 107631, 109126]   \n",
       "4     8501264bfffffff                           [102955, 107707, 109417]   \n",
       "...               ...                                                ...   \n",
       "2094  852a33dbfffffff                [58012, 58013, 67131, 68160, 68165]   \n",
       "2095  852aa38ffffffff                                     [71939, 71940]   \n",
       "2096  852ec31bfffffff  [67902, 69939, 69974, 70518, 70685, 71261, 714...   \n",
       "2097  85314293fffffff                                     [76219, 76220]   \n",
       "2098  85314623fffffff                                            [76218]   \n",
       "\n",
       "      count                                          neighbors  \n",
       "0         4  {85012603fffffff, 8501268ffffffff, 8501261bfff...  \n",
       "1        27  {85012603fffffff, 850126cffffffff, 8501261bfff...  \n",
       "2         2  {85012647fffffff, 8501264ffffffff, 85012653fff...  \n",
       "3         4  {85012647fffffff, 8501264ffffffff, 8501267bfff...  \n",
       "4         3  {85013587fffffff, 8501264ffffffff, 8501265bfff...  \n",
       "...     ...                                                ...  \n",
       "2094      5  {852a33c3fffffff, 852a33dbfffffff, 852a32affff...  \n",
       "2095      2  {852aa383fffffff, 852aa38bfffffff, 852aa313fff...  \n",
       "2096     56  {852ec357fffffff, 852ec31bfffffff, 852ec30bfff...  \n",
       "2097      2  {8531462bfffffff, 8531429bfffffff, 85314297fff...  \n",
       "2098      1  {8531462bfffffff, 85314627fffffff, 85314623fff...  \n",
       "\n",
       "[2099 rows x 4 columns]"
      ]
     },
     "execution_count": 6,
     "metadata": {},
     "output_type": "execute_result"
    }
   ],
   "source": [
    "grid_object = h3_grid()\n",
    "grid_object.fit(tree_df)\n",
    "grid_object.grid_info()"
   ]
  },
  {
   "cell_type": "code",
   "execution_count": 24,
   "metadata": {},
   "outputs": [
    {
     "data": {
      "text/html": [
       "<div>\n",
       "<style scoped>\n",
       "    .dataframe tbody tr th:only-of-type {\n",
       "        vertical-align: middle;\n",
       "    }\n",
       "\n",
       "    .dataframe tbody tr th {\n",
       "        vertical-align: top;\n",
       "    }\n",
       "\n",
       "    .dataframe thead th {\n",
       "        text-align: right;\n",
       "    }\n",
       "</style>\n",
       "<table border=\"1\" class=\"dataframe\">\n",
       "  <thead>\n",
       "    <tr style=\"text-align: right;\">\n",
       "      <th></th>\n",
       "      <th>Date</th>\n",
       "      <th>Latitude</th>\n",
       "      <th>Longitude</th>\n",
       "      <th>Municipality</th>\n",
       "      <th>TaxonID</th>\n",
       "      <th>ScientificName</th>\n",
       "      <th>verbatim</th>\n",
       "      <th>Year</th>\n",
       "      <th>h3_cell</th>\n",
       "    </tr>\n",
       "  </thead>\n",
       "  <tbody>\n",
       "    <tr>\n",
       "      <th>55</th>\n",
       "      <td>2023-09-01</td>\n",
       "      <td>64.945420</td>\n",
       "      <td>25.547420</td>\n",
       "      <td>Oulu</td>\n",
       "      <td>http://tun.fi/MX.37819</td>\n",
       "      <td>Pinus sylvestris</td>\n",
       "      <td>Pinus sylvestris</td>\n",
       "      <td>2023</td>\n",
       "      <td>8508d18bfffffff</td>\n",
       "    </tr>\n",
       "    <tr>\n",
       "      <th>61</th>\n",
       "      <td>2023-09-01</td>\n",
       "      <td>62.627361</td>\n",
       "      <td>29.644173</td>\n",
       "      <td>Joensuu</td>\n",
       "      <td>http://tun.fi/MX.37819</td>\n",
       "      <td>Pinus sylvestris</td>\n",
       "      <td>Pinus sylvestris</td>\n",
       "      <td>2023</td>\n",
       "      <td>85112e07fffffff</td>\n",
       "    </tr>\n",
       "    <tr>\n",
       "      <th>63</th>\n",
       "      <td>2023-08-31</td>\n",
       "      <td>62.619941</td>\n",
       "      <td>29.652967</td>\n",
       "      <td>Joensuu</td>\n",
       "      <td>http://tun.fi/MX.37819</td>\n",
       "      <td>Pinus sylvestris</td>\n",
       "      <td>Pinus sylvestris</td>\n",
       "      <td>2023</td>\n",
       "      <td>85112e07fffffff</td>\n",
       "    </tr>\n",
       "    <tr>\n",
       "      <th>128</th>\n",
       "      <td>2023-08-20</td>\n",
       "      <td>60.571520</td>\n",
       "      <td>26.705670</td>\n",
       "      <td>Pyhtää</td>\n",
       "      <td>http://tun.fi/MX.37819</td>\n",
       "      <td>Pinus sylvestris</td>\n",
       "      <td>Pinus sylvestris</td>\n",
       "      <td>2023</td>\n",
       "      <td>8511229bfffffff</td>\n",
       "    </tr>\n",
       "    <tr>\n",
       "      <th>217</th>\n",
       "      <td>2023-07-31</td>\n",
       "      <td>64.916050</td>\n",
       "      <td>25.570510</td>\n",
       "      <td>Kempele</td>\n",
       "      <td>http://tun.fi/MX.37819</td>\n",
       "      <td>Pinus sylvestris</td>\n",
       "      <td>Pinus sylvestris</td>\n",
       "      <td>2023</td>\n",
       "      <td>8508d18bfffffff</td>\n",
       "    </tr>\n",
       "    <tr>\n",
       "      <th>...</th>\n",
       "      <td>...</td>\n",
       "      <td>...</td>\n",
       "      <td>...</td>\n",
       "      <td>...</td>\n",
       "      <td>...</td>\n",
       "      <td>...</td>\n",
       "      <td>...</td>\n",
       "      <td>...</td>\n",
       "      <td>...</td>\n",
       "    </tr>\n",
       "    <tr>\n",
       "      <th>113554</th>\n",
       "      <td>1800-01-01 - 1964-12-31</td>\n",
       "      <td>63.596095</td>\n",
       "      <td>27.298907</td>\n",
       "      <td>Iisalmi</td>\n",
       "      <td>http://tun.fi/MX.37819</td>\n",
       "      <td>Pinus sylvestris</td>\n",
       "      <td>Pinus sylvestris</td>\n",
       "      <td>1800</td>\n",
       "      <td>8508d35bfffffff</td>\n",
       "    </tr>\n",
       "    <tr>\n",
       "      <th>113797</th>\n",
       "      <td>1800-01-01 - 1958-12-31</td>\n",
       "      <td>60.767062</td>\n",
       "      <td>23.417772</td>\n",
       "      <td>Jokioinen</td>\n",
       "      <td>http://tun.fi/MX.37819</td>\n",
       "      <td>Pinus sylvestris</td>\n",
       "      <td>Pinus sylvestris</td>\n",
       "      <td>1800</td>\n",
       "      <td>850899b3fffffff</td>\n",
       "    </tr>\n",
       "    <tr>\n",
       "      <th>113798</th>\n",
       "      <td>1800-01-01 - 1950-12-31</td>\n",
       "      <td>60.771830</td>\n",
       "      <td>23.600919</td>\n",
       "      <td>Tammela</td>\n",
       "      <td>http://tun.fi/MX.37819</td>\n",
       "      <td>Pinus sylvestris</td>\n",
       "      <td>Pinus sylvestris</td>\n",
       "      <td>1800</td>\n",
       "      <td>850899b3fffffff</td>\n",
       "    </tr>\n",
       "    <tr>\n",
       "      <th>113799</th>\n",
       "      <td>1800-01-01 - 1925-12-31</td>\n",
       "      <td>60.771830</td>\n",
       "      <td>23.600919</td>\n",
       "      <td>Tammela</td>\n",
       "      <td>http://tun.fi/MX.37819</td>\n",
       "      <td>Pinus sylvestris</td>\n",
       "      <td>Pinus sylvestris</td>\n",
       "      <td>1800</td>\n",
       "      <td>850899b3fffffff</td>\n",
       "    </tr>\n",
       "    <tr>\n",
       "      <th>113800</th>\n",
       "      <td>1800-01-01 - 1957-12-31</td>\n",
       "      <td>60.771830</td>\n",
       "      <td>23.600919</td>\n",
       "      <td>Tammela</td>\n",
       "      <td>http://tun.fi/MX.37819</td>\n",
       "      <td>Pinus sylvestris</td>\n",
       "      <td>Pinus sylvestris</td>\n",
       "      <td>1800</td>\n",
       "      <td>850899b3fffffff</td>\n",
       "    </tr>\n",
       "  </tbody>\n",
       "</table>\n",
       "<p>1670 rows × 9 columns</p>\n",
       "</div>"
      ],
      "text/plain": [
       "                           Date   Latitude  Longitude Municipality  \\\n",
       "55                   2023-09-01  64.945420  25.547420         Oulu   \n",
       "61                   2023-09-01  62.627361  29.644173      Joensuu   \n",
       "63                   2023-08-31  62.619941  29.652967      Joensuu   \n",
       "128                  2023-08-20  60.571520  26.705670       Pyhtää   \n",
       "217                  2023-07-31  64.916050  25.570510      Kempele   \n",
       "...                         ...        ...        ...          ...   \n",
       "113554  1800-01-01 - 1964-12-31  63.596095  27.298907      Iisalmi   \n",
       "113797  1800-01-01 - 1958-12-31  60.767062  23.417772    Jokioinen   \n",
       "113798  1800-01-01 - 1950-12-31  60.771830  23.600919      Tammela   \n",
       "113799  1800-01-01 - 1925-12-31  60.771830  23.600919      Tammela   \n",
       "113800  1800-01-01 - 1957-12-31  60.771830  23.600919      Tammela   \n",
       "\n",
       "                       TaxonID    ScientificName          verbatim  Year  \\\n",
       "55      http://tun.fi/MX.37819  Pinus sylvestris  Pinus sylvestris  2023   \n",
       "61      http://tun.fi/MX.37819  Pinus sylvestris  Pinus sylvestris  2023   \n",
       "63      http://tun.fi/MX.37819  Pinus sylvestris  Pinus sylvestris  2023   \n",
       "128     http://tun.fi/MX.37819  Pinus sylvestris  Pinus sylvestris  2023   \n",
       "217     http://tun.fi/MX.37819  Pinus sylvestris  Pinus sylvestris  2023   \n",
       "...                        ...               ...               ...   ...   \n",
       "113554  http://tun.fi/MX.37819  Pinus sylvestris  Pinus sylvestris  1800   \n",
       "113797  http://tun.fi/MX.37819  Pinus sylvestris  Pinus sylvestris  1800   \n",
       "113798  http://tun.fi/MX.37819  Pinus sylvestris  Pinus sylvestris  1800   \n",
       "113799  http://tun.fi/MX.37819  Pinus sylvestris  Pinus sylvestris  1800   \n",
       "113800  http://tun.fi/MX.37819  Pinus sylvestris  Pinus sylvestris  1800   \n",
       "\n",
       "                h3_cell  \n",
       "55      8508d18bfffffff  \n",
       "61      85112e07fffffff  \n",
       "63      85112e07fffffff  \n",
       "128     8511229bfffffff  \n",
       "217     8508d18bfffffff  \n",
       "...                 ...  \n",
       "113554  8508d35bfffffff  \n",
       "113797  850899b3fffffff  \n",
       "113798  850899b3fffffff  \n",
       "113799  850899b3fffffff  \n",
       "113800  850899b3fffffff  \n",
       "\n",
       "[1670 rows x 9 columns]"
      ]
     },
     "execution_count": 24,
     "metadata": {},
     "output_type": "execute_result"
    }
   ],
   "source": [
    "def find_suitable_threshold (target_df, population_df, threshold_year):\n",
    "    target_before = target_df[target_df['Year'].astype(int) <= threshold_year]\n",
    "    target_after = target_df[target_df['Year'].astype(int) > threshold_year]\n",
    "    suitable_cells = set(target_before['h3_cell']) - set(target_after['h3_cell'])\n",
    "    suitable_population = population_df[population_df['h3_cell'].isin(suitable_cells)]\n",
    "    suitable_population_before = suitable_population[suitable_population['Year'].astype(int) <= threshold_year]\n",
    "    suitable_population_after = suitable_population[suitable_population['Year'].astype(int) > threshold_year]\n",
    "    return suitable_population, suitable_population_before, suitable_population_after\n",
    "\n",
    "suitable_tree_df, suitable_tree_before, suitable_tree_after = find_suitable_threshold(bunting_df, tree_df, 2000)\n",
    "suitable_tree_df"
   ]
  },
  {
   "cell_type": "code",
   "execution_count": 41,
   "metadata": {},
   "outputs": [
    {
     "name": "stdout",
     "output_type": "stream",
     "text": [
      "Mean richness before: 33\n",
      "Mean richness after: 49\n"
     ]
    },
    {
     "name": "stderr",
     "output_type": "stream",
     "text": [
      "C:\\Users\\LAM HAI YEN\\AppData\\Local\\Temp\\ipykernel_24540\\470658686.py:26: UserWarning: Matplotlib is currently using module://matplotlib_inline.backend_inline, which is a non-GUI backend, so cannot show the figure.\n",
      "  fig.show()\n"
     ]
    },
    {
     "data": {
      "image/png": "[encoded data removed]",
      "text/plain": [
       "<Figure size 640x480 with 6 Axes>"
      ]
     },
     "metadata": {},
     "output_type": "display_data"
    }
   ],
   "source": [
    "def plot_diff (population_before, population_after):\n",
    "    \n",
    "    actual_model = ActualDistribution('h3_cell', 'ScientificName')\n",
    "    actual_dist_before = actual_model.fit(population_before)\n",
    "    actual_dist_after = actual_model.fit(population_after)\n",
    "    \n",
    "    richness_before = generate_richness_frame(actual_dist_before)\n",
    "    richness_after = generate_richness_frame(actual_dist_after)\n",
    "\n",
    "    print(\"Mean richness before: \" + str(np.sum(richness_before['richness'])))\n",
    "    print(\"Mean richness after: \" + str(np.sum(richness_after['richness'])))\n",
    "\n",
    "    fig, axs = plt.subplots(nrows=2, ncols=3)\n",
    "    axs[0, 0].hist(richness_before['richness'], alpha=0.5, linewidth=1.2)\n",
    "    axs[0, 0].hist(richness_after['richness'], alpha=0.5, linewidth=1.2)\n",
    "\n",
    "    shannon_before = generate_shannon_frame(actual_dist_before)\n",
    "    shannon_after = generate_shannon_frame(actual_dist_after)\n",
    "    \n",
    "    axs[0, 1].hist(shannon_before['shannon_entropy'], alpha=0.5, linewidth=1.2)\n",
    "    axs[0, 1].hist(shannon_after['shannon_entropy'], alpha=0.5, linewidth=1.2)\n",
    "\n",
    "    return fig\n",
    "\n",
    "fig = plot_diff(suitable_tree_before, suitable_tree_after)\n",
    "fig.show()"
   ]
  },
  {
   "cell_type": "code",
   "execution_count": 7,
   "metadata": {},
   "outputs": [
    {
     "data": {
      "text/html": [
       "<div>\n",
       "<style scoped>\n",
       "    .dataframe tbody tr th:only-of-type {\n",
       "        vertical-align: middle;\n",
       "    }\n",
       "\n",
       "    .dataframe tbody tr th {\n",
       "        vertical-align: top;\n",
       "    }\n",
       "\n",
       "    .dataframe thead th {\n",
       "        text-align: right;\n",
       "    }\n",
       "</style>\n",
       "<table border=\"1\" class=\"dataframe\">\n",
       "  <thead>\n",
       "    <tr style=\"text-align: right;\">\n",
       "      <th></th>\n",
       "      <th>ScientificName</th>\n",
       "      <th>TaxonID</th>\n",
       "      <th>Date</th>\n",
       "      <th>Latitude</th>\n",
       "      <th>Longitude</th>\n",
       "      <th>Municipality</th>\n",
       "      <th>Year</th>\n",
       "    </tr>\n",
       "  </thead>\n",
       "  <tbody>\n",
       "    <tr>\n",
       "      <th>0</th>\n",
       "      <td>Strix aluco</td>\n",
       "      <td>http://tun.fi/MX.28998</td>\n",
       "      <td>2000-01-01 - 2000-12-31</td>\n",
       "      <td>60.340900</td>\n",
       "      <td>25.242500</td>\n",
       "      <td>Sipoo</td>\n",
       "      <td>2000</td>\n",
       "    </tr>\n",
       "    <tr>\n",
       "      <th>1</th>\n",
       "      <td>Fringilla coelebs</td>\n",
       "      <td>http://tun.fi/MX.36237</td>\n",
       "      <td>2001-07-24</td>\n",
       "      <td>60.177000</td>\n",
       "      <td>24.202000</td>\n",
       "      <td>Siuntio</td>\n",
       "      <td>2001</td>\n",
       "    </tr>\n",
       "    <tr>\n",
       "      <th>2</th>\n",
       "      <td>Certhia familiaris</td>\n",
       "      <td>http://tun.fi/MX.34616</td>\n",
       "      <td>2000-05-14</td>\n",
       "      <td>60.442100</td>\n",
       "      <td>24.519000</td>\n",
       "      <td>Vihti</td>\n",
       "      <td>2000</td>\n",
       "    </tr>\n",
       "    <tr>\n",
       "      <th>3</th>\n",
       "      <td>Cyanistes caeruleus</td>\n",
       "      <td>http://tun.fi/MX.34574</td>\n",
       "      <td>2000-04-25</td>\n",
       "      <td>61.593000</td>\n",
       "      <td>27.318800</td>\n",
       "      <td>Mikkeli</td>\n",
       "      <td>2000</td>\n",
       "    </tr>\n",
       "    <tr>\n",
       "      <th>4</th>\n",
       "      <td>Corvus monedula</td>\n",
       "      <td>http://tun.fi/MX.37142</td>\n",
       "      <td>2001-04-22</td>\n",
       "      <td>60.177000</td>\n",
       "      <td>24.202000</td>\n",
       "      <td>Siuntio</td>\n",
       "      <td>2001</td>\n",
       "    </tr>\n",
       "    <tr>\n",
       "      <th>...</th>\n",
       "      <td>...</td>\n",
       "      <td>...</td>\n",
       "      <td>...</td>\n",
       "      <td>...</td>\n",
       "      <td>...</td>\n",
       "      <td>...</td>\n",
       "      <td>...</td>\n",
       "    </tr>\n",
       "    <tr>\n",
       "      <th>987433</th>\n",
       "      <td>Picoides tridactylus</td>\n",
       "      <td>http://tun.fi/MX.30453</td>\n",
       "      <td>2022-06-07</td>\n",
       "      <td>68.925050</td>\n",
       "      <td>26.778422</td>\n",
       "      <td>Inari</td>\n",
       "      <td>2022</td>\n",
       "    </tr>\n",
       "    <tr>\n",
       "      <th>987434</th>\n",
       "      <td>Picoides tridactylus</td>\n",
       "      <td>http://tun.fi/MX.30453</td>\n",
       "      <td>2022-06-21</td>\n",
       "      <td>69.018273</td>\n",
       "      <td>26.737819</td>\n",
       "      <td>Inari</td>\n",
       "      <td>2022</td>\n",
       "    </tr>\n",
       "    <tr>\n",
       "      <th>987435</th>\n",
       "      <td>Motacilla flava</td>\n",
       "      <td>http://tun.fi/MX.32180</td>\n",
       "      <td>2022-05-19</td>\n",
       "      <td>61.226294</td>\n",
       "      <td>28.811891</td>\n",
       "      <td>Imatra</td>\n",
       "      <td>2022</td>\n",
       "    </tr>\n",
       "    <tr>\n",
       "      <th>987436</th>\n",
       "      <td>Delichon urbicum</td>\n",
       "      <td>http://tun.fi/MX.32163</td>\n",
       "      <td>2022-05-19</td>\n",
       "      <td>61.221876</td>\n",
       "      <td>28.797762</td>\n",
       "      <td>Imatra</td>\n",
       "      <td>2022</td>\n",
       "    </tr>\n",
       "    <tr>\n",
       "      <th>987437</th>\n",
       "      <td>Gallinago gallinago</td>\n",
       "      <td>http://tun.fi/MX.27666</td>\n",
       "      <td>2022-06-01</td>\n",
       "      <td>61.229233</td>\n",
       "      <td>27.473784</td>\n",
       "      <td>Savitaipale</td>\n",
       "      <td>2022</td>\n",
       "    </tr>\n",
       "  </tbody>\n",
       "</table>\n",
       "<p>11393012 rows × 7 columns</p>\n",
       "</div>"
      ],
      "text/plain": [
       "              ScientificName                 TaxonID                     Date  \\\n",
       "0                Strix aluco  http://tun.fi/MX.28998  2000-01-01 - 2000-12-31   \n",
       "1          Fringilla coelebs  http://tun.fi/MX.36237               2001-07-24   \n",
       "2         Certhia familiaris  http://tun.fi/MX.34616               2000-05-14   \n",
       "3        Cyanistes caeruleus  http://tun.fi/MX.34574               2000-04-25   \n",
       "4            Corvus monedula  http://tun.fi/MX.37142               2001-04-22   \n",
       "...                      ...                     ...                      ...   \n",
       "987433  Picoides tridactylus  http://tun.fi/MX.30453               2022-06-07   \n",
       "987434  Picoides tridactylus  http://tun.fi/MX.30453               2022-06-21   \n",
       "987435       Motacilla flava  http://tun.fi/MX.32180               2022-05-19   \n",
       "987436      Delichon urbicum  http://tun.fi/MX.32163               2022-05-19   \n",
       "987437   Gallinago gallinago  http://tun.fi/MX.27666               2022-06-01   \n",
       "\n",
       "         Latitude  Longitude Municipality  Year  \n",
       "0       60.340900  25.242500        Sipoo  2000  \n",
       "1       60.177000  24.202000      Siuntio  2001  \n",
       "2       60.442100  24.519000        Vihti  2000  \n",
       "3       61.593000  27.318800      Mikkeli  2000  \n",
       "4       60.177000  24.202000      Siuntio  2001  \n",
       "...           ...        ...          ...   ...  \n",
       "987433  68.925050  26.778422        Inari  2022  \n",
       "987434  69.018273  26.737819        Inari  2022  \n",
       "987435  61.226294  28.811891       Imatra  2022  \n",
       "987436  61.221876  28.797762       Imatra  2022  \n",
       "987437  61.229233  27.473784  Savitaipale  2022  \n",
       "\n",
       "[11393012 rows x 7 columns]"
      ]
     },
     "execution_count": 7,
     "metadata": {},
     "output_type": "execute_result"
    }
   ],
   "source": [
    "birds_df = load_data()  \n",
    "birds_df.dropna(subset=['Latitude', 'Longitude'], inplace=True)\n",
    "birds_df['Year'] = birds_df['Date'].apply(lambda row: row[:4])\n",
    "birds_df"
   ]
  },
  {
   "cell_type": "code",
   "execution_count": 8,
   "metadata": {},
   "outputs": [
    {
     "data": {
      "text/html": [
       "<div>\n",
       "<style scoped>\n",
       "    .dataframe tbody tr th:only-of-type {\n",
       "        vertical-align: middle;\n",
       "    }\n",
       "\n",
       "    .dataframe tbody tr th {\n",
       "        vertical-align: top;\n",
       "    }\n",
       "\n",
       "    .dataframe thead th {\n",
       "        text-align: right;\n",
       "    }\n",
       "</style>\n",
       "<table border=\"1\" class=\"dataframe\">\n",
       "  <thead>\n",
       "    <tr style=\"text-align: right;\">\n",
       "      <th></th>\n",
       "      <th>h3_cell</th>\n",
       "      <th>observations_id</th>\n",
       "      <th>count</th>\n",
       "      <th>neighbors</th>\n",
       "    </tr>\n",
       "  </thead>\n",
       "  <tbody>\n",
       "    <tr>\n",
       "      <th>0</th>\n",
       "      <td>85012603fffffff</td>\n",
       "      <td>[83371, 83379, 83388, 83391, 83392, 83393, 833...</td>\n",
       "      <td>1450</td>\n",
       "      <td>{85012603fffffff, 8501261bfffffff, 8501260ffff...</td>\n",
       "    </tr>\n",
       "    <tr>\n",
       "      <th>1</th>\n",
       "      <td>85012613fffffff</td>\n",
       "      <td>[83372, 83373, 83374, 83375, 83376, 83377, 833...</td>\n",
       "      <td>1165</td>\n",
       "      <td>{85012603fffffff, 8501268ffffffff, 8501261bfff...</td>\n",
       "    </tr>\n",
       "    <tr>\n",
       "      <th>2</th>\n",
       "      <td>85012617fffffff</td>\n",
       "      <td>[1012023, 1106452, 1106453, 1106454, 1106455, ...</td>\n",
       "      <td>52</td>\n",
       "      <td>{85012603fffffff, 8501268ffffffff, 850126bbfff...</td>\n",
       "    </tr>\n",
       "    <tr>\n",
       "      <th>3</th>\n",
       "      <td>8501261bfffffff</td>\n",
       "      <td>[4865, 4866, 5194, 5195, 653607, 2681, 4502, 4...</td>\n",
       "      <td>1365</td>\n",
       "      <td>{85012603fffffff, 850126cffffffff, 8501261bfff...</td>\n",
       "    </tr>\n",
       "    <tr>\n",
       "      <th>4</th>\n",
       "      <td>85012643fffffff</td>\n",
       "      <td>[709475, 709476, 709477, 709478, 709479, 70948...</td>\n",
       "      <td>447</td>\n",
       "      <td>{85012647fffffff, 8501264ffffffff, 85012653fff...</td>\n",
       "    </tr>\n",
       "    <tr>\n",
       "      <th>...</th>\n",
       "      <td>...</td>\n",
       "      <td>...</td>\n",
       "      <td>...</td>\n",
       "      <td>...</td>\n",
       "    </tr>\n",
       "    <tr>\n",
       "      <th>2063</th>\n",
       "      <td>85112ed3fffffff</td>\n",
       "      <td>[196349, 530183, 537374, 569130, 582496, 61454...</td>\n",
       "      <td>2895</td>\n",
       "      <td>{85112ed3fffffff, 85112edbfffffff, 851123a7fff...</td>\n",
       "    </tr>\n",
       "    <tr>\n",
       "      <th>2064</th>\n",
       "      <td>85112ed7fffffff</td>\n",
       "      <td>[197417, 205764, 403088, 530176, 530177, 70028...</td>\n",
       "      <td>2062</td>\n",
       "      <td>{85112ed3fffffff, 85112e9bfffffff, 85112ec7fff...</td>\n",
       "    </tr>\n",
       "    <tr>\n",
       "      <th>2065</th>\n",
       "      <td>85112edbfffffff</td>\n",
       "      <td>[196347, 196348, 268174, 268175, 268176, 66772...</td>\n",
       "      <td>3742</td>\n",
       "      <td>{85112ed3fffffff, 85112ecbfffffff, 85112337fff...</td>\n",
       "    </tr>\n",
       "    <tr>\n",
       "      <th>2066</th>\n",
       "      <td>851135a7fffffff</td>\n",
       "      <td>[647965]</td>\n",
       "      <td>1</td>\n",
       "      <td>{851135affffffff, 851122d3fffffff, 851135b7fff...</td>\n",
       "    </tr>\n",
       "    <tr>\n",
       "      <th>2067</th>\n",
       "      <td>851135b7fffffff</td>\n",
       "      <td>[867926, 917550, 917551, 917552, 917553, 91755...</td>\n",
       "      <td>101</td>\n",
       "      <td>{8511264ffffffff, 851135b7fffffff, 851135a3fff...</td>\n",
       "    </tr>\n",
       "  </tbody>\n",
       "</table>\n",
       "<p>2068 rows × 4 columns</p>\n",
       "</div>"
      ],
      "text/plain": [
       "              h3_cell                                    observations_id  \\\n",
       "0     85012603fffffff  [83371, 83379, 83388, 83391, 83392, 83393, 833...   \n",
       "1     85012613fffffff  [83372, 83373, 83374, 83375, 83376, 83377, 833...   \n",
       "2     85012617fffffff  [1012023, 1106452, 1106453, 1106454, 1106455, ...   \n",
       "3     8501261bfffffff  [4865, 4866, 5194, 5195, 653607, 2681, 4502, 4...   \n",
       "4     85012643fffffff  [709475, 709476, 709477, 709478, 709479, 70948...   \n",
       "...               ...                                                ...   \n",
       "2063  85112ed3fffffff  [196349, 530183, 537374, 569130, 582496, 61454...   \n",
       "2064  85112ed7fffffff  [197417, 205764, 403088, 530176, 530177, 70028...   \n",
       "2065  85112edbfffffff  [196347, 196348, 268174, 268175, 268176, 66772...   \n",
       "2066  851135a7fffffff                                           [647965]   \n",
       "2067  851135b7fffffff  [867926, 917550, 917551, 917552, 917553, 91755...   \n",
       "\n",
       "      count                                          neighbors  \n",
       "0      1450  {85012603fffffff, 8501261bfffffff, 8501260ffff...  \n",
       "1      1165  {85012603fffffff, 8501268ffffffff, 8501261bfff...  \n",
       "2        52  {85012603fffffff, 8501268ffffffff, 850126bbfff...  \n",
       "3      1365  {85012603fffffff, 850126cffffffff, 8501261bfff...  \n",
       "4       447  {85012647fffffff, 8501264ffffffff, 85012653fff...  \n",
       "...     ...                                                ...  \n",
       "2063   2895  {85112ed3fffffff, 85112edbfffffff, 851123a7fff...  \n",
       "2064   2062  {85112ed3fffffff, 85112e9bfffffff, 85112ec7fff...  \n",
       "2065   3742  {85112ed3fffffff, 85112ecbfffffff, 85112337fff...  \n",
       "2066      1  {851135affffffff, 851122d3fffffff, 851135b7fff...  \n",
       "2067    101  {8511264ffffffff, 851135b7fffffff, 851135a3fff...  \n",
       "\n",
       "[2068 rows x 4 columns]"
      ]
     },
     "execution_count": 8,
     "metadata": {},
     "output_type": "execute_result"
    }
   ],
   "source": [
    "grid_object = h3_grid()\n",
    "grid_object.fit(birds_df)\n",
    "grid_object.grid_info()"
   ]
  },
  {
   "cell_type": "code",
   "execution_count": 36,
   "metadata": {},
   "outputs": [
    {
     "data": {
      "text/html": [
       "<div>\n",
       "<style scoped>\n",
       "    .dataframe tbody tr th:only-of-type {\n",
       "        vertical-align: middle;\n",
       "    }\n",
       "\n",
       "    .dataframe tbody tr th {\n",
       "        vertical-align: top;\n",
       "    }\n",
       "\n",
       "    .dataframe thead th {\n",
       "        text-align: right;\n",
       "    }\n",
       "</style>\n",
       "<table border=\"1\" class=\"dataframe\">\n",
       "  <thead>\n",
       "    <tr style=\"text-align: right;\">\n",
       "      <th></th>\n",
       "      <th>ScientificName</th>\n",
       "      <th>TaxonID</th>\n",
       "      <th>Date</th>\n",
       "      <th>Latitude</th>\n",
       "      <th>Longitude</th>\n",
       "      <th>Municipality</th>\n",
       "      <th>Year</th>\n",
       "      <th>h3_cell</th>\n",
       "    </tr>\n",
       "  </thead>\n",
       "  <tbody>\n",
       "    <tr>\n",
       "      <th>37</th>\n",
       "      <td>Cygnus cygnus</td>\n",
       "      <td>http://tun.fi/MX.26280</td>\n",
       "      <td>2001-10-18</td>\n",
       "      <td>63.315400</td>\n",
       "      <td>30.042400</td>\n",
       "      <td>Lieksa</td>\n",
       "      <td>2001</td>\n",
       "      <td>85112813fffffff</td>\n",
       "    </tr>\n",
       "    <tr>\n",
       "      <th>61</th>\n",
       "      <td>Carduelis spinus</td>\n",
       "      <td>http://tun.fi/MX.36287</td>\n",
       "      <td>2001-07-31</td>\n",
       "      <td>60.239593</td>\n",
       "      <td>25.800290</td>\n",
       "      <td>Porvoo</td>\n",
       "      <td>2001</td>\n",
       "      <td>85112657fffffff</td>\n",
       "    </tr>\n",
       "    <tr>\n",
       "      <th>62</th>\n",
       "      <td>Bombycilla garrulus</td>\n",
       "      <td>http://tun.fi/MX.32608</td>\n",
       "      <td>2001-10-12</td>\n",
       "      <td>60.239593</td>\n",
       "      <td>25.800290</td>\n",
       "      <td>Porvoo</td>\n",
       "      <td>2001</td>\n",
       "      <td>85112657fffffff</td>\n",
       "    </tr>\n",
       "    <tr>\n",
       "      <th>70</th>\n",
       "      <td>Ficedula hypoleuca</td>\n",
       "      <td>http://tun.fi/MX.34021</td>\n",
       "      <td>2000-08-08</td>\n",
       "      <td>59.810200</td>\n",
       "      <td>22.895800</td>\n",
       "      <td>Hanko</td>\n",
       "      <td>2000</td>\n",
       "      <td>850898b3fffffff</td>\n",
       "    </tr>\n",
       "    <tr>\n",
       "      <th>86</th>\n",
       "      <td>Corvus corone cornix</td>\n",
       "      <td>http://tun.fi/MX.37166</td>\n",
       "      <td>2000-04-01 - 2000-04-30</td>\n",
       "      <td>64.256107</td>\n",
       "      <td>23.921607</td>\n",
       "      <td>Kalajoki</td>\n",
       "      <td>2000</td>\n",
       "      <td>8508d427fffffff</td>\n",
       "    </tr>\n",
       "    <tr>\n",
       "      <th>...</th>\n",
       "      <td>...</td>\n",
       "      <td>...</td>\n",
       "      <td>...</td>\n",
       "      <td>...</td>\n",
       "      <td>...</td>\n",
       "      <td>...</td>\n",
       "      <td>...</td>\n",
       "      <td>...</td>\n",
       "    </tr>\n",
       "    <tr>\n",
       "      <th>987398</th>\n",
       "      <td>Parus major</td>\n",
       "      <td>http://tun.fi/MX.34567</td>\n",
       "      <td>2022-07-14</td>\n",
       "      <td>61.545375</td>\n",
       "      <td>29.503310</td>\n",
       "      <td>Parikkala</td>\n",
       "      <td>2022</td>\n",
       "      <td>8511059bfffffff</td>\n",
       "    </tr>\n",
       "    <tr>\n",
       "      <th>987399</th>\n",
       "      <td>Fringilla coelebs</td>\n",
       "      <td>http://tun.fi/MX.36237</td>\n",
       "      <td>2022-07-14</td>\n",
       "      <td>61.543862</td>\n",
       "      <td>29.503018</td>\n",
       "      <td>Parikkala</td>\n",
       "      <td>2022</td>\n",
       "      <td>8511059bfffffff</td>\n",
       "    </tr>\n",
       "    <tr>\n",
       "      <th>987400</th>\n",
       "      <td>Parus major</td>\n",
       "      <td>http://tun.fi/MX.34567</td>\n",
       "      <td>2022-07-14</td>\n",
       "      <td>61.543146</td>\n",
       "      <td>29.497992</td>\n",
       "      <td>Parikkala</td>\n",
       "      <td>2022</td>\n",
       "      <td>8511059bfffffff</td>\n",
       "    </tr>\n",
       "    <tr>\n",
       "      <th>987401</th>\n",
       "      <td>Cyanistes caeruleus</td>\n",
       "      <td>http://tun.fi/MX.34574</td>\n",
       "      <td>2022-07-14</td>\n",
       "      <td>61.543470</td>\n",
       "      <td>29.495985</td>\n",
       "      <td>Parikkala</td>\n",
       "      <td>2022</td>\n",
       "      <td>8511059bfffffff</td>\n",
       "    </tr>\n",
       "    <tr>\n",
       "      <th>987421</th>\n",
       "      <td>Phoenicurus phoenicurus</td>\n",
       "      <td>http://tun.fi/MX.32895</td>\n",
       "      <td>2022-05-31</td>\n",
       "      <td>62.608354</td>\n",
       "      <td>29.505575</td>\n",
       "      <td>Liperi</td>\n",
       "      <td>2022</td>\n",
       "      <td>85112e07fffffff</td>\n",
       "    </tr>\n",
       "  </tbody>\n",
       "</table>\n",
       "<p>1382980 rows × 8 columns</p>\n",
       "</div>"
      ],
      "text/plain": [
       "                 ScientificName                 TaxonID  \\\n",
       "37                Cygnus cygnus  http://tun.fi/MX.26280   \n",
       "61             Carduelis spinus  http://tun.fi/MX.36287   \n",
       "62          Bombycilla garrulus  http://tun.fi/MX.32608   \n",
       "70           Ficedula hypoleuca  http://tun.fi/MX.34021   \n",
       "86         Corvus corone cornix  http://tun.fi/MX.37166   \n",
       "...                         ...                     ...   \n",
       "987398              Parus major  http://tun.fi/MX.34567   \n",
       "987399        Fringilla coelebs  http://tun.fi/MX.36237   \n",
       "987400              Parus major  http://tun.fi/MX.34567   \n",
       "987401      Cyanistes caeruleus  http://tun.fi/MX.34574   \n",
       "987421  Phoenicurus phoenicurus  http://tun.fi/MX.32895   \n",
       "\n",
       "                           Date   Latitude  Longitude Municipality  Year  \\\n",
       "37                   2001-10-18  63.315400  30.042400       Lieksa  2001   \n",
       "61                   2001-07-31  60.239593  25.800290       Porvoo  2001   \n",
       "62                   2001-10-12  60.239593  25.800290       Porvoo  2001   \n",
       "70                   2000-08-08  59.810200  22.895800        Hanko  2000   \n",
       "86      2000-04-01 - 2000-04-30  64.256107  23.921607     Kalajoki  2000   \n",
       "...                         ...        ...        ...          ...   ...   \n",
       "987398               2022-07-14  61.545375  29.503310    Parikkala  2022   \n",
       "987399               2022-07-14  61.543862  29.503018    Parikkala  2022   \n",
       "987400               2022-07-14  61.543146  29.497992    Parikkala  2022   \n",
       "987401               2022-07-14  61.543470  29.495985    Parikkala  2022   \n",
       "987421               2022-05-31  62.608354  29.505575       Liperi  2022   \n",
       "\n",
       "                h3_cell  \n",
       "37      85112813fffffff  \n",
       "61      85112657fffffff  \n",
       "62      85112657fffffff  \n",
       "70      850898b3fffffff  \n",
       "86      8508d427fffffff  \n",
       "...                 ...  \n",
       "987398  8511059bfffffff  \n",
       "987399  8511059bfffffff  \n",
       "987400  8511059bfffffff  \n",
       "987401  8511059bfffffff  \n",
       "987421  85112e07fffffff  \n",
       "\n",
       "[1382980 rows x 8 columns]"
      ]
     },
     "execution_count": 36,
     "metadata": {},
     "output_type": "execute_result"
    }
   ],
   "source": [
    "suitable_birds_df, suitable_birds_before, suitable_birds_after = find_suitable_threshold(bunting_df, birds_df, 2004)\n",
    "suitable_birds_df"
   ]
  },
  {
   "cell_type": "code",
   "execution_count": 42,
   "metadata": {},
   "outputs": [
    {
     "name": "stdout",
     "output_type": "stream",
     "text": [
      "Mean richness before: 2489\n",
      "Mean richness after: 5483\n"
     ]
    },
    {
     "name": "stderr",
     "output_type": "stream",
     "text": [
      "C:\\Users\\LAM HAI YEN\\AppData\\Local\\Temp\\ipykernel_24540\\1241081335.py:2: UserWarning: Matplotlib is currently using module://matplotlib_inline.backend_inline, which is a non-GUI backend, so cannot show the figure.\n",
      "  fig.show()\n"
     ]
    },
    {
     "data": {
      "image/png": "[encoded data removed]",
      "text/plain": [
       "<Figure size 640x480 with 6 Axes>"
      ]
     },
     "metadata": {},
     "output_type": "display_data"
    }
   ],
   "source": [
    "fig = plot_diff(suitable_birds_before, suitable_birds_after)\n",
    "fig.show()"
   ]
  },
  {
   "cell_type": "code",
   "execution_count": 129,
   "metadata": {},
   "outputs": [
    {
     "name": "stderr",
     "output_type": "stream",
     "text": [
      "C:\\Users\\LAM HAI YEN\\AppData\\Local\\Temp\\ipykernel_29944\\3213564387.py:2: FutureWarning:\n",
      "\n",
      "The provided callable <built-in function max> is currently using SeriesGroupBy.max. In a future version of pandas, the provided callable will be used directly. To keep current behavior pass the string \"max\" instead.\n",
      "\n",
      "C:\\Users\\LAM HAI YEN\\AppData\\Local\\Temp\\ipykernel_29944\\3213564387.py:6: FutureWarning:\n",
      "\n",
      "The provided callable <built-in function min> is currently using SeriesGroupBy.min. In a future version of pandas, the provided callable will be used directly. To keep current behavior pass the string \"min\" instead.\n",
      "\n"
     ]
    },
    {
     "data": {
      "text/plain": [
       "({'85112657fffffff': '1952',\n",
       "  '85112803fffffff': '1938',\n",
       "  '8508c24bfffffff': '1920',\n",
       "  '8508d19bfffffff': '2003',\n",
       "  '8508d183fffffff': '1999',\n",
       "  '8508d18bfffffff': '1971',\n",
       "  '85112ad7fffffff': '1993',\n",
       "  '85112ad3fffffff': '1996',\n",
       "  '85112e3bfffffff': '2001',\n",
       "  '851123cffffffff': '2003',\n",
       "  '8511229bfffffff': '1966',\n",
       "  '8508d427fffffff': '1996',\n",
       "  '85088853fffffff': '1984',\n",
       "  '8508d80bfffffff': '1990',\n",
       "  '85112813fffffff': '1984',\n",
       "  '85110583fffffff': '1988',\n",
       "  '8511059bfffffff': '1986',\n",
       "  '8511236ffffffff': '1986',\n",
       "  '85112ebbfffffff': '1999',\n",
       "  '85112e07fffffff': '1987',\n",
       "  '851105b7fffffff': '1975',\n",
       "  '85089da7fffffff': '2023',\n",
       "  '850898b3fffffff': '1996',\n",
       "  '851124d3fffffff': '1998',\n",
       "  '8508d803fffffff': '1976',\n",
       "  '85088227fffffff': '1977',\n",
       "  '8508d577fffffff': '1977',\n",
       "  '850899b3fffffff': '1982',\n",
       "  '85112d8ffffffff': '1993',\n",
       "  '85112e57fffffff': '2007',\n",
       "  '8508d35bfffffff': '2000',\n",
       "  '850888a7fffffff': '2007',\n",
       "  '85112457fffffff': '2004'},\n",
       " {'85112657fffffff': '1952',\n",
       "  '85112803fffffff': '1938',\n",
       "  '8508c24bfffffff': '1920',\n",
       "  '8508d19bfffffff': '1952',\n",
       "  '8508d183fffffff': '1963',\n",
       "  '8508d18bfffffff': '1968',\n",
       "  '85112ad7fffffff': '1993',\n",
       "  '85112ad3fffffff': '1983',\n",
       "  '85112e3bfffffff': '1985',\n",
       "  '851123cffffffff': '2003',\n",
       "  '8511229bfffffff': '1966',\n",
       "  '8508d427fffffff': '1980',\n",
       "  '85088853fffffff': '1982',\n",
       "  '8508d80bfffffff': '1990',\n",
       "  '85112813fffffff': '1977',\n",
       "  '85110583fffffff': '1978',\n",
       "  '8511059bfffffff': '1979',\n",
       "  '8511236ffffffff': '1986',\n",
       "  '85112ebbfffffff': '1990',\n",
       "  '85112e07fffffff': '1987',\n",
       "  '851105b7fffffff': '1975',\n",
       "  '85089da7fffffff': '2023',\n",
       "  '850898b3fffffff': '1996',\n",
       "  '851124d3fffffff': '1998',\n",
       "  '8508d803fffffff': '1976',\n",
       "  '85088227fffffff': '1976',\n",
       "  '8508d577fffffff': '1969',\n",
       "  '850899b3fffffff': '1982',\n",
       "  '85112d8ffffffff': '1993',\n",
       "  '85112e57fffffff': '2007',\n",
       "  '8508d35bfffffff': '2000',\n",
       "  '850888a7fffffff': '2007',\n",
       "  '85112457fffffff': '2004'})"
      ]
     },
     "execution_count": 129,
     "metadata": {},
     "output_type": "execute_result"
    }
   ],
   "source": [
    "def find_endpoints (target_df):\n",
    "    latest_year = target_df.groupby(['h3_cell'])['Year'].transform(max)\n",
    "    latest_year = latest_year.tolist()\n",
    "    cell_to_latest = dict(zip(target_df['h3_cell'].tolist(), latest_year))\n",
    "\n",
    "    earliest_year = target_df.groupby(['h3_cell'])['Year'].transform(min)\n",
    "    earliest_year = earliest_year.tolist()\n",
    "    cell_to_earliest = dict(zip(target_df['h3_cell'].tolist(), earliest_year))\n",
    "    return cell_to_latest, cell_to_earliest\n",
    "\n",
    "find_endpoints(bunting_df)"
   ]
  },
  {
   "cell_type": "code",
   "execution_count": 130,
   "metadata": {},
   "outputs": [
    {
     "name": "stderr",
     "output_type": "stream",
     "text": [
      "C:\\Users\\LAM HAI YEN\\AppData\\Local\\Temp\\ipykernel_29944\\3213564387.py:2: FutureWarning:\n",
      "\n",
      "The provided callable <built-in function max> is currently using SeriesGroupBy.max. In a future version of pandas, the provided callable will be used directly. To keep current behavior pass the string \"max\" instead.\n",
      "\n",
      "C:\\Users\\LAM HAI YEN\\AppData\\Local\\Temp\\ipykernel_29944\\3213564387.py:6: FutureWarning:\n",
      "\n",
      "The provided callable <built-in function min> is currently using SeriesGroupBy.min. In a future version of pandas, the provided callable will be used directly. To keep current behavior pass the string \"min\" instead.\n",
      "\n",
      "C:\\Users\\LAM HAI YEN\\AppData\\Local\\Temp\\ipykernel_29944\\3420110926.py:20: FutureWarning:\n",
      "\n",
      "The behavior of DataFrame concatenation with empty or all-NA entries is deprecated. In a future version, this will no longer exclude empty or all-NA columns when determining the result dtypes. To retain the old behavior, exclude the relevant entries before the concat operation.\n",
      "\n",
      "C:\\Users\\LAM HAI YEN\\AppData\\Local\\Temp\\ipykernel_29944\\3420110926.py:9: FutureWarning:\n",
      "\n",
      "The behavior of DataFrame concatenation with empty or all-NA entries is deprecated. In a future version, this will no longer exclude empty or all-NA columns when determining the result dtypes. To retain the old behavior, exclude the relevant entries before the concat operation.\n",
      "\n",
      "C:\\Users\\LAM HAI YEN\\AppData\\Local\\Temp\\ipykernel_29944\\3420110926.py:15: FutureWarning:\n",
      "\n",
      "The behavior of DataFrame concatenation with empty or all-NA entries is deprecated. In a future version, this will no longer exclude empty or all-NA columns when determining the result dtypes. To retain the old behavior, exclude the relevant entries before the concat operation.\n",
      "\n",
      "C:\\Users\\LAM HAI YEN\\AppData\\Local\\Temp\\ipykernel_29944\\3420110926.py:15: FutureWarning:\n",
      "\n",
      "The behavior of DataFrame concatenation with empty or all-NA entries is deprecated. In a future version, this will no longer exclude empty or all-NA columns when determining the result dtypes. To retain the old behavior, exclude the relevant entries before the concat operation.\n",
      "\n",
      "C:\\Users\\LAM HAI YEN\\AppData\\Local\\Temp\\ipykernel_29944\\3420110926.py:20: FutureWarning:\n",
      "\n",
      "The behavior of DataFrame concatenation with empty or all-NA entries is deprecated. In a future version, this will no longer exclude empty or all-NA columns when determining the result dtypes. To retain the old behavior, exclude the relevant entries before the concat operation.\n",
      "\n",
      "C:\\Users\\LAM HAI YEN\\AppData\\Local\\Temp\\ipykernel_29944\\3420110926.py:20: FutureWarning:\n",
      "\n",
      "The behavior of DataFrame concatenation with empty or all-NA entries is deprecated. In a future version, this will no longer exclude empty or all-NA columns when determining the result dtypes. To retain the old behavior, exclude the relevant entries before the concat operation.\n",
      "\n",
      "C:\\Users\\LAM HAI YEN\\AppData\\Local\\Temp\\ipykernel_29944\\3420110926.py:15: FutureWarning:\n",
      "\n",
      "The behavior of DataFrame concatenation with empty or all-NA entries is deprecated. In a future version, this will no longer exclude empty or all-NA columns when determining the result dtypes. To retain the old behavior, exclude the relevant entries before the concat operation.\n",
      "\n"
     ]
    },
    {
     "name": "stdout",
     "output_type": "stream",
     "text": [
      "{'85112ebbfffffff', '85088227fffffff', '8508d19bfffffff', '85112ad3fffffff', '85112e3bfffffff', '850888a7fffffff', '85112813fffffff', '8508d183fffffff'}\n"
     ]
    },
    {
     "data": {
      "text/html": [
       "<div>\n",
       "<style scoped>\n",
       "    .dataframe tbody tr th:only-of-type {\n",
       "        vertical-align: middle;\n",
       "    }\n",
       "\n",
       "    .dataframe tbody tr th {\n",
       "        vertical-align: top;\n",
       "    }\n",
       "\n",
       "    .dataframe thead th {\n",
       "        text-align: right;\n",
       "    }\n",
       "</style>\n",
       "<table border=\"1\" class=\"dataframe\">\n",
       "  <thead>\n",
       "    <tr style=\"text-align: right;\">\n",
       "      <th></th>\n",
       "      <th>Date</th>\n",
       "      <th>Latitude</th>\n",
       "      <th>Longitude</th>\n",
       "      <th>Municipality</th>\n",
       "      <th>TaxonID</th>\n",
       "      <th>ScientificName</th>\n",
       "      <th>verbatim</th>\n",
       "      <th>Year</th>\n",
       "      <th>h3_cell</th>\n",
       "    </tr>\n",
       "  </thead>\n",
       "  <tbody>\n",
       "    <tr>\n",
       "      <th>84269</th>\n",
       "      <td>1999-07-27</td>\n",
       "      <td>64.829209</td>\n",
       "      <td>25.311193</td>\n",
       "      <td>Liminka</td>\n",
       "      <td>http://tun.fi/MX.37819</td>\n",
       "      <td>Pinus sylvestris</td>\n",
       "      <td>Pinus sylvestris</td>\n",
       "      <td>1999</td>\n",
       "      <td>8508d19bfffffff</td>\n",
       "    </tr>\n",
       "    <tr>\n",
       "      <th>94053</th>\n",
       "      <td>1988-07-25</td>\n",
       "      <td>64.836557</td>\n",
       "      <td>25.173743</td>\n",
       "      <td>Lumijoki</td>\n",
       "      <td>http://tun.fi/MX.37819</td>\n",
       "      <td>Pinus sylvestris</td>\n",
       "      <td>Pinus sylvestris</td>\n",
       "      <td>1988</td>\n",
       "      <td>8508d19bfffffff</td>\n",
       "    </tr>\n",
       "    <tr>\n",
       "      <th>83898</th>\n",
       "      <td>1999-09-19</td>\n",
       "      <td>65.014283</td>\n",
       "      <td>25.548765</td>\n",
       "      <td>Oulu</td>\n",
       "      <td>http://tun.fi/MX.37819</td>\n",
       "      <td>Pinus sylvestris</td>\n",
       "      <td>Pinus sylvestris</td>\n",
       "      <td>1999</td>\n",
       "      <td>8508d183fffffff</td>\n",
       "    </tr>\n",
       "    <tr>\n",
       "      <th>83914</th>\n",
       "      <td>1999-09-16</td>\n",
       "      <td>65.036919</td>\n",
       "      <td>25.436072</td>\n",
       "      <td>Oulu</td>\n",
       "      <td>http://tun.fi/MX.37819</td>\n",
       "      <td>Pinus sylvestris</td>\n",
       "      <td>Pinus sylvestris</td>\n",
       "      <td>1999</td>\n",
       "      <td>8508d183fffffff</td>\n",
       "    </tr>\n",
       "    <tr>\n",
       "      <th>83915</th>\n",
       "      <td>1999-09-16</td>\n",
       "      <td>65.033682</td>\n",
       "      <td>25.426706</td>\n",
       "      <td>Oulu</td>\n",
       "      <td>http://tun.fi/MX.37823</td>\n",
       "      <td>Pinus sibirica</td>\n",
       "      <td>Pinus cembra subsp. sibirica</td>\n",
       "      <td>1999</td>\n",
       "      <td>8508d183fffffff</td>\n",
       "    </tr>\n",
       "    <tr>\n",
       "      <th>...</th>\n",
       "      <td>...</td>\n",
       "      <td>...</td>\n",
       "      <td>...</td>\n",
       "      <td>...</td>\n",
       "      <td>...</td>\n",
       "      <td>...</td>\n",
       "      <td>...</td>\n",
       "      <td>...</td>\n",
       "      <td>...</td>\n",
       "    </tr>\n",
       "    <tr>\n",
       "      <th>88472</th>\n",
       "      <td>1994-07-12</td>\n",
       "      <td>62.671619</td>\n",
       "      <td>28.997243</td>\n",
       "      <td>Outokumpu</td>\n",
       "      <td>http://tun.fi/MX.37819</td>\n",
       "      <td>Pinus sylvestris</td>\n",
       "      <td>Pinus sylvestris</td>\n",
       "      <td>1994</td>\n",
       "      <td>85112ebbfffffff</td>\n",
       "    </tr>\n",
       "    <tr>\n",
       "      <th>88479</th>\n",
       "      <td>1994-07-12</td>\n",
       "      <td>62.653962</td>\n",
       "      <td>28.976543</td>\n",
       "      <td>Outokumpu</td>\n",
       "      <td>http://tun.fi/MX.37819</td>\n",
       "      <td>Pinus sylvestris</td>\n",
       "      <td>Pinus sylvestris</td>\n",
       "      <td>1994</td>\n",
       "      <td>85112ebbfffffff</td>\n",
       "    </tr>\n",
       "    <tr>\n",
       "      <th>101816</th>\n",
       "      <td>1977-01-01 - 1978-12-31</td>\n",
       "      <td>59.839816</td>\n",
       "      <td>19.933462</td>\n",
       "      <td>Lemland</td>\n",
       "      <td>http://tun.fi/MX.37819</td>\n",
       "      <td>Pinus sylvestris</td>\n",
       "      <td>Pinus sylvestris</td>\n",
       "      <td>1977</td>\n",
       "      <td>85088227fffffff</td>\n",
       "    </tr>\n",
       "    <tr>\n",
       "      <th>74337</th>\n",
       "      <td>2007-06-17</td>\n",
       "      <td>62.502566</td>\n",
       "      <td>21.811469</td>\n",
       "      <td>Teuva</td>\n",
       "      <td>http://tun.fi/MX.37819</td>\n",
       "      <td>Pinus sylvestris</td>\n",
       "      <td>Pinus sylvestris</td>\n",
       "      <td>2007</td>\n",
       "      <td>850888a7fffffff</td>\n",
       "    </tr>\n",
       "    <tr>\n",
       "      <th>74374</th>\n",
       "      <td>2007-06-17</td>\n",
       "      <td>62.502566</td>\n",
       "      <td>21.811469</td>\n",
       "      <td>Teuva</td>\n",
       "      <td>http://tun.fi/MX.37819</td>\n",
       "      <td>Pinus sylvestris</td>\n",
       "      <td>Pinus sylvestris</td>\n",
       "      <td>2007</td>\n",
       "      <td>850888a7fffffff</td>\n",
       "    </tr>\n",
       "  </tbody>\n",
       "</table>\n",
       "<p>131 rows × 9 columns</p>\n",
       "</div>"
      ],
      "text/plain": [
       "                           Date   Latitude  Longitude Municipality  \\\n",
       "84269                1999-07-27  64.829209  25.311193      Liminka   \n",
       "94053                1988-07-25  64.836557  25.173743     Lumijoki   \n",
       "83898                1999-09-19  65.014283  25.548765         Oulu   \n",
       "83914                1999-09-16  65.036919  25.436072         Oulu   \n",
       "83915                1999-09-16  65.033682  25.426706         Oulu   \n",
       "...                         ...        ...        ...          ...   \n",
       "88472                1994-07-12  62.671619  28.997243    Outokumpu   \n",
       "88479                1994-07-12  62.653962  28.976543    Outokumpu   \n",
       "101816  1977-01-01 - 1978-12-31  59.839816  19.933462      Lemland   \n",
       "74337                2007-06-17  62.502566  21.811469        Teuva   \n",
       "74374                2007-06-17  62.502566  21.811469        Teuva   \n",
       "\n",
       "                       TaxonID    ScientificName  \\\n",
       "84269   http://tun.fi/MX.37819  Pinus sylvestris   \n",
       "94053   http://tun.fi/MX.37819  Pinus sylvestris   \n",
       "83898   http://tun.fi/MX.37819  Pinus sylvestris   \n",
       "83914   http://tun.fi/MX.37819  Pinus sylvestris   \n",
       "83915   http://tun.fi/MX.37823    Pinus sibirica   \n",
       "...                        ...               ...   \n",
       "88472   http://tun.fi/MX.37819  Pinus sylvestris   \n",
       "88479   http://tun.fi/MX.37819  Pinus sylvestris   \n",
       "101816  http://tun.fi/MX.37819  Pinus sylvestris   \n",
       "74337   http://tun.fi/MX.37819  Pinus sylvestris   \n",
       "74374   http://tun.fi/MX.37819  Pinus sylvestris   \n",
       "\n",
       "                            verbatim  Year          h3_cell  \n",
       "84269               Pinus sylvestris  1999  8508d19bfffffff  \n",
       "94053               Pinus sylvestris  1988  8508d19bfffffff  \n",
       "83898               Pinus sylvestris  1999  8508d183fffffff  \n",
       "83914               Pinus sylvestris  1999  8508d183fffffff  \n",
       "83915   Pinus cembra subsp. sibirica  1999  8508d183fffffff  \n",
       "...                              ...   ...              ...  \n",
       "88472               Pinus sylvestris  1994  85112ebbfffffff  \n",
       "88479               Pinus sylvestris  1994  85112ebbfffffff  \n",
       "101816              Pinus sylvestris  1977  85088227fffffff  \n",
       "74337               Pinus sylvestris  2007  850888a7fffffff  \n",
       "74374               Pinus sylvestris  2007  850888a7fffffff  \n",
       "\n",
       "[131 rows x 9 columns]"
      ]
     },
     "execution_count": 130,
     "metadata": {},
     "output_type": "execute_result"
    }
   ],
   "source": [
    "def find_suitable_disappearance (target_df, population_df):\n",
    "    cell_to_latest, cell_to_earliest = find_endpoints(target_df)\n",
    "    population_before = [pd.DataFrame(columns = population_df.columns) for i in range(3)]\n",
    "    population_appearance = pd.DataFrame(columns = population_df.columns)\n",
    "    population_after = [pd.DataFrame(columns=population_df.columns) for i in range(3)]\n",
    "\n",
    "    for cell in cell_to_latest:\n",
    "        cell_population = population_df[population_df['h3_cell'] == cell]\n",
    "        population_appearance = pd.concat([\n",
    "            population_appearance, \n",
    "            cell_population[(cell_population['Year'].astype(int) <= int(cell_to_latest[cell])) & \n",
    "                            (cell_population['Year'].astype(int) >= int(cell_to_earliest[cell]))]\n",
    "        ])\n",
    "        for i in range(3):\n",
    "            population_before[i] = pd.concat([\n",
    "                population_before[i],\n",
    "                cell_population[(cell_population['Year'].astype(int) <= (int(cell_to_latest[cell]) - i*3 - 1)) &\n",
    "                                (cell_population['Year'].astype(int) > (int(cell_to_latest[cell]) - (i + 1)*3 - 1))]\n",
    "            ])\n",
    "            population_after[i] = pd.concat([\n",
    "                population_after[i],\n",
    "                cell_population[(cell_population['Year'].astype(int) >= (int(cell_to_latest[cell]) + i*3 + 1)) &\n",
    "                                (cell_population['Year'].astype(int) < (int(cell_to_latest[cell]) + (i + 1)*3 + 1))]\n",
    "            ])\n",
    "            \n",
    "    return cell_to_latest, cell_to_earliest, population_before, population_appearance, population_after\n",
    "\n",
    "cell_to_latest, cell_to_earliest, tree_before, tree_appearance, tree_after = find_suitable_disappearance(bunting_df, tree_df)\n",
    "print(set(tree_appearance['h3_cell']))\n",
    "tree_appearance"
   ]
  },
  {
   "cell_type": "code",
   "execution_count": 174,
   "metadata": {},
   "outputs": [
    {
     "data": {
      "text/html": [
       "<div>\n",
       "<style scoped>\n",
       "    .dataframe tbody tr th:only-of-type {\n",
       "        vertical-align: middle;\n",
       "    }\n",
       "\n",
       "    .dataframe tbody tr th {\n",
       "        vertical-align: top;\n",
       "    }\n",
       "\n",
       "    .dataframe thead th {\n",
       "        text-align: right;\n",
       "    }\n",
       "</style>\n",
       "<table border=\"1\" class=\"dataframe\">\n",
       "  <thead>\n",
       "    <tr style=\"text-align: right;\">\n",
       "      <th></th>\n",
       "      <th>richness_before_7_9</th>\n",
       "      <th>richness_before_4_6</th>\n",
       "      <th>richness_before_1_3</th>\n",
       "      <th>richness_appearance</th>\n",
       "      <th>richness_after_1_3</th>\n",
       "      <th>richness_after_4_6</th>\n",
       "      <th>richness_after_7_9</th>\n",
       "    </tr>\n",
       "    <tr>\n",
       "      <th>h3_cell</th>\n",
       "      <th></th>\n",
       "      <th></th>\n",
       "      <th></th>\n",
       "      <th></th>\n",
       "      <th></th>\n",
       "      <th></th>\n",
       "      <th></th>\n",
       "    </tr>\n",
       "  </thead>\n",
       "  <tbody>\n",
       "    <tr>\n",
       "      <th>85088227fffffff</th>\n",
       "      <td>NaN</td>\n",
       "      <td>NaN</td>\n",
       "      <td>NaN</td>\n",
       "      <td>1.0</td>\n",
       "      <td>NaN</td>\n",
       "      <td>NaN</td>\n",
       "      <td>NaN</td>\n",
       "    </tr>\n",
       "    <tr>\n",
       "      <th>850888a7fffffff</th>\n",
       "      <td>NaN</td>\n",
       "      <td>NaN</td>\n",
       "      <td>NaN</td>\n",
       "      <td>1.0</td>\n",
       "      <td>2.0</td>\n",
       "      <td>NaN</td>\n",
       "      <td>NaN</td>\n",
       "    </tr>\n",
       "    <tr>\n",
       "      <th>8508d183fffffff</th>\n",
       "      <td>NaN</td>\n",
       "      <td>1.0</td>\n",
       "      <td>2.0</td>\n",
       "      <td>2.0</td>\n",
       "      <td>3.0</td>\n",
       "      <td>2.0</td>\n",
       "      <td>1.0</td>\n",
       "    </tr>\n",
       "    <tr>\n",
       "      <th>8508d19bfffffff</th>\n",
       "      <td>NaN</td>\n",
       "      <td>1.0</td>\n",
       "      <td>NaN</td>\n",
       "      <td>1.0</td>\n",
       "      <td>NaN</td>\n",
       "      <td>1.0</td>\n",
       "      <td>NaN</td>\n",
       "    </tr>\n",
       "    <tr>\n",
       "      <th>85112813fffffff</th>\n",
       "      <td>NaN</td>\n",
       "      <td>NaN</td>\n",
       "      <td>NaN</td>\n",
       "      <td>1.0</td>\n",
       "      <td>NaN</td>\n",
       "      <td>NaN</td>\n",
       "      <td>NaN</td>\n",
       "    </tr>\n",
       "    <tr>\n",
       "      <th>85112ad3fffffff</th>\n",
       "      <td>1.0</td>\n",
       "      <td>1.0</td>\n",
       "      <td>NaN</td>\n",
       "      <td>1.0</td>\n",
       "      <td>1.0</td>\n",
       "      <td>NaN</td>\n",
       "      <td>1.0</td>\n",
       "    </tr>\n",
       "    <tr>\n",
       "      <th>85112e3bfffffff</th>\n",
       "      <td>1.0</td>\n",
       "      <td>1.0</td>\n",
       "      <td>1.0</td>\n",
       "      <td>1.0</td>\n",
       "      <td>2.0</td>\n",
       "      <td>1.0</td>\n",
       "      <td>1.0</td>\n",
       "    </tr>\n",
       "    <tr>\n",
       "      <th>85112ebbfffffff</th>\n",
       "      <td>NaN</td>\n",
       "      <td>1.0</td>\n",
       "      <td>NaN</td>\n",
       "      <td>1.0</td>\n",
       "      <td>NaN</td>\n",
       "      <td>1.0</td>\n",
       "      <td>1.0</td>\n",
       "    </tr>\n",
       "  </tbody>\n",
       "</table>\n",
       "</div>"
      ],
      "text/plain": [
       "                 richness_before_7_9  richness_before_4_6  \\\n",
       "h3_cell                                                     \n",
       "85088227fffffff                  NaN                  NaN   \n",
       "850888a7fffffff                  NaN                  NaN   \n",
       "8508d183fffffff                  NaN                  1.0   \n",
       "8508d19bfffffff                  NaN                  1.0   \n",
       "85112813fffffff                  NaN                  NaN   \n",
       "85112ad3fffffff                  1.0                  1.0   \n",
       "85112e3bfffffff                  1.0                  1.0   \n",
       "85112ebbfffffff                  NaN                  1.0   \n",
       "\n",
       "                 richness_before_1_3  richness_appearance  richness_after_1_3  \\\n",
       "h3_cell                                                                         \n",
       "85088227fffffff                  NaN                  1.0                 NaN   \n",
       "850888a7fffffff                  NaN                  1.0                 2.0   \n",
       "8508d183fffffff                  2.0                  2.0                 3.0   \n",
       "8508d19bfffffff                  NaN                  1.0                 NaN   \n",
       "85112813fffffff                  NaN                  1.0                 NaN   \n",
       "85112ad3fffffff                  NaN                  1.0                 1.0   \n",
       "85112e3bfffffff                  1.0                  1.0                 2.0   \n",
       "85112ebbfffffff                  NaN                  1.0                 NaN   \n",
       "\n",
       "                 richness_after_4_6  richness_after_7_9  \n",
       "h3_cell                                                  \n",
       "85088227fffffff                 NaN                 NaN  \n",
       "850888a7fffffff                 NaN                 NaN  \n",
       "8508d183fffffff                 2.0                 1.0  \n",
       "8508d19bfffffff                 1.0                 NaN  \n",
       "85112813fffffff                 NaN                 NaN  \n",
       "85112ad3fffffff                 NaN                 1.0  \n",
       "85112e3bfffffff                 1.0                 1.0  \n",
       "85112ebbfffffff                 1.0                 1.0  "
      ]
     },
     "execution_count": 174,
     "metadata": {},
     "output_type": "execute_result"
    }
   ],
   "source": [
    "actual_model = ActualDistribution('h3_cell', 'ScientificName')\n",
    "actual_dist_appearance = actual_model.fit(tree_appearance)\n",
    "actual_dist_before = [actual_model.fit(population_before) for population_before in tree_before]\n",
    "actual_dist_after = [actual_model.fit(population_after) for population_after in tree_after]\n",
    "\n",
    "def merge_richness (distribution_before, distribution_appearance, distribution_after):\n",
    "    richness_appearance = generate_richness_frame(distribution_appearance)\n",
    "    richness_appearance.rename(columns={'richness': 'richness_appearance'}, inplace=True)\n",
    "    richness_appearance.set_index('h3_cell', inplace=True)\n",
    "    time_columns = ['richness_appearance']\n",
    "    richness_merged = richness_appearance.copy()\n",
    "    for i in range(3):\n",
    "        dist_before = distribution_before[i]\n",
    "        dist_after = distribution_after[i]\n",
    "\n",
    "        r_before_column = 'richness_before_{}_{}'.format(i*3+1, (i+1)*3)\n",
    "        r_before = generate_richness_frame(dist_before)\n",
    "        r_before.rename(columns = {'richness': r_before_column}, inplace = True)\n",
    "        r_before.set_index('h3_cell', inplace=True)\n",
    "        time_columns = [r_before_column] + time_columns\n",
    "        \n",
    "        r_after_column = 'richness_after_{}_{}'.format(i*3+1, (i+1)*3)\n",
    "        r_after = generate_richness_frame(dist_after)\n",
    "        r_after.rename(columns = {'richness': r_after_column}, inplace = True)\n",
    "        r_after.set_index('h3_cell', inplace=True)\n",
    "        time_columns = time_columns + [r_after_column]\n",
    "\n",
    "        richness_merged = pd.merge(richness_merged, r_before, how='outer', left_index=True, right_index=True)\n",
    "        richness_merged = pd.merge(richness_merged, r_after, how='outer', left_index=True, right_index=True)\n",
    "    \n",
    "    richness_merged.dropna(subset = ['richness_appearance'], inplace = True)\n",
    "    richness_merged = richness_merged[time_columns]\n",
    "    return richness_merged\n",
    "\n",
    "richness_merged = merge_richness (actual_dist_before, actual_dist_appearance, actual_dist_after)\n",
    "richness_merged"
   ]
  },
  {
   "cell_type": "code",
   "execution_count": 175,
   "metadata": {},
   "outputs": [
    {
     "name": "stdout",
     "output_type": "stream",
     "text": [
      "Pair with most significant difference: ('richness_before_1_3', 'richness_after_1_3')\n",
      "Smallest p-value: 0.0\n",
      "\n",
      "Pairs with significant difference at alpha = 0.05:\n",
      "===================================================\n",
      "'richness_before_1_3' and 'richness_after_1_3' -- pvalue: 0.0\n"
     ]
    },
    {
     "name": "stderr",
     "output_type": "stream",
     "text": [
      "c:\\Users\\LAM HAI YEN\\AppData\\Local\\Programs\\Python\\Python311\\Lib\\site-packages\\scipy\\stats\\_stats_py.py:1103: RuntimeWarning:\n",
      "\n",
      "divide by zero encountered in divide\n",
      "\n",
      "c:\\Users\\LAM HAI YEN\\AppData\\Local\\Programs\\Python\\Python311\\Lib\\site-packages\\scipy\\stats\\_stats_py.py:1103: RuntimeWarning:\n",
      "\n",
      "invalid value encountered in scalar multiply\n",
      "\n",
      "c:\\Users\\LAM HAI YEN\\AppData\\Local\\Programs\\Python\\Python311\\Lib\\site-packages\\scipy\\stats\\_axis_nan_policy.py:523: RuntimeWarning:\n",
      "\n",
      "Precision loss occurred in moment calculation due to catastrophic cancellation. This occurs when the data are nearly identical. Results may be unreliable.\n",
      "\n"
     ]
    }
   ],
   "source": [
    "def test_effect (merged_metrics):\n",
    "    test_results = []\n",
    "    test_pairs = []\n",
    "    for column1 in merged_metrics.columns:\n",
    "        for column2 in merged_metrics.columns:\n",
    "            if column1 == column2:\n",
    "                continue\n",
    "            if (\"before\" in column1 and \"before\" in column2) or (\"after\" in column1 and \"after\" in column2):\n",
    "                continue\n",
    "            if (column2, column1) in test_pairs:\n",
    "                continue\n",
    "            valid_indices = (merged_metrics[column1].notna()) & (merged_metrics[column2].notna())\n",
    "            valid_1 = merged_metrics[column1][valid_indices]\n",
    "            valid_2 = merged_metrics[column2][valid_indices]\n",
    "            test_results.append(ttest_rel(valid_1, valid_2))\n",
    "            test_pairs.append((column1, column2))\n",
    "    return test_results, test_pairs\n",
    "\n",
    "def log_effect (test_results, test_pairs, sign_threshold = 0.05):\n",
    "    test_pvalues = [test.pvalue for test in test_results]\n",
    "    most_sign_index = np.nanargmin(test_pvalues)\n",
    "    print(\"Pair with most significant difference: {}\".format(test_pairs[most_sign_index]))\n",
    "    print(\"Smallest p-value: {}\".format(test_pvalues[most_sign_index]))\n",
    "    print()\n",
    "\n",
    "    print(\"Pairs with significant difference at alpha = {}:\".format(sign_threshold))\n",
    "    print(\"===================================================\")\n",
    "    sign_indices = np.array(test_pvalues) <= sign_threshold\n",
    "    sign_pairs = (np.array(test_pairs)[sign_indices]).tolist()\n",
    "    sign_pvalues = (np.array(test_pvalues)[sign_indices]).tolist()\n",
    "    for i in range(len(sign_pairs)):\n",
    "        print(\"'{}' and '{}' -- pvalue: {}\".format(sign_pairs[i][0], sign_pairs[i][1], sign_pvalues[i]))\n",
    "\n",
    "test_results, test_pairs = test_effect(richness_merged)\n",
    "log_effect (test_results, test_pairs)"
   ]
  },
  {
   "cell_type": "code",
   "execution_count": 176,
   "metadata": {},
   "outputs": [
    {
     "data": {
      "application/vnd.plotly.v1+json": {
       "config": {
        "plotlyServerURL": "https://plot.ly"
       },
       "data": [
        {
         "name": "richness_before_1_3",
         "type": "bar",
         "x": [
          "8508d183fffffff",
          "85112e3bfffffff"
         ],
         "xaxis": "x",
         "y": [
          2,
          1
         ],
         "yaxis": "y"
        },
        {
         "name": "richness_appearance",
         "type": "bar",
         "x": [
          "8508d183fffffff",
          "85112e3bfffffff"
         ],
         "xaxis": "x",
         "y": [
          2,
          1
         ],
         "yaxis": "y"
        },
        {
         "name": "richness_after_1_3",
         "type": "bar",
         "x": [
          "8508d183fffffff",
          "85112e3bfffffff"
         ],
         "xaxis": "x",
         "y": [
          3,
          2
         ],
         "yaxis": "y"
        },
        {
         "line": {
          "color": "rgb(235, 211, 54)",
          "width": 3
         },
         "marker": {
          "color": "rgb(235, 211, 54)",
          "size": 10
         },
         "name": "nof_years_with_obs",
         "type": "scatter",
         "x": [
          "8508d183fffffff",
          "85112e3bfffffff"
         ],
         "xaxis": "x",
         "y": [
          36,
          16
         ],
         "yaxis": "y2"
        }
       ],
       "layout": {
        "template": {
         "data": {
          "bar": [
           {
            "error_x": {
             "color": "#2a3f5f"
            },
            "error_y": {
             "color": "#2a3f5f"
            },
            "marker": {
             "line": {
              "color": "#E5ECF6",
              "width": 0.5
             },
             "pattern": {
              "fillmode": "overlay",
              "size": 10,
              "solidity": 0.2
             }
            },
            "type": "bar"
           }
          ],
          "barpolar": [
           {
            "marker": {
             "line": {
              "color": "#E5ECF6",
              "width": 0.5
             },
             "pattern": {
              "fillmode": "overlay",
              "size": 10,
              "solidity": 0.2
             }
            },
            "type": "barpolar"
           }
          ],
          "carpet": [
           {
            "aaxis": {
             "endlinecolor": "#2a3f5f",
             "gridcolor": "white",
             "linecolor": "white",
             "minorgridcolor": "white",
             "startlinecolor": "#2a3f5f"
            },
            "baxis": {
             "endlinecolor": "#2a3f5f",
             "gridcolor": "white",
             "linecolor": "white",
             "minorgridcolor": "white",
             "startlinecolor": "#2a3f5f"
            },
            "type": "carpet"
           }
          ],
          "choropleth": [
           {
            "colorbar": {
             "outlinewidth": 0,
             "ticks": ""
            },
            "type": "choropleth"
           }
          ],
          "contour": [
           {
            "colorbar": {
             "outlinewidth": 0,
             "ticks": ""
            },
            "colorscale": [
             [
              0,
              "#0d0887"
             ],
             [
              0.1111111111111111,
              "#46039f"
             ],
             [
              0.2222222222222222,
              "#7201a8"
             ],
             [
              0.3333333333333333,
              "#9c179e"
             ],
             [
              0.4444444444444444,
              "#bd3786"
             ],
             [
              0.5555555555555556,
              "#d8576b"
             ],
             [
              0.6666666666666666,
              "#ed7953"
             ],
             [
              0.7777777777777778,
              "#fb9f3a"
             ],
             [
              0.8888888888888888,
              "#fdca26"
             ],
             [
              1,
              "#f0f921"
             ]
            ],
            "type": "contour"
           }
          ],
          "contourcarpet": [
           {
            "colorbar": {
             "outlinewidth": 0,
             "ticks": ""
            },
            "type": "contourcarpet"
           }
          ],
          "heatmap": [
           {
            "colorbar": {
             "outlinewidth": 0,
             "ticks": ""
            },
            "colorscale": [
             [
              0,
              "#0d0887"
             ],
             [
              0.1111111111111111,
              "#46039f"
             ],
             [
              0.2222222222222222,
              "#7201a8"
             ],
             [
              0.3333333333333333,
              "#9c179e"
             ],
             [
              0.4444444444444444,
              "#bd3786"
             ],
             [
              0.5555555555555556,
              "#d8576b"
             ],
             [
              0.6666666666666666,
              "#ed7953"
             ],
             [
              0.7777777777777778,
              "#fb9f3a"
             ],
             [
              0.8888888888888888,
              "#fdca26"
             ],
             [
              1,
              "#f0f921"
             ]
            ],
            "type": "heatmap"
           }
          ],
          "heatmapgl": [
           {
            "colorbar": {
             "outlinewidth": 0,
             "ticks": ""
            },
            "colorscale": [
             [
              0,
              "#0d0887"
             ],
             [
              0.1111111111111111,
              "#46039f"
             ],
             [
              0.2222222222222222,
              "#7201a8"
             ],
             [
              0.3333333333333333,
              "#9c179e"
             ],
             [
              0.4444444444444444,
              "#bd3786"
             ],
             [
              0.5555555555555556,
              "#d8576b"
             ],
             [
              0.6666666666666666,
              "#ed7953"
             ],
             [
              0.7777777777777778,
              "#fb9f3a"
             ],
             [
              0.8888888888888888,
              "#fdca26"
             ],
             [
              1,
              "#f0f921"
             ]
            ],
            "type": "heatmapgl"
           }
          ],
          "histogram": [
           {
            "marker": {
             "pattern": {
              "fillmode": "overlay",
              "size": 10,
              "solidity": 0.2
             }
            },
            "type": "histogram"
           }
          ],
          "histogram2d": [
           {
            "colorbar": {
             "outlinewidth": 0,
             "ticks": ""
            },
            "colorscale": [
             [
              0,
              "#0d0887"
             ],
             [
              0.1111111111111111,
              "#46039f"
             ],
             [
              0.2222222222222222,
              "#7201a8"
             ],
             [
              0.3333333333333333,
              "#9c179e"
             ],
             [
              0.4444444444444444,
              "#bd3786"
             ],
             [
              0.5555555555555556,
              "#d8576b"
             ],
             [
              0.6666666666666666,
              "#ed7953"
             ],
             [
              0.7777777777777778,
              "#fb9f3a"
             ],
             [
              0.8888888888888888,
              "#fdca26"
             ],
             [
              1,
              "#f0f921"
             ]
            ],
            "type": "histogram2d"
           }
          ],
          "histogram2dcontour": [
           {
            "colorbar": {
             "outlinewidth": 0,
             "ticks": ""
            },
            "colorscale": [
             [
              0,
              "#0d0887"
             ],
             [
              0.1111111111111111,
              "#46039f"
             ],
             [
              0.2222222222222222,
              "#7201a8"
             ],
             [
              0.3333333333333333,
              "#9c179e"
             ],
             [
              0.4444444444444444,
              "#bd3786"
             ],
             [
              0.5555555555555556,
              "#d8576b"
             ],
             [
              0.6666666666666666,
              "#ed7953"
             ],
             [
              0.7777777777777778,
              "#fb9f3a"
             ],
             [
              0.8888888888888888,
              "#fdca26"
             ],
             [
              1,
              "#f0f921"
             ]
            ],
            "type": "histogram2dcontour"
           }
          ],
          "mesh3d": [
           {
            "colorbar": {
             "outlinewidth": 0,
             "ticks": ""
            },
            "type": "mesh3d"
           }
          ],
          "parcoords": [
           {
            "line": {
             "colorbar": {
              "outlinewidth": 0,
              "ticks": ""
             }
            },
            "type": "parcoords"
           }
          ],
          "pie": [
           {
            "automargin": true,
            "type": "pie"
           }
          ],
          "scatter": [
           {
            "fillpattern": {
             "fillmode": "overlay",
             "size": 10,
             "solidity": 0.2
            },
            "type": "scatter"
           }
          ],
          "scatter3d": [
           {
            "line": {
             "colorbar": {
              "outlinewidth": 0,
              "ticks": ""
             }
            },
            "marker": {
             "colorbar": {
              "outlinewidth": 0,
              "ticks": ""
             }
            },
            "type": "scatter3d"
           }
          ],
          "scattercarpet": [
           {
            "marker": {
             "colorbar": {
              "outlinewidth": 0,
              "ticks": ""
             }
            },
            "type": "scattercarpet"
           }
          ],
          "scattergeo": [
           {
            "marker": {
             "colorbar": {
              "outlinewidth": 0,
              "ticks": ""
             }
            },
            "type": "scattergeo"
           }
          ],
          "scattergl": [
           {
            "marker": {
             "colorbar": {
              "outlinewidth": 0,
              "ticks": ""
             }
            },
            "type": "scattergl"
           }
          ],
          "scattermapbox": [
           {
            "marker": {
             "colorbar": {
              "outlinewidth": 0,
              "ticks": ""
             }
            },
            "type": "scattermapbox"
           }
          ],
          "scatterpolar": [
           {
            "marker": {
             "colorbar": {
              "outlinewidth": 0,
              "ticks": ""
             }
            },
            "type": "scatterpolar"
           }
          ],
          "scatterpolargl": [
           {
            "marker": {
             "colorbar": {
              "outlinewidth": 0,
              "ticks": ""
             }
            },
            "type": "scatterpolargl"
           }
          ],
          "scatterternary": [
           {
            "marker": {
             "colorbar": {
              "outlinewidth": 0,
              "ticks": ""
             }
            },
            "type": "scatterternary"
           }
          ],
          "surface": [
           {
            "colorbar": {
             "outlinewidth": 0,
             "ticks": ""
            },
            "colorscale": [
             [
              0,
              "#0d0887"
             ],
             [
              0.1111111111111111,
              "#46039f"
             ],
             [
              0.2222222222222222,
              "#7201a8"
             ],
             [
              0.3333333333333333,
              "#9c179e"
             ],
             [
              0.4444444444444444,
              "#bd3786"
             ],
             [
              0.5555555555555556,
              "#d8576b"
             ],
             [
              0.6666666666666666,
              "#ed7953"
             ],
             [
              0.7777777777777778,
              "#fb9f3a"
             ],
             [
              0.8888888888888888,
              "#fdca26"
             ],
             [
              1,
              "#f0f921"
             ]
            ],
            "type": "surface"
           }
          ],
          "table": [
           {
            "cells": {
             "fill": {
              "color": "#EBF0F8"
             },
             "line": {
              "color": "white"
             }
            },
            "header": {
             "fill": {
              "color": "#C8D4E3"
             },
             "line": {
              "color": "white"
             }
            },
            "type": "table"
           }
          ]
         },
         "layout": {
          "annotationdefaults": {
           "arrowcolor": "#2a3f5f",
           "arrowhead": 0,
           "arrowwidth": 1
          },
          "autotypenumbers": "strict",
          "coloraxis": {
           "colorbar": {
            "outlinewidth": 0,
            "ticks": ""
           }
          },
          "colorscale": {
           "diverging": [
            [
             0,
             "#8e0152"
            ],
            [
             0.1,
             "#c51b7d"
            ],
            [
             0.2,
             "#de77ae"
            ],
            [
             0.3,
             "#f1b6da"
            ],
            [
             0.4,
             "#fde0ef"
            ],
            [
             0.5,
             "#f7f7f7"
            ],
            [
             0.6,
             "#e6f5d0"
            ],
            [
             0.7,
             "#b8e186"
            ],
            [
             0.8,
             "#7fbc41"
            ],
            [
             0.9,
             "#4d9221"
            ],
            [
             1,
             "#276419"
            ]
           ],
           "sequential": [
            [
             0,
             "#0d0887"
            ],
            [
             0.1111111111111111,
             "#46039f"
            ],
            [
             0.2222222222222222,
             "#7201a8"
            ],
            [
             0.3333333333333333,
             "#9c179e"
            ],
            [
             0.4444444444444444,
             "#bd3786"
            ],
            [
             0.5555555555555556,
             "#d8576b"
            ],
            [
             0.6666666666666666,
             "#ed7953"
            ],
            [
             0.7777777777777778,
             "#fb9f3a"
            ],
            [
             0.8888888888888888,
             "#fdca26"
            ],
            [
             1,
             "#f0f921"
            ]
           ],
           "sequentialminus": [
            [
             0,
             "#0d0887"
            ],
            [
             0.1111111111111111,
             "#46039f"
            ],
            [
             0.2222222222222222,
             "#7201a8"
            ],
            [
             0.3333333333333333,
             "#9c179e"
            ],
            [
             0.4444444444444444,
             "#bd3786"
            ],
            [
             0.5555555555555556,
             "#d8576b"
            ],
            [
             0.6666666666666666,
             "#ed7953"
            ],
            [
             0.7777777777777778,
             "#fb9f3a"
            ],
            [
             0.8888888888888888,
             "#fdca26"
            ],
            [
             1,
             "#f0f921"
            ]
           ]
          },
          "colorway": [
           "#636efa",
           "#EF553B",
           "#00cc96",
           "#ab63fa",
           "#FFA15A",
           "#19d3f3",
           "#FF6692",
           "#B6E880",
           "#FF97FF",
           "#FECB52"
          ],
          "font": {
           "color": "#2a3f5f"
          },
          "geo": {
           "bgcolor": "white",
           "lakecolor": "white",
           "landcolor": "#E5ECF6",
           "showlakes": true,
           "showland": true,
           "subunitcolor": "white"
          },
          "hoverlabel": {
           "align": "left"
          },
          "hovermode": "closest",
          "mapbox": {
           "style": "light"
          },
          "paper_bgcolor": "white",
          "plot_bgcolor": "#E5ECF6",
          "polar": {
           "angularaxis": {
            "gridcolor": "white",
            "linecolor": "white",
            "ticks": ""
           },
           "bgcolor": "#E5ECF6",
           "radialaxis": {
            "gridcolor": "white",
            "linecolor": "white",
            "ticks": ""
           }
          },
          "scene": {
           "xaxis": {
            "backgroundcolor": "#E5ECF6",
            "gridcolor": "white",
            "gridwidth": 2,
            "linecolor": "white",
            "showbackground": true,
            "ticks": "",
            "zerolinecolor": "white"
           },
           "yaxis": {
            "backgroundcolor": "#E5ECF6",
            "gridcolor": "white",
            "gridwidth": 2,
            "linecolor": "white",
            "showbackground": true,
            "ticks": "",
            "zerolinecolor": "white"
           },
           "zaxis": {
            "backgroundcolor": "#E5ECF6",
            "gridcolor": "white",
            "gridwidth": 2,
            "linecolor": "white",
            "showbackground": true,
            "ticks": "",
            "zerolinecolor": "white"
           }
          },
          "shapedefaults": {
           "line": {
            "color": "#2a3f5f"
           }
          },
          "ternary": {
           "aaxis": {
            "gridcolor": "white",
            "linecolor": "white",
            "ticks": ""
           },
           "baxis": {
            "gridcolor": "white",
            "linecolor": "white",
            "ticks": ""
           },
           "bgcolor": "#E5ECF6",
           "caxis": {
            "gridcolor": "white",
            "linecolor": "white",
            "ticks": ""
           }
          },
          "title": {
           "x": 0.05
          },
          "xaxis": {
           "automargin": true,
           "gridcolor": "white",
           "linecolor": "white",
           "ticks": "",
           "title": {
            "standoff": 15
           },
           "zerolinecolor": "white",
           "zerolinewidth": 2
          },
          "yaxis": {
           "automargin": true,
           "gridcolor": "white",
           "linecolor": "white",
           "ticks": "",
           "title": {
            "standoff": 15
           },
           "zerolinecolor": "white",
           "zerolinewidth": 2
          }
         }
        },
        "title": {
         "text": "Tree species richness in areas<br>before, with and after yellow-breasted bunting observations",
         "x": 0.5
        },
        "xaxis": {
         "anchor": "y",
         "domain": [
          0,
          0.94
         ],
         "title": {
          "text": "Area Id"
         }
        },
        "yaxis": {
         "anchor": "x",
         "domain": [
          0,
          1
         ],
         "title": {
          "text": "Richness"
         }
        },
        "yaxis2": {
         "anchor": "x",
         "overlaying": "y",
         "side": "right",
         "title": {
          "text": "Number of years with observations"
         }
        }
       }
      }
     },
     "metadata": {},
     "output_type": "display_data"
    }
   ],
   "source": [
    "def plot_paired_effect (merged_df, time_stamps = ['before_1_3', 'appearance', 'after_1_3'], \n",
    "                        cell_to_latest = None, cell_to_earliest = None,\n",
    "                        title = None):\n",
    "    metric_name = merged_df.columns[0].split('_')[0]\n",
    "    if title == None:\n",
    "        title = metric_name.title()\n",
    "\n",
    "    merged_metric = merged_df.copy()\n",
    "    merged_metric = merged_metric[[metric_name + \"_\" + time_stamp for time_stamp in time_stamps]]\n",
    "    merged_metric.dropna(inplace = True)\n",
    "\n",
    "    data = []\n",
    "    for column in merged_metric.columns:\n",
    "        data.append(go.Bar(\n",
    "            name = column,\n",
    "            x = merged_metric.index,\n",
    "            y = merged_metric[column]\n",
    "        ))\n",
    "\n",
    "    fig = make_subplots(specs=[[{\"secondary_y\": True}]])\n",
    "    fig.update_layout(\n",
    "        title_text=title,\n",
    "        title_x=0.5\n",
    "    )\n",
    "\n",
    "    # Set x-axis title\n",
    "    fig.update_xaxes(title_text=\"Area Id\")\n",
    "\n",
    "    # Set y-axes titles\n",
    "    fig.update_yaxes(title_text=metric_name.title(), secondary_y=False)\n",
    "    for column in merged_metric.columns:\n",
    "        fig.add_trace(go.Bar(\n",
    "            name = column,\n",
    "            x = merged_metric.index,\n",
    "            y = merged_metric[column]\n",
    "        ), secondary_y=False)\n",
    "    \n",
    "    if cell_to_latest != None and cell_to_earliest != None:\n",
    "        fig.add_trace(\n",
    "            go.Scatter(\n",
    "                x = merged_metric.index, \n",
    "                y = merged_metric.index.map(lambda cell: int(cell_to_latest[cell]) - int(cell_to_earliest[cell])).tolist(), \n",
    "                line=dict(color='rgb(235, 211, 54)', width=3),\n",
    "                marker=dict(color='rgb(235, 211, 54)', size=10),\n",
    "                name=\"nof_years_with_obs\"), \n",
    "                secondary_y=True)\n",
    "        fig.update_yaxes(title_text=\"Number of years with observations\", secondary_y=True)\n",
    "        return fig\n",
    "    return fig\n",
    "\n",
    "fig = plot_paired_effect(richness_merged, cell_to_earliest=cell_to_earliest, cell_to_latest=cell_to_latest,\n",
    "                         title = \"Tree species richness in areas<br>before, with and after yellow-breasted bunting observations\")\n",
    "fig.write_html(f\"../web_interface/precomp_data/keystone/tree_paired_bunting_effect.html\")\n",
    "fig.show()"
   ]
  },
  {
   "cell_type": "code",
   "execution_count": 169,
   "metadata": {},
   "outputs": [
    {
     "name": "stderr",
     "output_type": "stream",
     "text": [
      "C:\\Users\\LAM HAI YEN\\AppData\\Local\\Temp\\ipykernel_29944\\3213564387.py:2: FutureWarning:\n",
      "\n",
      "The provided callable <built-in function max> is currently using SeriesGroupBy.max. In a future version of pandas, the provided callable will be used directly. To keep current behavior pass the string \"max\" instead.\n",
      "\n",
      "C:\\Users\\LAM HAI YEN\\AppData\\Local\\Temp\\ipykernel_29944\\3213564387.py:6: FutureWarning:\n",
      "\n",
      "The provided callable <built-in function min> is currently using SeriesGroupBy.min. In a future version of pandas, the provided callable will be used directly. To keep current behavior pass the string \"min\" instead.\n",
      "\n",
      "C:\\Users\\LAM HAI YEN\\AppData\\Local\\Temp\\ipykernel_29944\\3420110926.py:9: FutureWarning:\n",
      "\n",
      "The behavior of DataFrame concatenation with empty or all-NA entries is deprecated. In a future version, this will no longer exclude empty or all-NA columns when determining the result dtypes. To retain the old behavior, exclude the relevant entries before the concat operation.\n",
      "\n",
      "C:\\Users\\LAM HAI YEN\\AppData\\Local\\Temp\\ipykernel_29944\\3420110926.py:15: FutureWarning:\n",
      "\n",
      "The behavior of DataFrame concatenation with empty or all-NA entries is deprecated. In a future version, this will no longer exclude empty or all-NA columns when determining the result dtypes. To retain the old behavior, exclude the relevant entries before the concat operation.\n",
      "\n",
      "C:\\Users\\LAM HAI YEN\\AppData\\Local\\Temp\\ipykernel_29944\\3420110926.py:20: FutureWarning:\n",
      "\n",
      "The behavior of DataFrame concatenation with empty or all-NA entries is deprecated. In a future version, this will no longer exclude empty or all-NA columns when determining the result dtypes. To retain the old behavior, exclude the relevant entries before the concat operation.\n",
      "\n",
      "C:\\Users\\LAM HAI YEN\\AppData\\Local\\Temp\\ipykernel_29944\\3420110926.py:20: FutureWarning:\n",
      "\n",
      "The behavior of DataFrame concatenation with empty or all-NA entries is deprecated. In a future version, this will no longer exclude empty or all-NA columns when determining the result dtypes. To retain the old behavior, exclude the relevant entries before the concat operation.\n",
      "\n",
      "C:\\Users\\LAM HAI YEN\\AppData\\Local\\Temp\\ipykernel_29944\\3420110926.py:20: FutureWarning:\n",
      "\n",
      "The behavior of DataFrame concatenation with empty or all-NA entries is deprecated. In a future version, this will no longer exclude empty or all-NA columns when determining the result dtypes. To retain the old behavior, exclude the relevant entries before the concat operation.\n",
      "\n",
      "C:\\Users\\LAM HAI YEN\\AppData\\Local\\Temp\\ipykernel_29944\\3420110926.py:15: FutureWarning:\n",
      "\n",
      "The behavior of DataFrame concatenation with empty or all-NA entries is deprecated. In a future version, this will no longer exclude empty or all-NA columns when determining the result dtypes. To retain the old behavior, exclude the relevant entries before the concat operation.\n",
      "\n",
      "C:\\Users\\LAM HAI YEN\\AppData\\Local\\Temp\\ipykernel_29944\\3420110926.py:15: FutureWarning:\n",
      "\n",
      "The behavior of DataFrame concatenation with empty or all-NA entries is deprecated. In a future version, this will no longer exclude empty or all-NA columns when determining the result dtypes. To retain the old behavior, exclude the relevant entries before the concat operation.\n",
      "\n"
     ]
    },
    {
     "name": "stdout",
     "output_type": "stream",
     "text": [
      "{'85112457fffffff', '8508d19bfffffff', '85112e3bfffffff', '85112e57fffffff', '851123cffffffff', '850888a7fffffff', '8508d35bfffffff', '85089da7fffffff'}\n"
     ]
    },
    {
     "data": {
      "text/html": [
       "<div>\n",
       "<style scoped>\n",
       "    .dataframe tbody tr th:only-of-type {\n",
       "        vertical-align: middle;\n",
       "    }\n",
       "\n",
       "    .dataframe tbody tr th {\n",
       "        vertical-align: top;\n",
       "    }\n",
       "\n",
       "    .dataframe thead th {\n",
       "        text-align: right;\n",
       "    }\n",
       "</style>\n",
       "<table border=\"1\" class=\"dataframe\">\n",
       "  <thead>\n",
       "    <tr style=\"text-align: right;\">\n",
       "      <th></th>\n",
       "      <th>ScientificName</th>\n",
       "      <th>TaxonID</th>\n",
       "      <th>Date</th>\n",
       "      <th>Latitude</th>\n",
       "      <th>Longitude</th>\n",
       "      <th>Municipality</th>\n",
       "      <th>Year</th>\n",
       "      <th>h3_cell</th>\n",
       "    </tr>\n",
       "  </thead>\n",
       "  <tbody>\n",
       "    <tr>\n",
       "      <th>652</th>\n",
       "      <td>Cyanistes caeruleus</td>\n",
       "      <td>http://tun.fi/MX.34574</td>\n",
       "      <td>2000-05-03</td>\n",
       "      <td>64.843784</td>\n",
       "      <td>25.415498</td>\n",
       "      <td>Liminka</td>\n",
       "      <td>2000</td>\n",
       "      <td>8508d19bfffffff</td>\n",
       "    </tr>\n",
       "    <tr>\n",
       "      <th>657</th>\n",
       "      <td>Perdix perdix</td>\n",
       "      <td>http://tun.fi/MX.27048</td>\n",
       "      <td>2000-01-31</td>\n",
       "      <td>64.843784</td>\n",
       "      <td>25.415849</td>\n",
       "      <td>Liminka</td>\n",
       "      <td>2000</td>\n",
       "      <td>8508d19bfffffff</td>\n",
       "    </tr>\n",
       "    <tr>\n",
       "      <th>659</th>\n",
       "      <td>Emberiza citrinella</td>\n",
       "      <td>http://tun.fi/MX.35146</td>\n",
       "      <td>2000-05-10</td>\n",
       "      <td>64.843784</td>\n",
       "      <td>25.415849</td>\n",
       "      <td>Liminka</td>\n",
       "      <td>2000</td>\n",
       "      <td>8508d19bfffffff</td>\n",
       "    </tr>\n",
       "    <tr>\n",
       "      <th>673</th>\n",
       "      <td>Asio otus</td>\n",
       "      <td>http://tun.fi/MX.29068</td>\n",
       "      <td>2000-04-28</td>\n",
       "      <td>64.843784</td>\n",
       "      <td>25.415849</td>\n",
       "      <td>Liminka</td>\n",
       "      <td>2000</td>\n",
       "      <td>8508d19bfffffff</td>\n",
       "    </tr>\n",
       "    <tr>\n",
       "      <th>684</th>\n",
       "      <td>Emberiza schoeniclus</td>\n",
       "      <td>http://tun.fi/MX.35182</td>\n",
       "      <td>2000-05-20</td>\n",
       "      <td>64.843784</td>\n",
       "      <td>25.415849</td>\n",
       "      <td>Liminka</td>\n",
       "      <td>2000</td>\n",
       "      <td>8508d19bfffffff</td>\n",
       "    </tr>\n",
       "    <tr>\n",
       "      <th>...</th>\n",
       "      <td>...</td>\n",
       "      <td>...</td>\n",
       "      <td>...</td>\n",
       "      <td>...</td>\n",
       "      <td>...</td>\n",
       "      <td>...</td>\n",
       "      <td>...</td>\n",
       "      <td>...</td>\n",
       "    </tr>\n",
       "    <tr>\n",
       "      <th>715626</th>\n",
       "      <td>Sylvia borin</td>\n",
       "      <td>http://tun.fi/MX.33935</td>\n",
       "      <td>2004-05-28 [21:30-23:30]</td>\n",
       "      <td>61.129811</td>\n",
       "      <td>24.757690</td>\n",
       "      <td>Hämeenlinna</td>\n",
       "      <td>2004</td>\n",
       "      <td>85112457fffffff</td>\n",
       "    </tr>\n",
       "    <tr>\n",
       "      <th>715627</th>\n",
       "      <td>Sylvia atricapilla</td>\n",
       "      <td>http://tun.fi/MX.33934</td>\n",
       "      <td>2004-05-28 [21:30-23:30]</td>\n",
       "      <td>61.129811</td>\n",
       "      <td>24.757690</td>\n",
       "      <td>Hämeenlinna</td>\n",
       "      <td>2004</td>\n",
       "      <td>85112457fffffff</td>\n",
       "    </tr>\n",
       "    <tr>\n",
       "      <th>715628</th>\n",
       "      <td>Phylloscopus trochilus</td>\n",
       "      <td>http://tun.fi/MX.33873</td>\n",
       "      <td>2004-05-28 [21:30-23:30]</td>\n",
       "      <td>61.129811</td>\n",
       "      <td>24.757690</td>\n",
       "      <td>Hämeenlinna</td>\n",
       "      <td>2004</td>\n",
       "      <td>85112457fffffff</td>\n",
       "    </tr>\n",
       "    <tr>\n",
       "      <th>715629</th>\n",
       "      <td>Carpodacus erythrinus</td>\n",
       "      <td>http://tun.fi/MX.36331</td>\n",
       "      <td>2004-05-28 [21:30-23:30]</td>\n",
       "      <td>61.129811</td>\n",
       "      <td>24.757690</td>\n",
       "      <td>Hämeenlinna</td>\n",
       "      <td>2004</td>\n",
       "      <td>85112457fffffff</td>\n",
       "    </tr>\n",
       "    <tr>\n",
       "      <th>715630</th>\n",
       "      <td>Emberiza aureola</td>\n",
       "      <td>http://tun.fi/MX.35169</td>\n",
       "      <td>2004-05-28 [21:30-23:30]</td>\n",
       "      <td>61.129811</td>\n",
       "      <td>24.757690</td>\n",
       "      <td>Hämeenlinna</td>\n",
       "      <td>2004</td>\n",
       "      <td>85112457fffffff</td>\n",
       "    </tr>\n",
       "  </tbody>\n",
       "</table>\n",
       "<p>38993 rows × 8 columns</p>\n",
       "</div>"
      ],
      "text/plain": [
       "                ScientificName                 TaxonID  \\\n",
       "652        Cyanistes caeruleus  http://tun.fi/MX.34574   \n",
       "657              Perdix perdix  http://tun.fi/MX.27048   \n",
       "659        Emberiza citrinella  http://tun.fi/MX.35146   \n",
       "673                  Asio otus  http://tun.fi/MX.29068   \n",
       "684       Emberiza schoeniclus  http://tun.fi/MX.35182   \n",
       "...                        ...                     ...   \n",
       "715626            Sylvia borin  http://tun.fi/MX.33935   \n",
       "715627      Sylvia atricapilla  http://tun.fi/MX.33934   \n",
       "715628  Phylloscopus trochilus  http://tun.fi/MX.33873   \n",
       "715629   Carpodacus erythrinus  http://tun.fi/MX.36331   \n",
       "715630        Emberiza aureola  http://tun.fi/MX.35169   \n",
       "\n",
       "                            Date   Latitude  Longitude Municipality  Year  \\\n",
       "652                   2000-05-03  64.843784  25.415498      Liminka  2000   \n",
       "657                   2000-01-31  64.843784  25.415849      Liminka  2000   \n",
       "659                   2000-05-10  64.843784  25.415849      Liminka  2000   \n",
       "673                   2000-04-28  64.843784  25.415849      Liminka  2000   \n",
       "684                   2000-05-20  64.843784  25.415849      Liminka  2000   \n",
       "...                          ...        ...        ...          ...   ...   \n",
       "715626  2004-05-28 [21:30-23:30]  61.129811  24.757690  Hämeenlinna  2004   \n",
       "715627  2004-05-28 [21:30-23:30]  61.129811  24.757690  Hämeenlinna  2004   \n",
       "715628  2004-05-28 [21:30-23:30]  61.129811  24.757690  Hämeenlinna  2004   \n",
       "715629  2004-05-28 [21:30-23:30]  61.129811  24.757690  Hämeenlinna  2004   \n",
       "715630  2004-05-28 [21:30-23:30]  61.129811  24.757690  Hämeenlinna  2004   \n",
       "\n",
       "                h3_cell  \n",
       "652     8508d19bfffffff  \n",
       "657     8508d19bfffffff  \n",
       "659     8508d19bfffffff  \n",
       "673     8508d19bfffffff  \n",
       "684     8508d19bfffffff  \n",
       "...                 ...  \n",
       "715626  85112457fffffff  \n",
       "715627  85112457fffffff  \n",
       "715628  85112457fffffff  \n",
       "715629  85112457fffffff  \n",
       "715630  85112457fffffff  \n",
       "\n",
       "[38993 rows x 8 columns]"
      ]
     },
     "execution_count": 169,
     "metadata": {},
     "output_type": "execute_result"
    }
   ],
   "source": [
    "cell_to_latest, cell_to_earliest, bird_before, bird_appearance, bird_after = find_suitable_disappearance(bunting_df, birds_df)\n",
    "print(set(bird_appearance['h3_cell']))\n",
    "bird_appearance"
   ]
  },
  {
   "cell_type": "code",
   "execution_count": 177,
   "metadata": {},
   "outputs": [
    {
     "data": {
      "text/html": [
       "<div>\n",
       "<style scoped>\n",
       "    .dataframe tbody tr th:only-of-type {\n",
       "        vertical-align: middle;\n",
       "    }\n",
       "\n",
       "    .dataframe tbody tr th {\n",
       "        vertical-align: top;\n",
       "    }\n",
       "\n",
       "    .dataframe thead th {\n",
       "        text-align: right;\n",
       "    }\n",
       "</style>\n",
       "<table border=\"1\" class=\"dataframe\">\n",
       "  <thead>\n",
       "    <tr style=\"text-align: right;\">\n",
       "      <th></th>\n",
       "      <th>richness_before_7_9</th>\n",
       "      <th>richness_before_4_6</th>\n",
       "      <th>richness_before_1_3</th>\n",
       "      <th>richness_appearance</th>\n",
       "      <th>richness_after_1_3</th>\n",
       "      <th>richness_after_4_6</th>\n",
       "      <th>richness_after_7_9</th>\n",
       "    </tr>\n",
       "    <tr>\n",
       "      <th>h3_cell</th>\n",
       "      <th></th>\n",
       "      <th></th>\n",
       "      <th></th>\n",
       "      <th></th>\n",
       "      <th></th>\n",
       "      <th></th>\n",
       "      <th></th>\n",
       "    </tr>\n",
       "  </thead>\n",
       "  <tbody>\n",
       "    <tr>\n",
       "      <th>850888a7fffffff</th>\n",
       "      <td>31.0</td>\n",
       "      <td>37.0</td>\n",
       "      <td>105.0</td>\n",
       "      <td>93.0</td>\n",
       "      <td>125.0</td>\n",
       "      <td>120.0</td>\n",
       "      <td>136.0</td>\n",
       "    </tr>\n",
       "    <tr>\n",
       "      <th>85089da7fffffff</th>\n",
       "      <td>49.0</td>\n",
       "      <td>35.0</td>\n",
       "      <td>74.0</td>\n",
       "      <td>73.0</td>\n",
       "      <td>NaN</td>\n",
       "      <td>NaN</td>\n",
       "      <td>NaN</td>\n",
       "    </tr>\n",
       "    <tr>\n",
       "      <th>8508d19bfffffff</th>\n",
       "      <td>NaN</td>\n",
       "      <td>NaN</td>\n",
       "      <td>143.0</td>\n",
       "      <td>149.0</td>\n",
       "      <td>162.0</td>\n",
       "      <td>154.0</td>\n",
       "      <td>146.0</td>\n",
       "    </tr>\n",
       "    <tr>\n",
       "      <th>8508d35bfffffff</th>\n",
       "      <td>NaN</td>\n",
       "      <td>NaN</td>\n",
       "      <td>NaN</td>\n",
       "      <td>6.0</td>\n",
       "      <td>4.0</td>\n",
       "      <td>71.0</td>\n",
       "      <td>108.0</td>\n",
       "    </tr>\n",
       "    <tr>\n",
       "      <th>851123cffffffff</th>\n",
       "      <td>NaN</td>\n",
       "      <td>NaN</td>\n",
       "      <td>6.0</td>\n",
       "      <td>7.0</td>\n",
       "      <td>49.0</td>\n",
       "      <td>75.0</td>\n",
       "      <td>68.0</td>\n",
       "    </tr>\n",
       "    <tr>\n",
       "      <th>85112457fffffff</th>\n",
       "      <td>NaN</td>\n",
       "      <td>9.0</td>\n",
       "      <td>25.0</td>\n",
       "      <td>24.0</td>\n",
       "      <td>58.0</td>\n",
       "      <td>100.0</td>\n",
       "      <td>29.0</td>\n",
       "    </tr>\n",
       "    <tr>\n",
       "      <th>85112e3bfffffff</th>\n",
       "      <td>NaN</td>\n",
       "      <td>NaN</td>\n",
       "      <td>73.0</td>\n",
       "      <td>95.0</td>\n",
       "      <td>105.0</td>\n",
       "      <td>144.0</td>\n",
       "      <td>159.0</td>\n",
       "    </tr>\n",
       "    <tr>\n",
       "      <th>85112e57fffffff</th>\n",
       "      <td>5.0</td>\n",
       "      <td>13.0</td>\n",
       "      <td>13.0</td>\n",
       "      <td>62.0</td>\n",
       "      <td>59.0</td>\n",
       "      <td>2.0</td>\n",
       "      <td>8.0</td>\n",
       "    </tr>\n",
       "  </tbody>\n",
       "</table>\n",
       "</div>"
      ],
      "text/plain": [
       "                 richness_before_7_9  richness_before_4_6  \\\n",
       "h3_cell                                                     \n",
       "850888a7fffffff                 31.0                 37.0   \n",
       "85089da7fffffff                 49.0                 35.0   \n",
       "8508d19bfffffff                  NaN                  NaN   \n",
       "8508d35bfffffff                  NaN                  NaN   \n",
       "851123cffffffff                  NaN                  NaN   \n",
       "85112457fffffff                  NaN                  9.0   \n",
       "85112e3bfffffff                  NaN                  NaN   \n",
       "85112e57fffffff                  5.0                 13.0   \n",
       "\n",
       "                 richness_before_1_3  richness_appearance  richness_after_1_3  \\\n",
       "h3_cell                                                                         \n",
       "850888a7fffffff                105.0                 93.0               125.0   \n",
       "85089da7fffffff                 74.0                 73.0                 NaN   \n",
       "8508d19bfffffff                143.0                149.0               162.0   \n",
       "8508d35bfffffff                  NaN                  6.0                 4.0   \n",
       "851123cffffffff                  6.0                  7.0                49.0   \n",
       "85112457fffffff                 25.0                 24.0                58.0   \n",
       "85112e3bfffffff                 73.0                 95.0               105.0   \n",
       "85112e57fffffff                 13.0                 62.0                59.0   \n",
       "\n",
       "                 richness_after_4_6  richness_after_7_9  \n",
       "h3_cell                                                  \n",
       "850888a7fffffff               120.0               136.0  \n",
       "85089da7fffffff                 NaN                 NaN  \n",
       "8508d19bfffffff               154.0               146.0  \n",
       "8508d35bfffffff                71.0               108.0  \n",
       "851123cffffffff                75.0                68.0  \n",
       "85112457fffffff               100.0                29.0  \n",
       "85112e3bfffffff               144.0               159.0  \n",
       "85112e57fffffff                 2.0                 8.0  "
      ]
     },
     "execution_count": 177,
     "metadata": {},
     "output_type": "execute_result"
    }
   ],
   "source": [
    "actual_model = ActualDistribution('h3_cell', 'ScientificName')\n",
    "actual_dist_appearance = actual_model.fit(bird_appearance)\n",
    "actual_dist_before = [actual_model.fit(population_before) for population_before in bird_before]\n",
    "actual_dist_after = [actual_model.fit(population_after) for population_after in bird_after]\n",
    "\n",
    "richness_merged = merge_richness (actual_dist_before, actual_dist_appearance, actual_dist_after)\n",
    "richness_merged"
   ]
  },
  {
   "cell_type": "code",
   "execution_count": 178,
   "metadata": {},
   "outputs": [
    {
     "name": "stdout",
     "output_type": "stream",
     "text": [
      "Pair with most significant difference: ('richness_before_1_3', 'richness_after_1_3')\n",
      "Smallest p-value: 0.0009079358550496963\n",
      "\n",
      "Pairs with significant difference at alpha = 0.05:\n",
      "===================================================\n",
      "'richness_before_4_6' and 'richness_appearance' -- pvalue: 0.021700101929672467\n",
      "'richness_before_4_6' and 'richness_after_1_3' -- pvalue: 0.04582613681047108\n",
      "'richness_before_1_3' and 'richness_after_1_3' -- pvalue: 0.0009079358550496963\n",
      "'richness_appearance' and 'richness_after_1_3' -- pvalue: 0.03873293801151282\n"
     ]
    }
   ],
   "source": [
    "test_results, test_pairs = test_effect(richness_merged)\n",
    "log_effect (test_results, test_pairs)"
   ]
  },
  {
   "cell_type": "code",
   "execution_count": 179,
   "metadata": {},
   "outputs": [
    {
     "data": {
      "application/vnd.plotly.v1+json": {
       "config": {
        "plotlyServerURL": "https://plot.ly"
       },
       "data": [
        {
         "name": "richness_before_1_3",
         "type": "bar",
         "x": [
          "850888a7fffffff",
          "8508d19bfffffff",
          "851123cffffffff",
          "85112457fffffff",
          "85112e3bfffffff",
          "85112e57fffffff"
         ],
         "xaxis": "x",
         "y": [
          105,
          143,
          6,
          25,
          73,
          13
         ],
         "yaxis": "y"
        },
        {
         "name": "richness_appearance",
         "type": "bar",
         "x": [
          "850888a7fffffff",
          "8508d19bfffffff",
          "851123cffffffff",
          "85112457fffffff",
          "85112e3bfffffff",
          "85112e57fffffff"
         ],
         "xaxis": "x",
         "y": [
          93,
          149,
          7,
          24,
          95,
          62
         ],
         "yaxis": "y"
        },
        {
         "name": "richness_after_1_3",
         "type": "bar",
         "x": [
          "850888a7fffffff",
          "8508d19bfffffff",
          "851123cffffffff",
          "85112457fffffff",
          "85112e3bfffffff",
          "85112e57fffffff"
         ],
         "xaxis": "x",
         "y": [
          125,
          162,
          49,
          58,
          105,
          59
         ],
         "yaxis": "y"
        },
        {
         "line": {
          "color": "rgb(235, 211, 54)",
          "width": 3
         },
         "marker": {
          "color": "rgb(235, 211, 54)",
          "size": 10
         },
         "name": "nof_years_with_obs",
         "type": "scatter",
         "x": [
          "850888a7fffffff",
          "8508d19bfffffff",
          "851123cffffffff",
          "85112457fffffff",
          "85112e3bfffffff",
          "85112e57fffffff"
         ],
         "xaxis": "x",
         "y": [
          0,
          51,
          0,
          0,
          16,
          0
         ],
         "yaxis": "y2"
        }
       ],
       "layout": {
        "template": {
         "data": {
          "bar": [
           {
            "error_x": {
             "color": "#2a3f5f"
            },
            "error_y": {
             "color": "#2a3f5f"
            },
            "marker": {
             "line": {
              "color": "#E5ECF6",
              "width": 0.5
             },
             "pattern": {
              "fillmode": "overlay",
              "size": 10,
              "solidity": 0.2
             }
            },
            "type": "bar"
           }
          ],
          "barpolar": [
           {
            "marker": {
             "line": {
              "color": "#E5ECF6",
              "width": 0.5
             },
             "pattern": {
              "fillmode": "overlay",
              "size": 10,
              "solidity": 0.2
             }
            },
            "type": "barpolar"
           }
          ],
          "carpet": [
           {
            "aaxis": {
             "endlinecolor": "#2a3f5f",
             "gridcolor": "white",
             "linecolor": "white",
             "minorgridcolor": "white",
             "startlinecolor": "#2a3f5f"
            },
            "baxis": {
             "endlinecolor": "#2a3f5f",
             "gridcolor": "white",
             "linecolor": "white",
             "minorgridcolor": "white",
             "startlinecolor": "#2a3f5f"
            },
            "type": "carpet"
           }
          ],
          "choropleth": [
           {
            "colorbar": {
             "outlinewidth": 0,
             "ticks": ""
            },
            "type": "choropleth"
           }
          ],
          "contour": [
           {
            "colorbar": {
             "outlinewidth": 0,
             "ticks": ""
            },
            "colorscale": [
             [
              0,
              "#0d0887"
             ],
             [
              0.1111111111111111,
              "#46039f"
             ],
             [
              0.2222222222222222,
              "#7201a8"
             ],
             [
              0.3333333333333333,
              "#9c179e"
             ],
             [
              0.4444444444444444,
              "#bd3786"
             ],
             [
              0.5555555555555556,
              "#d8576b"
             ],
             [
              0.6666666666666666,
              "#ed7953"
             ],
             [
              0.7777777777777778,
              "#fb9f3a"
             ],
             [
              0.8888888888888888,
              "#fdca26"
             ],
             [
              1,
              "#f0f921"
             ]
            ],
            "type": "contour"
           }
          ],
          "contourcarpet": [
           {
            "colorbar": {
             "outlinewidth": 0,
             "ticks": ""
            },
            "type": "contourcarpet"
           }
          ],
          "heatmap": [
           {
            "colorbar": {
             "outlinewidth": 0,
             "ticks": ""
            },
            "colorscale": [
             [
              0,
              "#0d0887"
             ],
             [
              0.1111111111111111,
              "#46039f"
             ],
             [
              0.2222222222222222,
              "#7201a8"
             ],
             [
              0.3333333333333333,
              "#9c179e"
             ],
             [
              0.4444444444444444,
              "#bd3786"
             ],
             [
              0.5555555555555556,
              "#d8576b"
             ],
             [
              0.6666666666666666,
              "#ed7953"
             ],
             [
              0.7777777777777778,
              "#fb9f3a"
             ],
             [
              0.8888888888888888,
              "#fdca26"
             ],
             [
              1,
              "#f0f921"
             ]
            ],
            "type": "heatmap"
           }
          ],
          "heatmapgl": [
           {
            "colorbar": {
             "outlinewidth": 0,
             "ticks": ""
            },
            "colorscale": [
             [
              0,
              "#0d0887"
             ],
             [
              0.1111111111111111,
              "#46039f"
             ],
             [
              0.2222222222222222,
              "#7201a8"
             ],
             [
              0.3333333333333333,
              "#9c179e"
             ],
             [
              0.4444444444444444,
              "#bd3786"
             ],
             [
              0.5555555555555556,
              "#d8576b"
             ],
             [
              0.6666666666666666,
              "#ed7953"
             ],
             [
              0.7777777777777778,
              "#fb9f3a"
             ],
             [
              0.8888888888888888,
              "#fdca26"
             ],
             [
              1,
              "#f0f921"
             ]
            ],
            "type": "heatmapgl"
           }
          ],
          "histogram": [
           {
            "marker": {
             "pattern": {
              "fillmode": "overlay",
              "size": 10,
              "solidity": 0.2
             }
            },
            "type": "histogram"
           }
          ],
          "histogram2d": [
           {
            "colorbar": {
             "outlinewidth": 0,
             "ticks": ""
            },
            "colorscale": [
             [
              0,
              "#0d0887"
             ],
             [
              0.1111111111111111,
              "#46039f"
             ],
             [
              0.2222222222222222,
              "#7201a8"
             ],
             [
              0.3333333333333333,
              "#9c179e"
             ],
             [
              0.4444444444444444,
              "#bd3786"
             ],
             [
              0.5555555555555556,
              "#d8576b"
             ],
             [
              0.6666666666666666,
              "#ed7953"
             ],
             [
              0.7777777777777778,
              "#fb9f3a"
             ],
             [
              0.8888888888888888,
              "#fdca26"
             ],
             [
              1,
              "#f0f921"
             ]
            ],
            "type": "histogram2d"
           }
          ],
          "histogram2dcontour": [
           {
            "colorbar": {
             "outlinewidth": 0,
             "ticks": ""
            },
            "colorscale": [
             [
              0,
              "#0d0887"
             ],
             [
              0.1111111111111111,
              "#46039f"
             ],
             [
              0.2222222222222222,
              "#7201a8"
             ],
             [
              0.3333333333333333,
              "#9c179e"
             ],
             [
              0.4444444444444444,
              "#bd3786"
             ],
             [
              0.5555555555555556,
              "#d8576b"
             ],
             [
              0.6666666666666666,
              "#ed7953"
             ],
             [
              0.7777777777777778,
              "#fb9f3a"
             ],
             [
              0.8888888888888888,
              "#fdca26"
             ],
             [
              1,
              "#f0f921"
             ]
            ],
            "type": "histogram2dcontour"
           }
          ],
          "mesh3d": [
           {
            "colorbar": {
             "outlinewidth": 0,
             "ticks": ""
            },
            "type": "mesh3d"
           }
          ],
          "parcoords": [
           {
            "line": {
             "colorbar": {
              "outlinewidth": 0,
              "ticks": ""
             }
            },
            "type": "parcoords"
           }
          ],
          "pie": [
           {
            "automargin": true,
            "type": "pie"
           }
          ],
          "scatter": [
           {
            "fillpattern": {
             "fillmode": "overlay",
             "size": 10,
             "solidity": 0.2
            },
            "type": "scatter"
           }
          ],
          "scatter3d": [
           {
            "line": {
             "colorbar": {
              "outlinewidth": 0,
              "ticks": ""
             }
            },
            "marker": {
             "colorbar": {
              "outlinewidth": 0,
              "ticks": ""
             }
            },
            "type": "scatter3d"
           }
          ],
          "scattercarpet": [
           {
            "marker": {
             "colorbar": {
              "outlinewidth": 0,
              "ticks": ""
             }
            },
            "type": "scattercarpet"
           }
          ],
          "scattergeo": [
           {
            "marker": {
             "colorbar": {
              "outlinewidth": 0,
              "ticks": ""
             }
            },
            "type": "scattergeo"
           }
          ],
          "scattergl": [
           {
            "marker": {
             "colorbar": {
              "outlinewidth": 0,
              "ticks": ""
             }
            },
            "type": "scattergl"
           }
          ],
          "scattermapbox": [
           {
            "marker": {
             "colorbar": {
              "outlinewidth": 0,
              "ticks": ""
             }
            },
            "type": "scattermapbox"
           }
          ],
          "scatterpolar": [
           {
            "marker": {
             "colorbar": {
              "outlinewidth": 0,
              "ticks": ""
             }
            },
            "type": "scatterpolar"
           }
          ],
          "scatterpolargl": [
           {
            "marker": {
             "colorbar": {
              "outlinewidth": 0,
              "ticks": ""
             }
            },
            "type": "scatterpolargl"
           }
          ],
          "scatterternary": [
           {
            "marker": {
             "colorbar": {
              "outlinewidth": 0,
              "ticks": ""
             }
            },
            "type": "scatterternary"
           }
          ],
          "surface": [
           {
            "colorbar": {
             "outlinewidth": 0,
             "ticks": ""
            },
            "colorscale": [
             [
              0,
              "#0d0887"
             ],
             [
              0.1111111111111111,
              "#46039f"
             ],
             [
              0.2222222222222222,
              "#7201a8"
             ],
             [
              0.3333333333333333,
              "#9c179e"
             ],
             [
              0.4444444444444444,
              "#bd3786"
             ],
             [
              0.5555555555555556,
              "#d8576b"
             ],
             [
              0.6666666666666666,
              "#ed7953"
             ],
             [
              0.7777777777777778,
              "#fb9f3a"
             ],
             [
              0.8888888888888888,
              "#fdca26"
             ],
             [
              1,
              "#f0f921"
             ]
            ],
            "type": "surface"
           }
          ],
          "table": [
           {
            "cells": {
             "fill": {
              "color": "#EBF0F8"
             },
             "line": {
              "color": "white"
             }
            },
            "header": {
             "fill": {
              "color": "#C8D4E3"
             },
             "line": {
              "color": "white"
             }
            },
            "type": "table"
           }
          ]
         },
         "layout": {
          "annotationdefaults": {
           "arrowcolor": "#2a3f5f",
           "arrowhead": 0,
           "arrowwidth": 1
          },
          "autotypenumbers": "strict",
          "coloraxis": {
           "colorbar": {
            "outlinewidth": 0,
            "ticks": ""
           }
          },
          "colorscale": {
           "diverging": [
            [
             0,
             "#8e0152"
            ],
            [
             0.1,
             "#c51b7d"
            ],
            [
             0.2,
             "#de77ae"
            ],
            [
             0.3,
             "#f1b6da"
            ],
            [
             0.4,
             "#fde0ef"
            ],
            [
             0.5,
             "#f7f7f7"
            ],
            [
             0.6,
             "#e6f5d0"
            ],
            [
             0.7,
             "#b8e186"
            ],
            [
             0.8,
             "#7fbc41"
            ],
            [
             0.9,
             "#4d9221"
            ],
            [
             1,
             "#276419"
            ]
           ],
           "sequential": [
            [
             0,
             "#0d0887"
            ],
            [
             0.1111111111111111,
             "#46039f"
            ],
            [
             0.2222222222222222,
             "#7201a8"
            ],
            [
             0.3333333333333333,
             "#9c179e"
            ],
            [
             0.4444444444444444,
             "#bd3786"
            ],
            [
             0.5555555555555556,
             "#d8576b"
            ],
            [
             0.6666666666666666,
             "#ed7953"
            ],
            [
             0.7777777777777778,
             "#fb9f3a"
            ],
            [
             0.8888888888888888,
             "#fdca26"
            ],
            [
             1,
             "#f0f921"
            ]
           ],
           "sequentialminus": [
            [
             0,
             "#0d0887"
            ],
            [
             0.1111111111111111,
             "#46039f"
            ],
            [
             0.2222222222222222,
             "#7201a8"
            ],
            [
             0.3333333333333333,
             "#9c179e"
            ],
            [
             0.4444444444444444,
             "#bd3786"
            ],
            [
             0.5555555555555556,
             "#d8576b"
            ],
            [
             0.6666666666666666,
             "#ed7953"
            ],
            [
             0.7777777777777778,
             "#fb9f3a"
            ],
            [
             0.8888888888888888,
             "#fdca26"
            ],
            [
             1,
             "#f0f921"
            ]
           ]
          },
          "colorway": [
           "#636efa",
           "#EF553B",
           "#00cc96",
           "#ab63fa",
           "#FFA15A",
           "#19d3f3",
           "#FF6692",
           "#B6E880",
           "#FF97FF",
           "#FECB52"
          ],
          "font": {
           "color": "#2a3f5f"
          },
          "geo": {
           "bgcolor": "white",
           "lakecolor": "white",
           "landcolor": "#E5ECF6",
           "showlakes": true,
           "showland": true,
           "subunitcolor": "white"
          },
          "hoverlabel": {
           "align": "left"
          },
          "hovermode": "closest",
          "mapbox": {
           "style": "light"
          },
          "paper_bgcolor": "white",
          "plot_bgcolor": "#E5ECF6",
          "polar": {
           "angularaxis": {
            "gridcolor": "white",
            "linecolor": "white",
            "ticks": ""
           },
           "bgcolor": "#E5ECF6",
           "radialaxis": {
            "gridcolor": "white",
            "linecolor": "white",
            "ticks": ""
           }
          },
          "scene": {
           "xaxis": {
            "backgroundcolor": "#E5ECF6",
            "gridcolor": "white",
            "gridwidth": 2,
            "linecolor": "white",
            "showbackground": true,
            "ticks": "",
            "zerolinecolor": "white"
           },
           "yaxis": {
            "backgroundcolor": "#E5ECF6",
            "gridcolor": "white",
            "gridwidth": 2,
            "linecolor": "white",
            "showbackground": true,
            "ticks": "",
            "zerolinecolor": "white"
           },
           "zaxis": {
            "backgroundcolor": "#E5ECF6",
            "gridcolor": "white",
            "gridwidth": 2,
            "linecolor": "white",
            "showbackground": true,
            "ticks": "",
            "zerolinecolor": "white"
           }
          },
          "shapedefaults": {
           "line": {
            "color": "#2a3f5f"
           }
          },
          "ternary": {
           "aaxis": {
            "gridcolor": "white",
            "linecolor": "white",
            "ticks": ""
           },
           "baxis": {
            "gridcolor": "white",
            "linecolor": "white",
            "ticks": ""
           },
           "bgcolor": "#E5ECF6",
           "caxis": {
            "gridcolor": "white",
            "linecolor": "white",
            "ticks": ""
           }
          },
          "title": {
           "x": 0.05
          },
          "xaxis": {
           "automargin": true,
           "gridcolor": "white",
           "linecolor": "white",
           "ticks": "",
           "title": {
            "standoff": 15
           },
           "zerolinecolor": "white",
           "zerolinewidth": 2
          },
          "yaxis": {
           "automargin": true,
           "gridcolor": "white",
           "linecolor": "white",
           "ticks": "",
           "title": {
            "standoff": 15
           },
           "zerolinecolor": "white",
           "zerolinewidth": 2
          }
         }
        },
        "title": {
         "text": "Bird species richness <br>before, with and after yellow-breasted bunting observations",
         "x": 0.5
        },
        "xaxis": {
         "anchor": "y",
         "domain": [
          0,
          0.94
         ],
         "title": {
          "text": "Area Id"
         }
        },
        "yaxis": {
         "anchor": "x",
         "domain": [
          0,
          1
         ],
         "title": {
          "text": "Richness"
         }
        },
        "yaxis2": {
         "anchor": "x",
         "overlaying": "y",
         "side": "right",
         "title": {
          "text": "Number of years with observations"
         }
        }
       }
      }
     },
     "metadata": {},
     "output_type": "display_data"
    }
   ],
   "source": [
    "fig = plot_paired_effect(richness_merged, cell_to_earliest=cell_to_earliest, cell_to_latest=cell_to_latest,\n",
    "                         title = \"Bird species richness <br>before, with and after yellow-breasted bunting observations\")\n",
    "fig.write_html(f\"../web_interface/precomp_data/keystone/bird_paired_bunting_effect.html\")\n",
    "fig.show()"
   ]
  }
 ],
 "metadata": {
  "kernelspec": {
   "display_name": "Python 3",
   "language": "python",
   "name": "python3"
  },
  "language_info": {
   "codemirror_mode": {
    "name": "ipython",
    "version": 3
   },
   "file_extension": ".py",
   "mimetype": "text/x-python",
   "name": "python",
   "nbconvert_exporter": "python",
   "pygments_lexer": "ipython3",
   "version": "3.11.3"
  }
 },
 "nbformat": 4,
 "nbformat_minor": 2
}
