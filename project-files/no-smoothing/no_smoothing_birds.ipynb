{
 "cells": [
  {
   "cell_type": "code",
   "execution_count": 114,
   "metadata": {},
   "outputs": [],
   "source": [
    "#Ecopy installation to python enviroment doesn't work with new pip versions\n",
    "#To make it work, you need to install an older version of pip by \"pip install pip==21.3.1\"\n",
    "#After that you can update your pip back by \"pip install --upgrade pip\"\n",
    "\n",
    "from scipy.special import comb\n",
    "import pandas as pd\n",
    "import numpy as np\n",
    "import scipy.misc\n",
    "scipy.misc.comb = comb\n",
    "import ecopy as ep\n",
    "import h3\n",
    "\n",
    "import sys\n",
    "sys.path.append('../')\n",
    "from helper_functions.gridding import h3_grid"
   ]
  },
  {
   "cell_type": "code",
   "execution_count": 115,
   "metadata": {},
   "outputs": [
    {
     "name": "stdout",
     "output_type": "stream",
     "text": [
      "<class 'pandas.core.frame.DataFrame'>\n",
      "Index: 11398117 entries, 0 to 987437\n",
      "Data columns (total 6 columns):\n",
      " #   Column          Dtype  \n",
      "---  ------          -----  \n",
      " 0   ScientificName  object \n",
      " 1   TaxonID         object \n",
      " 2   Date            object \n",
      " 3   Latitude        float64\n",
      " 4   Longitude       float64\n",
      " 5   Municipality    object \n",
      "dtypes: float64(2), object(4)\n",
      "memory usage: 608.7+ MB\n"
     ]
    }
   ],
   "source": [
    "# Read and concatnate data into a single dataframe\n",
    "df = pd.DataFrame({})\n",
    "\n",
    "for year in range(2000, 2024, 2):\n",
    "  df_year = pd.read_csv(f'../../data/birds/{year}-{year+1}.csv')\n",
    "  df = pd.concat([df, df_year])\n",
    "\n",
    "df.info()"
   ]
  },
  {
   "cell_type": "code",
   "execution_count": 116,
   "metadata": {},
   "outputs": [
    {
     "data": {
      "text/html": [
       "<div>\n",
       "<style scoped>\n",
       "    .dataframe tbody tr th:only-of-type {\n",
       "        vertical-align: middle;\n",
       "    }\n",
       "\n",
       "    .dataframe tbody tr th {\n",
       "        vertical-align: top;\n",
       "    }\n",
       "\n",
       "    .dataframe thead th {\n",
       "        text-align: right;\n",
       "    }\n",
       "</style>\n",
       "<table border=\"1\" class=\"dataframe\">\n",
       "  <thead>\n",
       "    <tr style=\"text-align: right;\">\n",
       "      <th></th>\n",
       "      <th>h3_cell</th>\n",
       "      <th>observations_id</th>\n",
       "      <th>count</th>\n",
       "      <th>neighbors</th>\n",
       "    </tr>\n",
       "  </thead>\n",
       "  <tbody>\n",
       "    <tr>\n",
       "      <th>0</th>\n",
       "      <td>85012603fffffff</td>\n",
       "      <td>[83371, 83379, 83388, 83391, 83392, 83393, 833...</td>\n",
       "      <td>1450</td>\n",
       "      <td>{85012603fffffff, 85012613fffffff, 85012607fff...</td>\n",
       "    </tr>\n",
       "    <tr>\n",
       "      <th>1</th>\n",
       "      <td>85012613fffffff</td>\n",
       "      <td>[83372, 83373, 83374, 83375, 83376, 83377, 833...</td>\n",
       "      <td>1165</td>\n",
       "      <td>{85012603fffffff, 85012613fffffff, 850126c7fff...</td>\n",
       "    </tr>\n",
       "    <tr>\n",
       "      <th>2</th>\n",
       "      <td>85012617fffffff</td>\n",
       "      <td>[1012023, 1106452, 1106453, 1106454, 1106455, ...</td>\n",
       "      <td>52</td>\n",
       "      <td>{85012603fffffff, 85012613fffffff, 850126bbfff...</td>\n",
       "    </tr>\n",
       "    <tr>\n",
       "      <th>3</th>\n",
       "      <td>8501261bfffffff</td>\n",
       "      <td>[4865, 4866, 5194, 5195, 653607, 2681, 4502, 4...</td>\n",
       "      <td>1365</td>\n",
       "      <td>{85012603fffffff, 85012613fffffff, 850126c7fff...</td>\n",
       "    </tr>\n",
       "    <tr>\n",
       "      <th>4</th>\n",
       "      <td>85012643fffffff</td>\n",
       "      <td>[709475, 709476, 709477, 709478, 709479, 70948...</td>\n",
       "      <td>447</td>\n",
       "      <td>{8501264bfffffff, 85012643fffffff, 8501265bfff...</td>\n",
       "    </tr>\n",
       "    <tr>\n",
       "      <th>...</th>\n",
       "      <td>...</td>\n",
       "      <td>...</td>\n",
       "      <td>...</td>\n",
       "      <td>...</td>\n",
       "    </tr>\n",
       "    <tr>\n",
       "      <th>2063</th>\n",
       "      <td>85112ed3fffffff</td>\n",
       "      <td>[196349, 530183, 537374, 569130, 582496, 61454...</td>\n",
       "      <td>2895</td>\n",
       "      <td>{851123a7fffffff, 85112edbfffffff, 8511216ffff...</td>\n",
       "    </tr>\n",
       "    <tr>\n",
       "      <th>2064</th>\n",
       "      <td>85112ed7fffffff</td>\n",
       "      <td>[197417, 205764, 403088, 530176, 530177, 70028...</td>\n",
       "      <td>2062</td>\n",
       "      <td>{85112ec7fffffff, 8511216ffffffff, 85112ed3fff...</td>\n",
       "    </tr>\n",
       "    <tr>\n",
       "      <th>2065</th>\n",
       "      <td>85112edbfffffff</td>\n",
       "      <td>[196347, 196348, 268174, 268175, 268176, 66772...</td>\n",
       "      <td>3742</td>\n",
       "      <td>{851123a7fffffff, 85112edbfffffff, 85112ecbfff...</td>\n",
       "    </tr>\n",
       "    <tr>\n",
       "      <th>2066</th>\n",
       "      <td>851135a7fffffff</td>\n",
       "      <td>[647965]</td>\n",
       "      <td>1</td>\n",
       "      <td>{851122d3fffffff, 8511266bfffffff, 851135a3fff...</td>\n",
       "    </tr>\n",
       "    <tr>\n",
       "      <th>2067</th>\n",
       "      <td>851135b7fffffff</td>\n",
       "      <td>[867926, 917550, 917551, 917552, 917553, 91755...</td>\n",
       "      <td>101</td>\n",
       "      <td>{8511266bfffffff, 8511267bfffffff, 851135a3fff...</td>\n",
       "    </tr>\n",
       "  </tbody>\n",
       "</table>\n",
       "<p>2068 rows × 4 columns</p>\n",
       "</div>"
      ],
      "text/plain": [
       "              h3_cell                                    observations_id  \\\n",
       "0     85012603fffffff  [83371, 83379, 83388, 83391, 83392, 83393, 833...   \n",
       "1     85012613fffffff  [83372, 83373, 83374, 83375, 83376, 83377, 833...   \n",
       "2     85012617fffffff  [1012023, 1106452, 1106453, 1106454, 1106455, ...   \n",
       "3     8501261bfffffff  [4865, 4866, 5194, 5195, 653607, 2681, 4502, 4...   \n",
       "4     85012643fffffff  [709475, 709476, 709477, 709478, 709479, 70948...   \n",
       "...               ...                                                ...   \n",
       "2063  85112ed3fffffff  [196349, 530183, 537374, 569130, 582496, 61454...   \n",
       "2064  85112ed7fffffff  [197417, 205764, 403088, 530176, 530177, 70028...   \n",
       "2065  85112edbfffffff  [196347, 196348, 268174, 268175, 268176, 66772...   \n",
       "2066  851135a7fffffff                                           [647965]   \n",
       "2067  851135b7fffffff  [867926, 917550, 917551, 917552, 917553, 91755...   \n",
       "\n",
       "      count                                          neighbors  \n",
       "0      1450  {85012603fffffff, 85012613fffffff, 85012607fff...  \n",
       "1      1165  {85012603fffffff, 85012613fffffff, 850126c7fff...  \n",
       "2        52  {85012603fffffff, 85012613fffffff, 850126bbfff...  \n",
       "3      1365  {85012603fffffff, 85012613fffffff, 850126c7fff...  \n",
       "4       447  {8501264bfffffff, 85012643fffffff, 8501265bfff...  \n",
       "...     ...                                                ...  \n",
       "2063   2895  {851123a7fffffff, 85112edbfffffff, 8511216ffff...  \n",
       "2064   2062  {85112ec7fffffff, 8511216ffffffff, 85112ed3fff...  \n",
       "2065   3742  {851123a7fffffff, 85112edbfffffff, 85112ecbfff...  \n",
       "2066      1  {851122d3fffffff, 8511266bfffffff, 851135a3fff...  \n",
       "2067    101  {8511266bfffffff, 8511267bfffffff, 851135a3fff...  \n",
       "\n",
       "[2068 rows x 4 columns]"
      ]
     },
     "execution_count": 116,
     "metadata": {},
     "output_type": "execute_result"
    }
   ],
   "source": [
    "#Doing the gridding\n",
    "#Drop NAs from Lat and Lon. Otherwise h3 cannot work with these.\n",
    "df.dropna(subset=['Latitude', 'Longitude'], inplace=True)\n",
    "df.head()\n",
    "grid_object = h3_grid()\n",
    "grid_object.fit(df)\n",
    "grid_object.grid_info()"
   ]
  },
  {
   "cell_type": "code",
   "execution_count": 118,
   "metadata": {},
   "outputs": [
    {
     "name": "stderr",
     "output_type": "stream",
     "text": [
      "/var/folders/hk/_g475vss66n_f_6s0_3sdxk40000gn/T/ipykernel_13216/623227763.py:6: SettingWithCopyWarning: \n",
      "A value is trying to be set on a copy of a slice from a DataFrame.\n",
      "Try using .loc[row_indexer,col_indexer] = value instead\n",
      "\n",
      "See the caveats in the documentation: https://pandas.pydata.org/pandas-docs/stable/user_guide/indexing.html#returning-a-view-versus-a-copy\n",
      "  cell_species[\"h3cell\"] = cell_species.apply(lambda x: h3_grid().row_to_h3cell(x), axis=1)\n"
     ]
    },
    {
     "name": "stdout",
     "output_type": "stream",
     "text": [
      "              ScientificName           h3cell\n",
      "0                Strix aluco  851126c7fffffff\n",
      "1          Fringilla coelebs  85089947fffffff\n",
      "2         Certhia familiaris  85089977fffffff\n",
      "3        Cyanistes caeruleus  8511202bfffffff\n",
      "4            Corvus monedula  85089947fffffff\n",
      "...                      ...              ...\n",
      "987433  Picoides tridactylus  8508cd47fffffff\n",
      "987434  Picoides tridactylus  8508cd47fffffff\n",
      "987435       Motacilla flava  8511234ffffffff\n",
      "987436      Delichon urbicum  8511234ffffffff\n",
      "987437   Gallinago gallinago  8511206bfffffff\n",
      "\n",
      "[11393012 rows x 2 columns]\n"
     ]
    }
   ],
   "source": [
    "#Gettings cells for every row\n",
    "cell_species = df[[\"ScientificName\", \"Latitude\", \"Longitude\"]]\n",
    "h3cell = []\n",
    "\n",
    "\n",
    "cell_species[\"h3cell\"] = cell_species.apply(lambda x: h3_grid().row_to_h3cell(x), axis=1)\n",
    "\n",
    "cell_species = cell_species[[\"ScientificName\", \"h3cell\"]]\n",
    "\n",
    "cell_species.to_csv('cell_species.csv')\n",
    "\n",
    "print(cell_species)"
   ]
  },
  {
   "cell_type": "code",
   "execution_count": 119,
   "metadata": {},
   "outputs": [],
   "source": [
    "#Adjusting the array to get freqs to columns and cells to rows\n",
    "#cell_species = cell_species.set_index('h3cell')\n",
    "\n",
    "cell_species_freq = cell_species.groupby([\"ScientificName\",\"h3cell\"]).size().unstack(level=0).fillna(0)\n",
    "\n",
    "cell_species_freq.to_csv('cell_species_freq.csv')\n"
   ]
  },
  {
   "cell_type": "code",
   "execution_count": 128,
   "metadata": {},
   "outputs": [
    {
     "name": "stdout",
     "output_type": "stream",
     "text": [
      "[ 7.64573257 12.57283532 18.02666667 ... 37.93170293  1.\n",
      " 14.51066856]\n"
     ]
    },
    {
     "name": "stderr",
     "output_type": "stream",
     "text": [
      "/var/folders/hk/_g475vss66n_f_6s0_3sdxk40000gn/T/ipykernel_13216/1251190272.py:26: RuntimeWarning: invalid value encountered in scalar divide\n",
      "  return 1 - (np.sum(species_index) / total_index)\n"
     ]
    }
   ],
   "source": [
    "#Calculate diversity indicatiors by using ecopy\n",
    "\n",
    "shannon = ep.diversity(cell_species_freq, 'shannon')\n",
    "\n",
    "simpson = ep.diversity(cell_species_freq, 'simpson')\n",
    "\n",
    "richness = ep.diversity(cell_species_freq, 'spRich')\n",
    "\n",
    "shannon_alpha, shannon_beta, shannon_gamma = ep.div_partition(cell_species_freq, 'shannon')\n",
    "\n",
    "def shannon_entropy(area_row):\n",
    "    numpy_row = area_row.to_numpy()\n",
    "    probabilities = numpy_row / np.sum(numpy_row)\n",
    "    probabilities = probabilities[np.where(probabilities > 0)]\n",
    "    return -np.sum(probabilities*np.log2(probabilities))\n",
    "\n",
    "shannon_entropies = cell_species_freq.apply(shannon_entropy, axis=1)\n",
    "shannon_entropies\n",
    "\n",
    "def simpson_index(area_row):\n",
    "    numpy_row = area_row.to_numpy()\n",
    "    observed_species = numpy_row[np.where(numpy_row > 0.0)]\n",
    "    species_index = observed_species * (observed_species - 1)\n",
    "    total_observations = np.sum(observed_species)\n",
    "    total_index = total_observations * (total_observations - 1)\n",
    "    return 1 - (np.sum(species_index) / total_index)\n",
    "\n",
    "simpson_indices = cell_species_freq.apply(simpson_index, axis=1)\n",
    "simpson_indices\n",
    "\n",
    "print(simpson)\n"
   ]
  }
 ],
 "metadata": {
  "kernelspec": {
   "display_name": "Python 3",
   "language": "python",
   "name": "python3"
  },
  "language_info": {
   "codemirror_mode": {
    "name": "ipython",
    "version": 3
   },
   "file_extension": ".py",
   "mimetype": "text/x-python",
   "name": "python",
   "nbconvert_exporter": "python",
   "pygments_lexer": "ipython3",
   "version": "3.11.1"
  },
  "orig_nbformat": 4
 },
 "nbformat": 4,
 "nbformat_minor": 2
}
