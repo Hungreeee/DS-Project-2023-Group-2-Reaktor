{
 "cells": [
  {
   "cell_type": "code",
   "execution_count": 3,
   "metadata": {},
   "outputs": [],
   "source": [
    "#Ecopy installation to python enviroment doesn't work with new pip versions\n",
    "#To make it work, you need to install an older version of pip by \"pip install pip==21.3.1\"\n",
    "#After that you can update your pip back by \"pip install --upgrade pip\"\n",
    "\n",
    "from scipy.special import comb\n",
    "import pandas as pd\n",
    "import numpy as np\n",
    "import scipy.misc\n",
    "scipy.misc.comb = comb\n",
    "import h3\n",
    "\n",
    "import sys\n",
    "sys.path.append('../')\n",
    "from helper_functions.gridding import h3_grid"
   ]
  },
  {
   "cell_type": "code",
   "execution_count": 12,
   "metadata": {},
   "outputs": [
    {
     "name": "stdout",
     "output_type": "stream",
     "text": [
      "<class 'pandas.core.frame.DataFrame'>\n",
      "RangeIndex: 115722 entries, 0 to 115721\n",
      "Data columns (total 7 columns):\n",
      " #   Column          Non-Null Count   Dtype  \n",
      "---  ------          --------------   -----  \n",
      " 0   Date            114067 non-null  object \n",
      " 1   Latitude        113082 non-null  float64\n",
      " 2   Longitude       113082 non-null  float64\n",
      " 3   Municipality    108751 non-null  object \n",
      " 4   TaxonID         115601 non-null  object \n",
      " 5   ScientificName  115601 non-null  object \n",
      " 6   verbatim        115651 non-null  object \n",
      "dtypes: float64(2), object(5)\n",
      "memory usage: 6.2+ MB\n"
     ]
    }
   ],
   "source": [
    "# Read and concatnate data into a single dataframe\n",
    "df= pd.DataFrame({})\n",
    "df = pd.read_csv('../../data/samples/tree_data_sample.csv')\n",
    "  \n",
    "\n",
    "df.info()"
   ]
  },
  {
   "cell_type": "code",
   "execution_count": 17,
   "metadata": {},
   "outputs": [],
   "source": [
    "#Doing the gridding\n",
    "#Drop NAs from Lat and Lon. Otherwise h3 cannot work with these.\n",
    "df.dropna(subset=['Latitude', 'Longitude'], inplace=True)\n",
    "df.head()\n",
    "grid_object = h3_grid()\n",
    "grid_object.fit(df)\n",
    "grid_object.grid_info()\n",
    "grid = grid_object.grid_info()"
   ]
  },
  {
   "cell_type": "code",
   "execution_count": 23,
   "metadata": {},
   "outputs": [],
   "source": [
    "grid = grid.drop(columns=['observations_id', 'neighbors'])"
   ]
  },
  {
   "cell_type": "code",
   "execution_count": 25,
   "metadata": {},
   "outputs": [],
   "source": [
    "grid = grid.rename(columns={'count':'count_1'})"
   ]
  },
  {
   "cell_type": "code",
   "execution_count": 26,
   "metadata": {},
   "outputs": [],
   "source": [
    "grid['count_2'] = grid['count_1']"
   ]
  },
  {
   "cell_type": "code",
   "execution_count": 31,
   "metadata": {},
   "outputs": [],
   "source": [
    "grid = grid.drop(columns=['h3_cell'])"
   ]
  },
  {
   "cell_type": "code",
   "execution_count": 32,
   "metadata": {},
   "outputs": [
    {
     "data": {
      "text/html": [
       "<div>\n",
       "<style scoped>\n",
       "    .dataframe tbody tr th:only-of-type {\n",
       "        vertical-align: middle;\n",
       "    }\n",
       "\n",
       "    .dataframe tbody tr th {\n",
       "        vertical-align: top;\n",
       "    }\n",
       "\n",
       "    .dataframe thead th {\n",
       "        text-align: right;\n",
       "    }\n",
       "</style>\n",
       "<table border=\"1\" class=\"dataframe\">\n",
       "  <thead>\n",
       "    <tr style=\"text-align: right;\">\n",
       "      <th></th>\n",
       "      <th>count_1</th>\n",
       "      <th>count_2</th>\n",
       "    </tr>\n",
       "  </thead>\n",
       "  <tbody>\n",
       "    <tr>\n",
       "      <th>count_1</th>\n",
       "      <td>1.0</td>\n",
       "      <td>1.0</td>\n",
       "    </tr>\n",
       "    <tr>\n",
       "      <th>count_2</th>\n",
       "      <td>1.0</td>\n",
       "      <td>1.0</td>\n",
       "    </tr>\n",
       "  </tbody>\n",
       "</table>\n",
       "</div>"
      ],
      "text/plain": [
       "         count_1  count_2\n",
       "count_1      1.0      1.0\n",
       "count_2      1.0      1.0"
      ]
     },
     "execution_count": 32,
     "metadata": {},
     "output_type": "execute_result"
    }
   ],
   "source": [
    "grid.corr(method='pearson')"
   ]
  }
 ],
 "metadata": {
  "kernelspec": {
   "display_name": "Python 3",
   "language": "python",
   "name": "python3"
  },
  "language_info": {
   "codemirror_mode": {
    "name": "ipython",
    "version": 3
   },
   "file_extension": ".py",
   "mimetype": "text/x-python",
   "name": "python",
   "nbconvert_exporter": "python",
   "pygments_lexer": "ipython3",
   "version": "3.11.3"
  },
  "orig_nbformat": 4
 },
 "nbformat": 4,
 "nbformat_minor": 2
}
