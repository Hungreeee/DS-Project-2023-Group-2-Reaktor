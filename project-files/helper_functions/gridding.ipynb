{
 "cells": [
  {
   "cell_type": "code",
   "execution_count": 3,
   "metadata": {},
   "outputs": [],
   "source": [
    "import h3\n",
    "import pandas as pd\n",
    "import numpy as np\n",
    "\n",
    "# This is for importing from other folders\n",
    "# import sys\n",
    "# sys.path.append('./project-files/helper_functions/')\n",
    "\n",
    "from gridding import h3_grid "
   ]
  },
  {
   "cell_type": "code",
   "execution_count": 4,
   "metadata": {},
   "outputs": [
    {
     "name": "stdout",
     "output_type": "stream",
     "text": [
      "<class 'pandas.core.frame.DataFrame'>\n",
      "Int64Index: 11398117 entries, 0 to 987437\n",
      "Data columns (total 6 columns):\n",
      " #   Column          Dtype  \n",
      "---  ------          -----  \n",
      " 0   ScientificName  object \n",
      " 1   TaxonID         object \n",
      " 2   Date            object \n",
      " 3   Latitude        float64\n",
      " 4   Longitude       float64\n",
      " 5   Municipality    object \n",
      "dtypes: float64(2), object(4)\n",
      "memory usage: 608.7+ MB\n"
     ]
    }
   ],
   "source": [
    "# Read and concatnate data into a single dataframe\n",
    "df = pd.DataFrame({})\n",
    "\n",
    "for year in range(2000, 2024, 2):\n",
    "  df_year = pd.read_csv(f'../../data/birds/{year}-{year+1}.csv')\n",
    "  df = pd.concat([df, df_year])\n",
    "\n",
    "df.info()"
   ]
  },
  {
   "cell_type": "code",
   "execution_count": 5,
   "metadata": {},
   "outputs": [
    {
     "data": {
      "text/html": [
       "<div>\n",
       "<style scoped>\n",
       "    .dataframe tbody tr th:only-of-type {\n",
       "        vertical-align: middle;\n",
       "    }\n",
       "\n",
       "    .dataframe tbody tr th {\n",
       "        vertical-align: top;\n",
       "    }\n",
       "\n",
       "    .dataframe thead th {\n",
       "        text-align: right;\n",
       "    }\n",
       "</style>\n",
       "<table border=\"1\" class=\"dataframe\">\n",
       "  <thead>\n",
       "    <tr style=\"text-align: right;\">\n",
       "      <th></th>\n",
       "      <th>ScientificName</th>\n",
       "      <th>TaxonID</th>\n",
       "      <th>Date</th>\n",
       "      <th>Latitude</th>\n",
       "      <th>Longitude</th>\n",
       "      <th>Municipality</th>\n",
       "    </tr>\n",
       "  </thead>\n",
       "  <tbody>\n",
       "    <tr>\n",
       "      <th>0</th>\n",
       "      <td>Strix aluco</td>\n",
       "      <td>http://tun.fi/MX.28998</td>\n",
       "      <td>2000-01-01 - 2000-12-31</td>\n",
       "      <td>60.3409</td>\n",
       "      <td>25.2425</td>\n",
       "      <td>Sipoo</td>\n",
       "    </tr>\n",
       "    <tr>\n",
       "      <th>1</th>\n",
       "      <td>Fringilla coelebs</td>\n",
       "      <td>http://tun.fi/MX.36237</td>\n",
       "      <td>2001-07-24</td>\n",
       "      <td>60.1770</td>\n",
       "      <td>24.2020</td>\n",
       "      <td>Siuntio</td>\n",
       "    </tr>\n",
       "    <tr>\n",
       "      <th>2</th>\n",
       "      <td>Certhia familiaris</td>\n",
       "      <td>http://tun.fi/MX.34616</td>\n",
       "      <td>2000-05-14</td>\n",
       "      <td>60.4421</td>\n",
       "      <td>24.5190</td>\n",
       "      <td>Vihti</td>\n",
       "    </tr>\n",
       "    <tr>\n",
       "      <th>3</th>\n",
       "      <td>Cyanistes caeruleus</td>\n",
       "      <td>http://tun.fi/MX.34574</td>\n",
       "      <td>2000-04-25</td>\n",
       "      <td>61.5930</td>\n",
       "      <td>27.3188</td>\n",
       "      <td>Mikkeli</td>\n",
       "    </tr>\n",
       "    <tr>\n",
       "      <th>4</th>\n",
       "      <td>Corvus monedula</td>\n",
       "      <td>http://tun.fi/MX.37142</td>\n",
       "      <td>2001-04-22</td>\n",
       "      <td>60.1770</td>\n",
       "      <td>24.2020</td>\n",
       "      <td>Siuntio</td>\n",
       "    </tr>\n",
       "  </tbody>\n",
       "</table>\n",
       "</div>"
      ],
      "text/plain": [
       "        ScientificName                 TaxonID                     Date  \\\n",
       "0          Strix aluco  http://tun.fi/MX.28998  2000-01-01 - 2000-12-31   \n",
       "1    Fringilla coelebs  http://tun.fi/MX.36237               2001-07-24   \n",
       "2   Certhia familiaris  http://tun.fi/MX.34616               2000-05-14   \n",
       "3  Cyanistes caeruleus  http://tun.fi/MX.34574               2000-04-25   \n",
       "4      Corvus monedula  http://tun.fi/MX.37142               2001-04-22   \n",
       "\n",
       "   Latitude  Longitude Municipality  \n",
       "0   60.3409    25.2425        Sipoo  \n",
       "1   60.1770    24.2020      Siuntio  \n",
       "2   60.4421    24.5190        Vihti  \n",
       "3   61.5930    27.3188      Mikkeli  \n",
       "4   60.1770    24.2020      Siuntio  "
      ]
     },
     "execution_count": 5,
     "metadata": {},
     "output_type": "execute_result"
    }
   ],
   "source": [
    "# Drop NAs from Lat and Lon. Otherwise h3 cannot work with these.\n",
    "df.dropna(subset=['Latitude', 'Longitude'], inplace=True)\n",
    "df.head()"
   ]
  },
  {
   "cell_type": "code",
   "execution_count": 2,
   "metadata": {},
   "outputs": [
    {
     "ename": "NameError",
     "evalue": "name 'h3_grid' is not defined",
     "output_type": "error",
     "traceback": [
      "\u001b[0;31m---------------------------------------------------------------------------\u001b[0m",
      "\u001b[0;31mNameError\u001b[0m                                 Traceback (most recent call last)",
      "\u001b[1;32m/Users/behramulukir/Documents/Data Science Project/DS-Project-2023-Group-2-Reaktor/project-files/helper_functions/gridding.ipynb Cell 4\u001b[0m line \u001b[0;36m1\n\u001b[0;32m----> <a href='vscode-notebook-cell:/Users/behramulukir/Documents/Data%20Science%20Project/DS-Project-2023-Group-2-Reaktor/project-files/helper_functions/gridding.ipynb#W3sZmlsZQ%3D%3D?line=0'>1</a>\u001b[0m grid_object \u001b[39m=\u001b[39m h3_grid()\n\u001b[1;32m      <a href='vscode-notebook-cell:/Users/behramulukir/Documents/Data%20Science%20Project/DS-Project-2023-Group-2-Reaktor/project-files/helper_functions/gridding.ipynb#W3sZmlsZQ%3D%3D?line=1'>2</a>\u001b[0m grid_object\u001b[39m.\u001b[39mfit(df)\n",
      "\u001b[0;31mNameError\u001b[0m: name 'h3_grid' is not defined"
     ]
    }
   ],
   "source": [
    "grid_object = h3_grid()\n",
    "grid_object.fit(df)"
   ]
  },
  {
   "cell_type": "code",
   "execution_count": 1,
   "metadata": {},
   "outputs": [
    {
     "ename": "NameError",
     "evalue": "name 'grid_object' is not defined",
     "output_type": "error",
     "traceback": [
      "\u001b[0;31m---------------------------------------------------------------------------\u001b[0m",
      "\u001b[0;31mNameError\u001b[0m                                 Traceback (most recent call last)",
      "\u001b[1;32m/Users/behramulukir/Documents/Data Science Project/DS-Project-2023-Group-2-Reaktor/project-files/helper_functions/gridding.ipynb Cell 5\u001b[0m line \u001b[0;36m1\n\u001b[0;32m----> <a href='vscode-notebook-cell:/Users/behramulukir/Documents/Data%20Science%20Project/DS-Project-2023-Group-2-Reaktor/project-files/helper_functions/gridding.ipynb#W4sZmlsZQ%3D%3D?line=0'>1</a>\u001b[0m grid_object\u001b[39m.\u001b[39mgrid_info()\n",
      "\u001b[0;31mNameError\u001b[0m: name 'grid_object' is not defined"
     ]
    }
   ],
   "source": [
    "grid_object.grid_info()"
   ]
  }
 ],
 "metadata": {
  "kernelspec": {
   "display_name": "Python 3",
   "language": "python",
   "name": "python3"
  },
  "language_info": {
   "codemirror_mode": {
    "name": "ipython",
    "version": 3
   },
   "file_extension": ".py",
   "mimetype": "text/x-python",
   "name": "python",
   "nbconvert_exporter": "python",
   "pygments_lexer": "ipython3",
   "version": "3.10.4"
  },
  "orig_nbformat": 4
 },
 "nbformat": 4,
 "nbformat_minor": 2
}
