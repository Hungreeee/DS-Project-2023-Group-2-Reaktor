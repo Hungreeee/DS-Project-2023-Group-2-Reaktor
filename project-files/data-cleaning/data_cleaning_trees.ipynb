{
 "cells": [
  {
   "cell_type": "code",
   "execution_count": null,
   "metadata": {},
   "outputs": [],
   "source": [
    "import pandas as pd"
   ]
  },
  {
   "cell_type": "code",
   "execution_count": null,
   "metadata": {},
   "outputs": [],
   "source": [
    "# I have uploaded the \"tree_data_sample.csv\" file to this session\n",
    "df = pd.read_csv(\"../../data/samples/tree_data_sample.csv\")\n",
    "df\n",
    "\n",
    "# Another option is to download the citable file through this link https://laji.fi/en/citation/HBF.78994?locale=en\n",
    "# This table would have full variables, but somehow it only has 115295 rows"
   ]
  },
  {
   "cell_type": "code",
   "execution_count": null,
   "metadata": {},
   "outputs": [],
   "source": [
    "# Remove 1800s, 1900s\n",
    "df = df[~df['date'].str.startswith(('18', '19'), na=False)]"
   ]
  }
 ],
 "metadata": {
  "language_info": {
   "name": "python"
  },
  "orig_nbformat": 4
 },
 "nbformat": 4,
 "nbformat_minor": 2
}
