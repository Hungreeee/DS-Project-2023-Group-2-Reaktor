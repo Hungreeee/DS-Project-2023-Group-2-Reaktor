{
 "cells": [
  {
   "cell_type": "code",
   "execution_count": 5,
   "metadata": {},
   "outputs": [],
   "source": [
    "import h3\n",
    "import pandas as pd\n",
    "import numpy as np\n",
    "import sys\n",
    "sys.path.append('../')\n",
    "sys.path.append('project-files')\n",
    "from helper_functions.gridding import h3_grid\n",
    "from web_interface.func_import import plot_grid_map, load_geojson"
   ]
  },
  {
   "cell_type": "code",
   "execution_count": 16,
   "metadata": {},
   "outputs": [
    {
     "name": "stdout",
     "output_type": "stream",
     "text": [
      "   Longitude   Latitude                                    Species  Year\n",
      "0  23.377229  61.125326  sitruunaperhonen (fi) — Gonepteryx rhamni  2004\n",
      "1  25.696003  61.845194  sitruunaperhonen (fi) — Gonepteryx rhamni  2004\n",
      "2  27.826245  62.998091  sitruunaperhonen (fi) — Gonepteryx rhamni  2004\n",
      "3  28.683186  61.162963  sitruunaperhonen (fi) — Gonepteryx rhamni  2004\n",
      "4  28.683186  61.162963  sitruunaperhonen (fi) — Gonepteryx rhamni  2004\n"
     ]
    }
   ],
   "source": [
    "df = pd.read_csv('../../data/butterfly/gonepteryx1.csv', usecols=[\"Species\", \"WGS84 N\", \"WGS84 E\", \"Time\"]).dropna()\n",
    "df = df.rename(columns={\"WGS84 N\": \"Longitude\", \"WGS84 E\": \"Latitude\"})\n",
    "df['Latitude'], df['Longitude'] = df['Longitude'], df['Latitude'] #Swap because lat before long for our map!\n",
    "df['Year'] = df['Time'].str.extract(r'(\\d{4})') #regex for 4 consecutive digits to chatch the year\n",
    "df = df.drop(columns=['Time'])\n",
    "print(df.head())"
   ]
  },
  {
   "cell_type": "code",
   "execution_count": 30,
   "metadata": {},
   "outputs": [
    {
     "name": "stderr",
     "output_type": "stream",
     "text": [
      "e:\\Aalto\\Data Science project\\DS-Project-2023-Group-2-Reaktor\\project-files\\web_interface\\..\\helper_functions\\gridding.py:21: SettingWithCopyWarning:\n",
      "\n",
      "\n",
      "A value is trying to be set on a copy of a slice from a DataFrame.\n",
      "Try using .loc[row_indexer,col_indexer] = value instead\n",
      "\n",
      "See the caveats in the documentation: https://pandas.pydata.org/pandas-docs/stable/user_guide/indexing.html#returning-a-view-versus-a-copy\n",
      "\n",
      "e:\\Aalto\\Data Science project\\DS-Project-2023-Group-2-Reaktor\\project-files\\web_interface\\..\\helper_functions\\gridding.py:21: SettingWithCopyWarning:\n",
      "\n",
      "\n",
      "A value is trying to be set on a copy of a slice from a DataFrame.\n",
      "Try using .loc[row_indexer,col_indexer] = value instead\n",
      "\n",
      "See the caveats in the documentation: https://pandas.pydata.org/pandas-docs/stable/user_guide/indexing.html#returning-a-view-versus-a-copy\n",
      "\n",
      "e:\\Aalto\\Data Science project\\DS-Project-2023-Group-2-Reaktor\\project-files\\web_interface\\..\\helper_functions\\gridding.py:21: SettingWithCopyWarning:\n",
      "\n",
      "\n",
      "A value is trying to be set on a copy of a slice from a DataFrame.\n",
      "Try using .loc[row_indexer,col_indexer] = value instead\n",
      "\n",
      "See the caveats in the documentation: https://pandas.pydata.org/pandas-docs/stable/user_guide/indexing.html#returning-a-view-versus-a-copy\n",
      "\n",
      "e:\\Aalto\\Data Science project\\DS-Project-2023-Group-2-Reaktor\\project-files\\web_interface\\..\\helper_functions\\gridding.py:21: SettingWithCopyWarning:\n",
      "\n",
      "\n",
      "A value is trying to be set on a copy of a slice from a DataFrame.\n",
      "Try using .loc[row_indexer,col_indexer] = value instead\n",
      "\n",
      "See the caveats in the documentation: https://pandas.pydata.org/pandas-docs/stable/user_guide/indexing.html#returning-a-view-versus-a-copy\n",
      "\n",
      "e:\\Aalto\\Data Science project\\DS-Project-2023-Group-2-Reaktor\\project-files\\web_interface\\..\\helper_functions\\gridding.py:21: SettingWithCopyWarning:\n",
      "\n",
      "\n",
      "A value is trying to be set on a copy of a slice from a DataFrame.\n",
      "Try using .loc[row_indexer,col_indexer] = value instead\n",
      "\n",
      "See the caveats in the documentation: https://pandas.pydata.org/pandas-docs/stable/user_guide/indexing.html#returning-a-view-versus-a-copy\n",
      "\n",
      "e:\\Aalto\\Data Science project\\DS-Project-2023-Group-2-Reaktor\\project-files\\web_interface\\..\\helper_functions\\gridding.py:21: SettingWithCopyWarning:\n",
      "\n",
      "\n",
      "A value is trying to be set on a copy of a slice from a DataFrame.\n",
      "Try using .loc[row_indexer,col_indexer] = value instead\n",
      "\n",
      "See the caveats in the documentation: https://pandas.pydata.org/pandas-docs/stable/user_guide/indexing.html#returning-a-view-versus-a-copy\n",
      "\n",
      "e:\\Aalto\\Data Science project\\DS-Project-2023-Group-2-Reaktor\\project-files\\web_interface\\..\\helper_functions\\gridding.py:21: SettingWithCopyWarning:\n",
      "\n",
      "\n",
      "A value is trying to be set on a copy of a slice from a DataFrame.\n",
      "Try using .loc[row_indexer,col_indexer] = value instead\n",
      "\n",
      "See the caveats in the documentation: https://pandas.pydata.org/pandas-docs/stable/user_guide/indexing.html#returning-a-view-versus-a-copy\n",
      "\n",
      "e:\\Aalto\\Data Science project\\DS-Project-2023-Group-2-Reaktor\\project-files\\web_interface\\..\\helper_functions\\gridding.py:21: SettingWithCopyWarning:\n",
      "\n",
      "\n",
      "A value is trying to be set on a copy of a slice from a DataFrame.\n",
      "Try using .loc[row_indexer,col_indexer] = value instead\n",
      "\n",
      "See the caveats in the documentation: https://pandas.pydata.org/pandas-docs/stable/user_guide/indexing.html#returning-a-view-versus-a-copy\n",
      "\n",
      "e:\\Aalto\\Data Science project\\DS-Project-2023-Group-2-Reaktor\\project-files\\web_interface\\..\\helper_functions\\gridding.py:21: SettingWithCopyWarning:\n",
      "\n",
      "\n",
      "A value is trying to be set on a copy of a slice from a DataFrame.\n",
      "Try using .loc[row_indexer,col_indexer] = value instead\n",
      "\n",
      "See the caveats in the documentation: https://pandas.pydata.org/pandas-docs/stable/user_guide/indexing.html#returning-a-view-versus-a-copy\n",
      "\n"
     ]
    }
   ],
   "source": [
    "for year in range(2000, 2009):\n",
    "    new_df =  df[(df['Year'].astype(int) == year)]\n",
    "\n",
    "    grid_object = h3_grid()\n",
    "    grid_object.fit(new_df)\n",
    "    df_h3 = grid_object.grid_info()\n",
    "    fig = plot_grid_map(df_h3, load_geojson(df_h3))\n",
    "    # fig.show()\n",
    "\n",
    "    fig.update_layout(\n",
    "        width=1000,\n",
    "        height=800,\n",
    "    )\n",
    "    fig.write_html(f\"./precomp_data/grid_map/butterfly_{year}.html\")\n"
   ]
  }
 ],
 "metadata": {
  "kernelspec": {
   "display_name": "Python 3",
   "language": "python",
   "name": "python3"
  },
  "language_info": {
   "codemirror_mode": {
    "name": "ipython",
    "version": 3
   },
   "file_extension": ".py",
   "mimetype": "text/x-python",
   "name": "python",
   "nbconvert_exporter": "python",
   "pygments_lexer": "ipython3",
   "version": "3.12.0"
  }
 },
 "nbformat": 4,
 "nbformat_minor": 2
}
