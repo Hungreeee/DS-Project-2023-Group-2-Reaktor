{
 "cells": [
  {
   "cell_type": "code",
   "execution_count": null,
   "metadata": {},
   "outputs": [],
   "source": [
    "import pandas as pd\n",
    "import os"
   ]
  },
  {
   "cell_type": "code",
   "execution_count": null,
   "metadata": {},
   "outputs": [],
   "source": [
    "# Raw data is .tsv files requested as citable tables stored in a folder\n",
    "# called 'Raw data' (need to be added if not exist, or one can change the directory)\n",
    "\n",
    "# Load the raw data and do some processing\n",
    "# For the date, currently there are 2 formats in the data: \"YYYY-MM-DD\" and \"YYYY-MM-DD - YYYY-MM-DD\"\n",
    "for filename in os.listdir(f\"{os.getcwd()}/Raw data\"):\n",
    "   with open(os.path.join(f\"{os.getcwd()}/Raw data\", filename), 'r') as f:\n",
    "        df = pd.read_csv(f\"Raw data/{filename}\", delimiter='\\t')\n",
    "\n",
    "        df = df[df['Gathering.Interpretations.Country'] == 'Suomi'] # Finnish observations only\n",
    "\n",
    "        # Keep only relevant information, no municipality ID available from the document\n",
    "        df = df[['Taxon.ScientificName', 'Taxon.ID', 'Gathering.DisplayDateTime', 'Gathering.Conversions.WGS84CenterPoint.Lat(N)',\n",
    "                'Gathering.Conversions.WGS84CenterPoint.Lon(E)', 'Gathering.Interpretations.Municipality']] \n",
    "        \n",
    "        df.columns = ['ScientificName', 'TaxonID', 'Date', 'Latitude', 'Longitude', 'Municipality'] # Rename the columns\n",
    "\n",
    "        # Load data to csv/excel files\n",
    "        df.to_csv(f\"data/some_folder/{filename[:-3]}csv\", index=False)\n",
    "        # df.to_excel(f\"Load data/{filename[:-3]}xlsx\", index=False)"
   ]
  }
 ],
 "metadata": {
  "kernelspec": {
   "display_name": "Python 3",
   "language": "python",
   "name": "python3"
  },
  "language_info": {
   "codemirror_mode": {
    "name": "ipython",
    "version": 3
   },
   "file_extension": ".py",
   "mimetype": "text/x-python",
   "name": "python",
   "nbconvert_exporter": "python",
   "pygments_lexer": "ipython3",
   "version": "3.11.1"
  }
 },
 "nbformat": 4,
 "nbformat_minor": 2
}
