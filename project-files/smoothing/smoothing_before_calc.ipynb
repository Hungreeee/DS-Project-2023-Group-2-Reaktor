{
 "cells": [
  {
   "cell_type": "code",
   "execution_count": null,
   "metadata": {},
   "outputs": [],
   "source": [
    "import pandas as pd\n",
    "\n",
    "%run '../data-cleaning/data_cleaning_trees.ipynb'\n",
    "from data_cleaning_trees import df"
   ]
  },
  {
   "cell_type": "code",
   "execution_count": null,
   "metadata": {},
   "outputs": [],
   "source": [
    "#Round up latitude and longtitude to define approximate fields\n",
    "df['lat'] = df['lat'].round(1)\n",
    "df['lon'] = df['lon'].round(1)\n",
    "\n",
    "#In every location, group by lon, lat, and name to see how many of each tree type present\n",
    "groupedDf = df.groupby(['lon','lat','scientificName'])['scientificName'].count()\n",
    "groupedDf = groupedDf.rename(\"count\").reset_index()\n",
    "\n",
    "#Group counts by tree types to make smoothing separately for each type\n",
    "multiple_lists = [x for _, x in groupedDf.groupby('scientificName')]\n",
    "rolling_window = []\n",
    "\n",
    "final_df = pd.DataFrame()\n",
    "\n",
    "for i in range(0, 11):\n",
    "  #Sort values according to lon and lat to get closer points in an order\n",
    "  multiple_lists[i] = multiple_lists[i].sort_values(['lon', 'lat'])\n",
    "\n",
    "  #Remove other columns so rolling window work\n",
    "  rolling_window.append(multiple_lists[i][{'count'}])\n",
    "\n",
    "  #Rolling window with size 5 for each type\n",
    "  rolling_window[i] = rolling_window[i].rolling(window=5, closed='both').mean()\n",
    "\n",
    "  #Adding lon, lat, and name back\n",
    "  rolling_window[i]['lon'] = multiple_lists[i]['lon']\n",
    "  rolling_window[i]['lat'] = multiple_lists[i]['lat']\n",
    "  rolling_window[i]['scientificName'] = multiple_lists[i]['scientificName']\n",
    "\n",
    "  #Round zero because there can't be decimal observations\n",
    "  rolling_window[i]['count'] = rolling_window[i]['count'].round(0)\n",
    "\n",
    "  #Create the final data frame\n",
    "  final_df = final_df.append(rolling_window[i])\n",
    "\n",
    "final_df"
   ]
  },
  {
   "cell_type": "code",
   "execution_count": null,
   "metadata": {},
   "outputs": [],
   "source": [
    "#NOT FINISHED\n",
    "\n",
    "#Calculating biodiversity indexes\n",
    "\n",
    "#Simpson's Index\n",
    "\n",
    "#Group by lon and lat, and sum count\n",
    "total_tree_df = final_df[{'lon', 'lat', 'count'}].groupby(['lon','lat'])['count'].sum().reset_index()\n",
    "\n",
    "#Loop over all elements and calculate ratio\n",
    "ratio_df = pd.DataFrame()\n",
    "for i in final_df:\n",
    "  line = total_tree_df.loc[(total_tree_df['lon'] == i[0]) & (total_tree_df['lat'] == i[1])]\n",
    "  #ratio = i[0] / line['count']\n",
    "  print((line))\n",
    "  ratio_df = ratio_df.append(pd.DataFrame([i[0], i[1], ratio]))\n",
    "\n",
    "total_tree_df\n"
   ]
  }
 ],
 "metadata": {
  "language_info": {
   "name": "python"
  },
  "orig_nbformat": 4
 },
 "nbformat": 4,
 "nbformat_minor": 2
}
