{
 "cells": [
  {
   "cell_type": "code",
   "execution_count": 2,
   "metadata": {},
   "outputs": [],
   "source": [
    "import pandas as pd\n",
    "import numpy as np\n",
    "import matplotlib.pyplot as plt"
   ]
  },
  {
   "cell_type": "code",
   "execution_count": null,
   "metadata": {},
   "outputs": [],
   "source": [
    "df = pd.read_excel(r\"laji-data.xlsx\")\n",
    "df = df[df['Country'] == 'Suomi']\n",
    "df = df[['Time', 'Number']]\n",
    "df['Number'] = df['Number'].fillna(1).astype(float)\n",
    "df['Time'] = df['Time'].str[:4]\n",
    "df['Time'] = pd.to_datetime(df['Time'])\n",
    "df = df.groupby(df['Time'].dt.year)[['Number']].sum()\n",
    "df\n"
   ]
  },
  {
   "cell_type": "code",
   "execution_count": null,
   "metadata": {},
   "outputs": [],
   "source": [
    "setup = list(range(min(df.index), max(df.index)+1, 15))\n",
    "setup.append(2023)\n",
    "plt.xticks(setup)\n",
    "plt.bar(df.index, df.Number)"
   ]
  },
  {
   "cell_type": "markdown",
   "metadata": {},
   "source": [
    "Yellow-breasted buntings live in the Europe and migrate to Asis during winter. They used to be one of the most popular species and was listed as 'Least Concerned' before 2004. After that, they had decreased tremendously in population in the next 10 years and now they are 'Critically Endangered'. The main reason behind this is the mass hunting for delicacies in China. In Finland, even before the decline in population, yellow-breasted bunting had been a rare species to record. Its extinction in Finland is also because of the habitat loss and climate change. The chart above shows that there was no record after 2004 of this species. Recently, there are projects that help to conserve and repopulate the birds, and that might explain the observations in 2023.\n"
   ]
  }
 ],
 "metadata": {
  "kernelspec": {
   "display_name": "base",
   "language": "python",
   "name": "python3"
  },
  "language_info": {
   "codemirror_mode": {
    "name": "ipython",
    "version": 3
   },
   "file_extension": ".py",
   "mimetype": "text/x-python",
   "name": "python",
   "nbconvert_exporter": "python",
   "pygments_lexer": "ipython3",
   "version": "3.11.4"
  }
 },
 "nbformat": 4,
 "nbformat_minor": 2
}
